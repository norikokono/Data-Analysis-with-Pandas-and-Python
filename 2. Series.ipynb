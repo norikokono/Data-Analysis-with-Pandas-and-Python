{
 "cells": [
  {
   "cell_type": "markdown",
   "id": "af383461",
   "metadata": {},
   "source": [
    "# Create A Series Objects from a Python List"
   ]
  },
  {
   "cell_type": "markdown",
   "id": "0aa10264",
   "metadata": {},
   "source": [
    "A Series is an one-dimentional labeled array. It is sort of like a more powerful version of Python list.\n",
    "consistancy  \n",
    "Call Series Method (construtor methods) to create new object"
   ]
  },
  {
   "cell_type": "code",
   "execution_count": 2,
   "id": "b76b7217",
   "metadata": {},
   "outputs": [],
   "source": [
    "import pandas as pd"
   ]
  },
  {
   "cell_type": "code",
   "execution_count": 4,
   "id": "26a6748f",
   "metadata": {},
   "outputs": [
    {
     "data": {
      "text/plain": [
       "0     Chocolate\n",
       "1       Vanilla\n",
       "2    Strawberry\n",
       "3    Rum Raisin\n",
       "dtype: object"
      ]
     },
     "execution_count": 4,
     "metadata": {},
     "output_type": "execute_result"
    }
   ],
   "source": [
    "ice_cream = [\"Chocolate\", \"Vanilla\", \"Strawberry\", \"Rum Raisin\"]\n",
    "# dot notation a dot or a period: step down, or step into the lobby of this library\n",
    "# . + tab\n",
    "pd.Series(ice_cream)\n",
    "# Internal Python lingos object for string\n",
    "# left: index"
   ]
  },
  {
   "cell_type": "code",
   "execution_count": 5,
   "id": "c031b283",
   "metadata": {},
   "outputs": [
    {
     "data": {
      "text/plain": [
       "0     4\n",
       "1     8\n",
       "2    15\n",
       "3    16\n",
       "4    23\n",
       "5    42\n",
       "dtype: int64"
      ]
     },
     "execution_count": 5,
     "metadata": {},
     "output_type": "execute_result"
    }
   ],
   "source": [
    "lottery = [4, 8, 15, 16, 23, 42]\n",
    "# pd.Se + tab -> autocompleated (more than one things,use arrow keys)\n",
    "# Constructor Method()\n",
    "pd.Series(lottery)"
   ]
  },
  {
   "cell_type": "code",
   "execution_count": 6,
   "id": "90ac11ec",
   "metadata": {},
   "outputs": [
    {
     "data": {
      "text/plain": [
       "0     True\n",
       "1    False\n",
       "2    False\n",
       "3    False\n",
       "4     True\n",
       "dtype: bool"
      ]
     },
     "execution_count": 6,
     "metadata": {},
     "output_type": "execute_result"
    }
   ],
   "source": [
    "registrations = [True, False, False, False, True]\n",
    "pd.Series(registrations)"
   ]
  },
  {
   "cell_type": "markdown",
   "id": "8ace1c04",
   "metadata": {},
   "source": [
    "# Create a Series Object from a Dictionary"
   ]
  },
  {
   "cell_type": "code",
   "execution_count": 7,
   "id": "a3482936",
   "metadata": {},
   "outputs": [
    {
     "data": {
      "text/plain": [
       "Aardvark            An animal\n",
       "Banana      A delocious fruit\n",
       "Cyan                    color\n",
       "dtype: object"
      ]
     },
     "execution_count": 7,
     "metadata": {},
     "output_type": "execute_result"
    }
   ],
   "source": [
    "# It allows you to have identifiers or index labels that are not numeric.\n",
    "# The index labels in a Series actually do not have to be unique!\n",
    "# A Series is a kind of mishmash of a Python List and Python Dictionary, it combines the best features of both of them.\n",
    "webster = {\"Aardvark\" : \"An animal\",\n",
    "           \"Banana\": \"A delocious fruit\",\n",
    "           \"Cyan\": \"color\"}\n",
    "pd.Series(webster)"
   ]
  },
  {
   "cell_type": "markdown",
   "id": "b4f560df",
   "metadata": {},
   "source": [
    "# Intro to Attributes"
   ]
  },
  {
   "cell_type": "markdown",
   "id": "029d0314",
   "metadata": {},
   "source": [
    "Attributes return information about the object"
   ]
  },
  {
   "cell_type": "code",
   "execution_count": 8,
   "id": "314c4db4",
   "metadata": {},
   "outputs": [
    {
     "data": {
      "text/plain": [
       "\"Pandas is executing the very last line within the cell. So it's giving us that Series, but it's not actually saving\\nin the Series anywhere in memory. In order to use and reference the Series later, we'll have to store it in\\nthe variable, or rather point a variable to it.\""
      ]
     },
     "execution_count": 8,
     "metadata": {},
     "output_type": "execute_result"
    }
   ],
   "source": [
    "about_me = [\"Smart\", \"Handsome\", \"Charming\", \"Brilliant\", \"Humble\"]\n",
    "pd.Series(about_me)\n",
    "\"\"\"Pandas is executing the very last line within the cell. So it's giving us that Series, but it's not actually saving\n",
    "in the Series anywhere in memory. In order to use and reference the Series later, we'll have to store it in\n",
    "the variable, or rather point a variable to it.\"\"\""
   ]
  },
  {
   "cell_type": "code",
   "execution_count": 9,
   "id": "7e306c2c",
   "metadata": {},
   "outputs": [
    {
     "data": {
      "text/plain": [
       "0        Smart\n",
       "1     Handsome\n",
       "2     Charming\n",
       "3    Brilliant\n",
       "4       Humble\n",
       "dtype: object"
      ]
     },
     "execution_count": 9,
     "metadata": {},
     "output_type": "execute_result"
    }
   ],
   "source": [
    "# Store Series\n",
    "# s: variable name. The variable s is going to be used to point to it,\n",
    "# and then we're going to have Series stored in the variable s.\n",
    "s = pd.Series(about_me)\n",
    "s"
   ]
  },
  {
   "cell_type": "code",
   "execution_count": 10,
   "id": "e5e21bed",
   "metadata": {},
   "outputs": [
    {
     "data": {
      "text/plain": [
       "array(['Smart', 'Handsome', 'Charming', 'Brilliant', 'Humble'],\n",
       "      dtype=object)"
      ]
     },
     "execution_count": 10,
     "metadata": {},
     "output_type": "execute_result"
    }
   ],
   "source": [
    "# . + tab\n",
    "#.values is an attribute, so it doesn't require parentheses at the end.\n",
    "# Values is going to return an array of all the values whithin the Series.\n",
    "# Attributes: It is not manipulating, it's not changing those values.\n",
    "# Just give as an array\n",
    "s.values"
   ]
  },
  {
   "cell_type": "code",
   "execution_count": 11,
   "id": "b1bfd769",
   "metadata": {},
   "outputs": [
    {
     "data": {
      "text/plain": [
       "RangeIndex(start=0, stop=5, step=1)"
      ]
     },
     "execution_count": 11,
     "metadata": {},
     "output_type": "execute_result"
    }
   ],
   "source": [
    "s.index"
   ]
  },
  {
   "cell_type": "code",
   "execution_count": 12,
   "id": "f6dab845",
   "metadata": {},
   "outputs": [
    {
     "data": {
      "text/plain": [
       "dtype('O')"
      ]
     },
     "execution_count": 12,
     "metadata": {},
     "output_type": "execute_result"
    }
   ],
   "source": [
    "s.dtype\n",
    "# 0: object"
   ]
  },
  {
   "cell_type": "code",
   "execution_count": 13,
   "id": "d7819bc1",
   "metadata": {},
   "outputs": [],
   "source": [
    "#Attributes: find out information about the components that make up a Series.\n",
    "#Sometimes give summaty or description about a Series, but they don't modify it or do anthing with it."
   ]
  },
  {
   "cell_type": "markdown",
   "id": "f0ea2340",
   "metadata": {},
   "source": [
    "# Intro to Methods"
   ]
  },
  {
   "cell_type": "code",
   "execution_count": 14,
   "id": "89524158",
   "metadata": {},
   "outputs": [
    {
     "data": {
      "text/plain": [
       "0    2.99\n",
       "1    4.45\n",
       "2    1.36\n",
       "dtype: float64"
      ]
     },
     "execution_count": 14,
     "metadata": {},
     "output_type": "execute_result"
    }
   ],
   "source": [
    "prices = [2.99, 4.45, 1.36]\n",
    "pd.Series(prices)"
   ]
  },
  {
   "cell_type": "code",
   "execution_count": 15,
   "id": "468a8d84",
   "metadata": {},
   "outputs": [
    {
     "data": {
      "text/plain": [
       "0    2.99\n",
       "1    4.45\n",
       "2    1.36\n",
       "dtype: float64"
      ]
     },
     "execution_count": 15,
     "metadata": {},
     "output_type": "execute_result"
    }
   ],
   "source": [
    "s = pd.Series(prices)\n",
    "s"
   ]
  },
  {
   "cell_type": "code",
   "execution_count": 16,
   "id": "e3884f04",
   "metadata": {},
   "outputs": [
    {
     "data": {
      "text/plain": [
       "8.8"
      ]
     },
     "execution_count": 16,
     "metadata": {},
     "output_type": "execute_result"
    }
   ],
   "source": [
    "s.sum()"
   ]
  },
  {
   "cell_type": "code",
   "execution_count": 17,
   "id": "1aaebb0a",
   "metadata": {},
   "outputs": [
    {
     "data": {
      "text/plain": [
       "18.095480000000006"
      ]
     },
     "execution_count": 17,
     "metadata": {},
     "output_type": "execute_result"
    }
   ],
   "source": [
    "# 2.99 * 4.55 * 1.36\n",
    "s.product()"
   ]
  },
  {
   "cell_type": "code",
   "execution_count": 18,
   "id": "65ca10e6",
   "metadata": {},
   "outputs": [
    {
     "data": {
      "text/plain": [
       "2.9333333333333336"
      ]
     },
     "execution_count": 18,
     "metadata": {},
     "output_type": "execute_result"
    }
   ],
   "source": [
    "# average\n",
    "s.mean()"
   ]
  },
  {
   "cell_type": "markdown",
   "id": "fffa5299",
   "metadata": {},
   "source": [
    "# Parameters and Arguments"
   ]
  },
  {
   "cell_type": "code",
   "execution_count": 19,
   "id": "07a0ad5d",
   "metadata": {},
   "outputs": [],
   "source": [
    "# Methods have something called parameters, and parameters take values called arguments."
   ]
  },
  {
   "cell_type": "code",
   "execution_count": 20,
   "id": "b645ed69",
   "metadata": {},
   "outputs": [],
   "source": [
    "#  \"Parameters\"      \"Arguments\"\n",
    "# Difficulty - Easy, Medium, Hard\n",
    "# Volume - 1 through 10\n",
    "# Subtitles - True / False\n",
    "\n",
    "# Parameters: option - Arguments is the choice that we choose for the option."
   ]
  },
  {
   "cell_type": "code",
   "execution_count": 21,
   "id": "1641d269",
   "metadata": {},
   "outputs": [
    {
     "data": {
      "text/plain": [
       "0        Apple\n",
       "1       Orange\n",
       "2         Plum\n",
       "3        Grape\n",
       "4    Blueberry\n",
       "dtype: object"
      ]
     },
     "execution_count": 21,
     "metadata": {},
     "output_type": "execute_result"
    }
   ],
   "source": [
    "fruits = [\"Apple\", \"Orange\", \"Plum\", \"Grape\", \"Blueberry\"]\n",
    "weekdays = [\"Monday\", \"Tuesday\", \"Wednesday\", \"Thersday\", \"Friday\"]\n",
    "\n",
    "# () in side: Hold Shit key then press Tab press three for for times\n",
    "#pd.Series(fruits) first argument is data=None\n",
    "pd.Series(fruits)"
   ]
  },
  {
   "cell_type": "code",
   "execution_count": 22,
   "id": "34442202",
   "metadata": {},
   "outputs": [
    {
     "data": {
      "text/plain": [
       "Monday           Apple\n",
       "Tuesday         Orange\n",
       "Wednesday         Plum\n",
       "Thersday         Grape\n",
       "Friday       Blueberry\n",
       "dtype: object"
      ]
     },
     "execution_count": 22,
     "metadata": {},
     "output_type": "execute_result"
    }
   ],
   "source": [
    "pd.Series(fruits, weekdays) # second argument index=None"
   ]
  },
  {
   "cell_type": "code",
   "execution_count": 23,
   "id": "c3b3e50f",
   "metadata": {},
   "outputs": [
    {
     "data": {
      "text/plain": [
       "Monday           Apple\n",
       "Tuesday         Orange\n",
       "Wednesday         Plum\n",
       "Thersday         Grape\n",
       "Friday       Blueberry\n",
       "dtype: object"
      ]
     },
     "execution_count": 23,
     "metadata": {},
     "output_type": "execute_result"
    }
   ],
   "source": [
    "pd.Series(data = fruits, index = weekdays)"
   ]
  },
  {
   "cell_type": "code",
   "execution_count": 24,
   "id": "f9d64921",
   "metadata": {},
   "outputs": [
    {
     "data": {
      "text/plain": [
       "Monday           Apple\n",
       "Tuesday         Orange\n",
       "Wednesday         Plum\n",
       "Thersday         Grape\n",
       "Friday       Blueberry\n",
       "dtype: object"
      ]
     },
     "execution_count": 24,
     "metadata": {},
     "output_type": "execute_result"
    }
   ],
   "source": [
    "pd.Series(fruits, index = weekdays)"
   ]
  },
  {
   "cell_type": "code",
   "execution_count": 25,
   "id": "52286c6c",
   "metadata": {},
   "outputs": [
    {
     "data": {
      "text/plain": [
       "Monday            Apple\n",
       "Tuesday          Orange\n",
       "Wednesday          Plum\n",
       "Thersday          Grape\n",
       "Friday        Blueberry\n",
       "Monday       Watermelon\n",
       "dtype: object"
      ]
     },
     "execution_count": 25,
     "metadata": {},
     "output_type": "execute_result"
    }
   ],
   "source": [
    "fruits = [\"Apple\", \"Orange\", \"Plum\", \"Grape\", \"Blueberry\", \"Watermelon\"]\n",
    "weekdays = [\"Monday\", \"Tuesday\", \"Wednesday\", \"Thersday\", \"Friday\", \"Monday\"]\n",
    "\n",
    "pd.Series(data = fruits, index = weekdays)\n",
    "# Monday is duplicated!!!"
   ]
  },
  {
   "cell_type": "markdown",
   "id": "eedb362a",
   "metadata": {},
   "source": [
    "# Import Series with the read_csv Method"
   ]
  },
  {
   "cell_type": "code",
   "execution_count": 26,
   "id": "ed765b4b",
   "metadata": {},
   "outputs": [
    {
     "data": {
      "text/html": [
       "<div>\n",
       "<style scoped>\n",
       "    .dataframe tbody tr th:only-of-type {\n",
       "        vertical-align: middle;\n",
       "    }\n",
       "\n",
       "    .dataframe tbody tr th {\n",
       "        vertical-align: top;\n",
       "    }\n",
       "\n",
       "    .dataframe thead th {\n",
       "        text-align: right;\n",
       "    }\n",
       "</style>\n",
       "<table border=\"1\" class=\"dataframe\">\n",
       "  <thead>\n",
       "    <tr style=\"text-align: right;\">\n",
       "      <th></th>\n",
       "      <th>#</th>\n",
       "      <th>Name</th>\n",
       "      <th>Type 1</th>\n",
       "      <th>Type 2</th>\n",
       "      <th>Total</th>\n",
       "      <th>HP</th>\n",
       "      <th>Attack</th>\n",
       "      <th>Defense</th>\n",
       "      <th>Sp. Atk</th>\n",
       "      <th>Sp. Def</th>\n",
       "      <th>Speed</th>\n",
       "      <th>Generation</th>\n",
       "      <th>Legendary</th>\n",
       "    </tr>\n",
       "  </thead>\n",
       "  <tbody>\n",
       "    <tr>\n",
       "      <th>0</th>\n",
       "      <td>1</td>\n",
       "      <td>Bulbasaur</td>\n",
       "      <td>Grass</td>\n",
       "      <td>Poison</td>\n",
       "      <td>318</td>\n",
       "      <td>45</td>\n",
       "      <td>49</td>\n",
       "      <td>49</td>\n",
       "      <td>65</td>\n",
       "      <td>65</td>\n",
       "      <td>45</td>\n",
       "      <td>1</td>\n",
       "      <td>False</td>\n",
       "    </tr>\n",
       "    <tr>\n",
       "      <th>1</th>\n",
       "      <td>2</td>\n",
       "      <td>Ivysaur</td>\n",
       "      <td>Grass</td>\n",
       "      <td>Poison</td>\n",
       "      <td>405</td>\n",
       "      <td>60</td>\n",
       "      <td>62</td>\n",
       "      <td>63</td>\n",
       "      <td>80</td>\n",
       "      <td>80</td>\n",
       "      <td>60</td>\n",
       "      <td>1</td>\n",
       "      <td>False</td>\n",
       "    </tr>\n",
       "    <tr>\n",
       "      <th>2</th>\n",
       "      <td>3</td>\n",
       "      <td>Venusaur</td>\n",
       "      <td>Grass</td>\n",
       "      <td>Poison</td>\n",
       "      <td>525</td>\n",
       "      <td>80</td>\n",
       "      <td>82</td>\n",
       "      <td>83</td>\n",
       "      <td>100</td>\n",
       "      <td>100</td>\n",
       "      <td>80</td>\n",
       "      <td>1</td>\n",
       "      <td>False</td>\n",
       "    </tr>\n",
       "    <tr>\n",
       "      <th>3</th>\n",
       "      <td>3</td>\n",
       "      <td>VenusaurMega Venusaur</td>\n",
       "      <td>Grass</td>\n",
       "      <td>Poison</td>\n",
       "      <td>625</td>\n",
       "      <td>80</td>\n",
       "      <td>100</td>\n",
       "      <td>123</td>\n",
       "      <td>122</td>\n",
       "      <td>120</td>\n",
       "      <td>80</td>\n",
       "      <td>1</td>\n",
       "      <td>False</td>\n",
       "    </tr>\n",
       "    <tr>\n",
       "      <th>4</th>\n",
       "      <td>4</td>\n",
       "      <td>Charmander</td>\n",
       "      <td>Fire</td>\n",
       "      <td>NaN</td>\n",
       "      <td>309</td>\n",
       "      <td>39</td>\n",
       "      <td>52</td>\n",
       "      <td>43</td>\n",
       "      <td>60</td>\n",
       "      <td>50</td>\n",
       "      <td>65</td>\n",
       "      <td>1</td>\n",
       "      <td>False</td>\n",
       "    </tr>\n",
       "    <tr>\n",
       "      <th>...</th>\n",
       "      <td>...</td>\n",
       "      <td>...</td>\n",
       "      <td>...</td>\n",
       "      <td>...</td>\n",
       "      <td>...</td>\n",
       "      <td>...</td>\n",
       "      <td>...</td>\n",
       "      <td>...</td>\n",
       "      <td>...</td>\n",
       "      <td>...</td>\n",
       "      <td>...</td>\n",
       "      <td>...</td>\n",
       "      <td>...</td>\n",
       "    </tr>\n",
       "    <tr>\n",
       "      <th>795</th>\n",
       "      <td>719</td>\n",
       "      <td>Diancie</td>\n",
       "      <td>Rock</td>\n",
       "      <td>Fairy</td>\n",
       "      <td>600</td>\n",
       "      <td>50</td>\n",
       "      <td>100</td>\n",
       "      <td>150</td>\n",
       "      <td>100</td>\n",
       "      <td>150</td>\n",
       "      <td>50</td>\n",
       "      <td>6</td>\n",
       "      <td>True</td>\n",
       "    </tr>\n",
       "    <tr>\n",
       "      <th>796</th>\n",
       "      <td>719</td>\n",
       "      <td>DiancieMega Diancie</td>\n",
       "      <td>Rock</td>\n",
       "      <td>Fairy</td>\n",
       "      <td>700</td>\n",
       "      <td>50</td>\n",
       "      <td>160</td>\n",
       "      <td>110</td>\n",
       "      <td>160</td>\n",
       "      <td>110</td>\n",
       "      <td>110</td>\n",
       "      <td>6</td>\n",
       "      <td>True</td>\n",
       "    </tr>\n",
       "    <tr>\n",
       "      <th>797</th>\n",
       "      <td>720</td>\n",
       "      <td>HoopaHoopa Confined</td>\n",
       "      <td>Psychic</td>\n",
       "      <td>Ghost</td>\n",
       "      <td>600</td>\n",
       "      <td>80</td>\n",
       "      <td>110</td>\n",
       "      <td>60</td>\n",
       "      <td>150</td>\n",
       "      <td>130</td>\n",
       "      <td>70</td>\n",
       "      <td>6</td>\n",
       "      <td>True</td>\n",
       "    </tr>\n",
       "    <tr>\n",
       "      <th>798</th>\n",
       "      <td>720</td>\n",
       "      <td>HoopaHoopa Unbound</td>\n",
       "      <td>Psychic</td>\n",
       "      <td>Dark</td>\n",
       "      <td>680</td>\n",
       "      <td>80</td>\n",
       "      <td>160</td>\n",
       "      <td>60</td>\n",
       "      <td>170</td>\n",
       "      <td>130</td>\n",
       "      <td>80</td>\n",
       "      <td>6</td>\n",
       "      <td>True</td>\n",
       "    </tr>\n",
       "    <tr>\n",
       "      <th>799</th>\n",
       "      <td>721</td>\n",
       "      <td>Volcanion</td>\n",
       "      <td>Fire</td>\n",
       "      <td>Water</td>\n",
       "      <td>600</td>\n",
       "      <td>80</td>\n",
       "      <td>110</td>\n",
       "      <td>120</td>\n",
       "      <td>130</td>\n",
       "      <td>90</td>\n",
       "      <td>70</td>\n",
       "      <td>6</td>\n",
       "      <td>True</td>\n",
       "    </tr>\n",
       "  </tbody>\n",
       "</table>\n",
       "<p>800 rows × 13 columns</p>\n",
       "</div>"
      ],
      "text/plain": [
       "       #                   Name   Type 1  Type 2  Total  HP  Attack  Defense  \\\n",
       "0      1              Bulbasaur    Grass  Poison    318  45      49       49   \n",
       "1      2                Ivysaur    Grass  Poison    405  60      62       63   \n",
       "2      3               Venusaur    Grass  Poison    525  80      82       83   \n",
       "3      3  VenusaurMega Venusaur    Grass  Poison    625  80     100      123   \n",
       "4      4             Charmander     Fire     NaN    309  39      52       43   \n",
       "..   ...                    ...      ...     ...    ...  ..     ...      ...   \n",
       "795  719                Diancie     Rock   Fairy    600  50     100      150   \n",
       "796  719    DiancieMega Diancie     Rock   Fairy    700  50     160      110   \n",
       "797  720    HoopaHoopa Confined  Psychic   Ghost    600  80     110       60   \n",
       "798  720     HoopaHoopa Unbound  Psychic    Dark    680  80     160       60   \n",
       "799  721              Volcanion     Fire   Water    600  80     110      120   \n",
       "\n",
       "     Sp. Atk  Sp. Def  Speed  Generation  Legendary  \n",
       "0         65       65     45           1      False  \n",
       "1         80       80     60           1      False  \n",
       "2        100      100     80           1      False  \n",
       "3        122      120     80           1      False  \n",
       "4         60       50     65           1      False  \n",
       "..       ...      ...    ...         ...        ...  \n",
       "795      100      150     50           6       True  \n",
       "796      160      110    110           6       True  \n",
       "797      150      130     70           6       True  \n",
       "798      170      130     80           6       True  \n",
       "799      130       90     70           6       True  \n",
       "\n",
       "[800 rows x 13 columns]"
      ]
     },
     "execution_count": 26,
     "metadata": {},
     "output_type": "execute_result"
    }
   ],
   "source": [
    "# Hold shit key and press tab keys a couple times\n",
    "pd.read_csv(\"pokemon.csv\")"
   ]
  },
  {
   "cell_type": "code",
   "execution_count": 27,
   "id": "a2a41407",
   "metadata": {},
   "outputs": [
    {
     "data": {
      "text/html": [
       "<div>\n",
       "<style scoped>\n",
       "    .dataframe tbody tr th:only-of-type {\n",
       "        vertical-align: middle;\n",
       "    }\n",
       "\n",
       "    .dataframe tbody tr th {\n",
       "        vertical-align: top;\n",
       "    }\n",
       "\n",
       "    .dataframe thead th {\n",
       "        text-align: right;\n",
       "    }\n",
       "</style>\n",
       "<table border=\"1\" class=\"dataframe\">\n",
       "  <thead>\n",
       "    <tr style=\"text-align: right;\">\n",
       "      <th></th>\n",
       "      <th>Name</th>\n",
       "    </tr>\n",
       "  </thead>\n",
       "  <tbody>\n",
       "    <tr>\n",
       "      <th>0</th>\n",
       "      <td>Bulbasaur</td>\n",
       "    </tr>\n",
       "    <tr>\n",
       "      <th>1</th>\n",
       "      <td>Ivysaur</td>\n",
       "    </tr>\n",
       "    <tr>\n",
       "      <th>2</th>\n",
       "      <td>Venusaur</td>\n",
       "    </tr>\n",
       "    <tr>\n",
       "      <th>3</th>\n",
       "      <td>VenusaurMega Venusaur</td>\n",
       "    </tr>\n",
       "    <tr>\n",
       "      <th>4</th>\n",
       "      <td>Charmander</td>\n",
       "    </tr>\n",
       "    <tr>\n",
       "      <th>...</th>\n",
       "      <td>...</td>\n",
       "    </tr>\n",
       "    <tr>\n",
       "      <th>795</th>\n",
       "      <td>Diancie</td>\n",
       "    </tr>\n",
       "    <tr>\n",
       "      <th>796</th>\n",
       "      <td>DiancieMega Diancie</td>\n",
       "    </tr>\n",
       "    <tr>\n",
       "      <th>797</th>\n",
       "      <td>HoopaHoopa Confined</td>\n",
       "    </tr>\n",
       "    <tr>\n",
       "      <th>798</th>\n",
       "      <td>HoopaHoopa Unbound</td>\n",
       "    </tr>\n",
       "    <tr>\n",
       "      <th>799</th>\n",
       "      <td>Volcanion</td>\n",
       "    </tr>\n",
       "  </tbody>\n",
       "</table>\n",
       "<p>800 rows × 1 columns</p>\n",
       "</div>"
      ],
      "text/plain": [
       "                      Name\n",
       "0                Bulbasaur\n",
       "1                  Ivysaur\n",
       "2                 Venusaur\n",
       "3    VenusaurMega Venusaur\n",
       "4               Charmander\n",
       "..                     ...\n",
       "795                Diancie\n",
       "796    DiancieMega Diancie\n",
       "797    HoopaHoopa Confined\n",
       "798     HoopaHoopa Unbound\n",
       "799              Volcanion\n",
       "\n",
       "[800 rows x 1 columns]"
      ]
     },
     "execution_count": 27,
     "metadata": {},
     "output_type": "execute_result"
    }
   ],
   "source": [
    "# pd.read_csv(\"pokemon.csv\", usecols = [\"Pokemon\"], squeeze = True)\n",
    "pd.read_csv(\"pokemon.csv\", usecols = [\"Name\"])"
   ]
  },
  {
   "cell_type": "code",
   "execution_count": 28,
   "id": "2fdaaaba",
   "metadata": {},
   "outputs": [
    {
     "name": "stderr",
     "output_type": "stream",
     "text": [
      "/var/folders/6t/k16k_75d23v_d2yfsgzmgkcc0000gn/T/ipykernel_2345/2564060925.py:2: FutureWarning: The squeeze argument has been deprecated and will be removed in a future version. Append .squeeze(\"columns\") to the call to squeeze.\n",
      "\n",
      "\n",
      "  pd.read_csv(\"pokemon.csv\", usecols = [\"Name\"], squeeze = True)\n"
     ]
    },
    {
     "data": {
      "text/plain": [
       "0                  Bulbasaur\n",
       "1                    Ivysaur\n",
       "2                   Venusaur\n",
       "3      VenusaurMega Venusaur\n",
       "4                 Charmander\n",
       "               ...          \n",
       "795                  Diancie\n",
       "796      DiancieMega Diancie\n",
       "797      HoopaHoopa Confined\n",
       "798       HoopaHoopa Unbound\n",
       "799                Volcanion\n",
       "Name: Name, Length: 800, dtype: object"
      ]
     },
     "execution_count": 28,
     "metadata": {},
     "output_type": "execute_result"
    }
   ],
   "source": [
    "# squeeze: converted to Series object instead of a Dataframe\n",
    "pd.read_csv(\"pokemon.csv\", usecols = [\"Name\"], squeeze = True)"
   ]
  },
  {
   "cell_type": "code",
   "execution_count": 29,
   "id": "3422fcef",
   "metadata": {},
   "outputs": [
    {
     "data": {
      "text/plain": [
       "0                  Bulbasaur\n",
       "1                    Ivysaur\n",
       "2                   Venusaur\n",
       "3      VenusaurMega Venusaur\n",
       "4                 Charmander\n",
       "               ...          \n",
       "795                  Diancie\n",
       "796      DiancieMega Diancie\n",
       "797      HoopaHoopa Confined\n",
       "798       HoopaHoopa Unbound\n",
       "799                Volcanion\n",
       "Name: Name, Length: 800, dtype: object"
      ]
     },
     "execution_count": 29,
     "metadata": {},
     "output_type": "execute_result"
    }
   ],
   "source": [
    "pd.read_csv(\"pokemon.csv\", usecols = [\"Name\"]).squeeze(\"columns\")\n",
    "# ... (ellipcis) truncating, only see 10 rows"
   ]
  },
  {
   "cell_type": "code",
   "execution_count": 30,
   "id": "995a0099",
   "metadata": {},
   "outputs": [
    {
     "data": {
      "text/plain": [
       "0                  Bulbasaur\n",
       "1                    Ivysaur\n",
       "2                   Venusaur\n",
       "3      VenusaurMega Venusaur\n",
       "4                 Charmander\n",
       "               ...          \n",
       "795                  Diancie\n",
       "796      DiancieMega Diancie\n",
       "797      HoopaHoopa Confined\n",
       "798       HoopaHoopa Unbound\n",
       "799                Volcanion\n",
       "Name: Name, Length: 800, dtype: object"
      ]
     },
     "execution_count": 30,
     "metadata": {},
     "output_type": "execute_result"
    }
   ],
   "source": [
    "# pokemon = pd.read_csv(\"pokemon.csv\", usecols = [\"Pokemon\"], squeeze = True)\n",
    "# We cannot work with Series object unless save as somekind of variable.\n",
    "# Assign this Series to a variable of 'pokemon'\n",
    "pokemon = pd.read_csv('pokemon.csv', usecols = [\"Name\"]).squeeze(\"columns\")\n",
    "pokemon # variable"
   ]
  },
  {
   "cell_type": "code",
   "execution_count": 31,
   "id": "d6d7f19b",
   "metadata": {},
   "outputs": [
    {
     "data": {
      "text/html": [
       "<div>\n",
       "<style scoped>\n",
       "    .dataframe tbody tr th:only-of-type {\n",
       "        vertical-align: middle;\n",
       "    }\n",
       "\n",
       "    .dataframe tbody tr th {\n",
       "        vertical-align: top;\n",
       "    }\n",
       "\n",
       "    .dataframe thead th {\n",
       "        text-align: right;\n",
       "    }\n",
       "</style>\n",
       "<table border=\"1\" class=\"dataframe\">\n",
       "  <thead>\n",
       "    <tr style=\"text-align: right;\">\n",
       "      <th></th>\n",
       "      <th>Date</th>\n",
       "      <th>Open</th>\n",
       "      <th>High</th>\n",
       "      <th>Low</th>\n",
       "      <th>Close</th>\n",
       "      <th>Adj Close</th>\n",
       "      <th>Volume</th>\n",
       "    </tr>\n",
       "  </thead>\n",
       "  <tbody>\n",
       "    <tr>\n",
       "      <th>0</th>\n",
       "      <td>2022-08-31</td>\n",
       "      <td>111.629997</td>\n",
       "      <td>111.769997</td>\n",
       "      <td>109.050003</td>\n",
       "      <td>109.150002</td>\n",
       "      <td>109.150002</td>\n",
       "      <td>25898000</td>\n",
       "    </tr>\n",
       "    <tr>\n",
       "      <th>1</th>\n",
       "      <td>2022-09-01</td>\n",
       "      <td>109.199997</td>\n",
       "      <td>111.220001</td>\n",
       "      <td>108.190002</td>\n",
       "      <td>110.550003</td>\n",
       "      <td>110.550003</td>\n",
       "      <td>22784400</td>\n",
       "    </tr>\n",
       "    <tr>\n",
       "      <th>2</th>\n",
       "      <td>2022-09-02</td>\n",
       "      <td>111.339996</td>\n",
       "      <td>111.675003</td>\n",
       "      <td>108.129997</td>\n",
       "      <td>108.680000</td>\n",
       "      <td>108.680000</td>\n",
       "      <td>20618100</td>\n",
       "    </tr>\n",
       "    <tr>\n",
       "      <th>3</th>\n",
       "      <td>2022-09-06</td>\n",
       "      <td>108.135002</td>\n",
       "      <td>108.879997</td>\n",
       "      <td>106.510002</td>\n",
       "      <td>107.480003</td>\n",
       "      <td>107.480003</td>\n",
       "      <td>20565100</td>\n",
       "    </tr>\n",
       "    <tr>\n",
       "      <th>4</th>\n",
       "      <td>2022-09-07</td>\n",
       "      <td>107.760002</td>\n",
       "      <td>110.989998</td>\n",
       "      <td>107.614998</td>\n",
       "      <td>110.480003</td>\n",
       "      <td>110.480003</td>\n",
       "      <td>22987200</td>\n",
       "    </tr>\n",
       "    <tr>\n",
       "      <th>...</th>\n",
       "      <td>...</td>\n",
       "      <td>...</td>\n",
       "      <td>...</td>\n",
       "      <td>...</td>\n",
       "      <td>...</td>\n",
       "      <td>...</td>\n",
       "      <td>...</td>\n",
       "    </tr>\n",
       "    <tr>\n",
       "      <th>247</th>\n",
       "      <td>2023-08-25</td>\n",
       "      <td>130.139999</td>\n",
       "      <td>131.399994</td>\n",
       "      <td>128.039993</td>\n",
       "      <td>130.690002</td>\n",
       "      <td>130.690002</td>\n",
       "      <td>20671000</td>\n",
       "    </tr>\n",
       "    <tr>\n",
       "      <th>248</th>\n",
       "      <td>2023-08-28</td>\n",
       "      <td>132.080002</td>\n",
       "      <td>133.240005</td>\n",
       "      <td>130.850006</td>\n",
       "      <td>131.789993</td>\n",
       "      <td>131.789993</td>\n",
       "      <td>16715500</td>\n",
       "    </tr>\n",
       "    <tr>\n",
       "      <th>249</th>\n",
       "      <td>2023-08-29</td>\n",
       "      <td>132.998001</td>\n",
       "      <td>137.294998</td>\n",
       "      <td>132.979996</td>\n",
       "      <td>135.490005</td>\n",
       "      <td>135.490005</td>\n",
       "      <td>30803300</td>\n",
       "    </tr>\n",
       "    <tr>\n",
       "      <th>250</th>\n",
       "      <td>2023-08-30</td>\n",
       "      <td>135.570007</td>\n",
       "      <td>137.250000</td>\n",
       "      <td>135.020996</td>\n",
       "      <td>136.929993</td>\n",
       "      <td>136.929993</td>\n",
       "      <td>21747800</td>\n",
       "    </tr>\n",
       "    <tr>\n",
       "      <th>251</th>\n",
       "      <td>2023-08-31</td>\n",
       "      <td>137.050003</td>\n",
       "      <td>138.399994</td>\n",
       "      <td>136.820007</td>\n",
       "      <td>137.820007</td>\n",
       "      <td>137.820007</td>\n",
       "      <td>16005931</td>\n",
       "    </tr>\n",
       "  </tbody>\n",
       "</table>\n",
       "<p>252 rows × 7 columns</p>\n",
       "</div>"
      ],
      "text/plain": [
       "           Date        Open        High         Low       Close   Adj Close  \\\n",
       "0    2022-08-31  111.629997  111.769997  109.050003  109.150002  109.150002   \n",
       "1    2022-09-01  109.199997  111.220001  108.190002  110.550003  110.550003   \n",
       "2    2022-09-02  111.339996  111.675003  108.129997  108.680000  108.680000   \n",
       "3    2022-09-06  108.135002  108.879997  106.510002  107.480003  107.480003   \n",
       "4    2022-09-07  107.760002  110.989998  107.614998  110.480003  110.480003   \n",
       "..          ...         ...         ...         ...         ...         ...   \n",
       "247  2023-08-25  130.139999  131.399994  128.039993  130.690002  130.690002   \n",
       "248  2023-08-28  132.080002  133.240005  130.850006  131.789993  131.789993   \n",
       "249  2023-08-29  132.998001  137.294998  132.979996  135.490005  135.490005   \n",
       "250  2023-08-30  135.570007  137.250000  135.020996  136.929993  136.929993   \n",
       "251  2023-08-31  137.050003  138.399994  136.820007  137.820007  137.820007   \n",
       "\n",
       "       Volume  \n",
       "0    25898000  \n",
       "1    22784400  \n",
       "2    20618100  \n",
       "3    20565100  \n",
       "4    22987200  \n",
       "..        ...  \n",
       "247  20671000  \n",
       "248  16715500  \n",
       "249  30803300  \n",
       "250  21747800  \n",
       "251  16005931  \n",
       "\n",
       "[252 rows x 7 columns]"
      ]
     },
     "execution_count": 31,
     "metadata": {},
     "output_type": "execute_result"
    }
   ],
   "source": [
    "# goo autocomplete using tab\n",
    "pd.read_csv(\"google_stock_price.csv\")"
   ]
  },
  {
   "cell_type": "code",
   "execution_count": 32,
   "id": "f06cfd93",
   "metadata": {},
   "outputs": [
    {
     "data": {
      "text/html": [
       "<div>\n",
       "<style scoped>\n",
       "    .dataframe tbody tr th:only-of-type {\n",
       "        vertical-align: middle;\n",
       "    }\n",
       "\n",
       "    .dataframe tbody tr th {\n",
       "        vertical-align: top;\n",
       "    }\n",
       "\n",
       "    .dataframe thead th {\n",
       "        text-align: right;\n",
       "    }\n",
       "</style>\n",
       "<table border=\"1\" class=\"dataframe\">\n",
       "  <thead>\n",
       "    <tr style=\"text-align: right;\">\n",
       "      <th></th>\n",
       "      <th>Open</th>\n",
       "    </tr>\n",
       "  </thead>\n",
       "  <tbody>\n",
       "    <tr>\n",
       "      <th>0</th>\n",
       "      <td>111.629997</td>\n",
       "    </tr>\n",
       "    <tr>\n",
       "      <th>1</th>\n",
       "      <td>109.199997</td>\n",
       "    </tr>\n",
       "    <tr>\n",
       "      <th>2</th>\n",
       "      <td>111.339996</td>\n",
       "    </tr>\n",
       "    <tr>\n",
       "      <th>3</th>\n",
       "      <td>108.135002</td>\n",
       "    </tr>\n",
       "    <tr>\n",
       "      <th>4</th>\n",
       "      <td>107.760002</td>\n",
       "    </tr>\n",
       "    <tr>\n",
       "      <th>...</th>\n",
       "      <td>...</td>\n",
       "    </tr>\n",
       "    <tr>\n",
       "      <th>247</th>\n",
       "      <td>130.139999</td>\n",
       "    </tr>\n",
       "    <tr>\n",
       "      <th>248</th>\n",
       "      <td>132.080002</td>\n",
       "    </tr>\n",
       "    <tr>\n",
       "      <th>249</th>\n",
       "      <td>132.998001</td>\n",
       "    </tr>\n",
       "    <tr>\n",
       "      <th>250</th>\n",
       "      <td>135.570007</td>\n",
       "    </tr>\n",
       "    <tr>\n",
       "      <th>251</th>\n",
       "      <td>137.050003</td>\n",
       "    </tr>\n",
       "  </tbody>\n",
       "</table>\n",
       "<p>252 rows × 1 columns</p>\n",
       "</div>"
      ],
      "text/plain": [
       "           Open\n",
       "0    111.629997\n",
       "1    109.199997\n",
       "2    111.339996\n",
       "3    108.135002\n",
       "4    107.760002\n",
       "..          ...\n",
       "247  130.139999\n",
       "248  132.080002\n",
       "249  132.998001\n",
       "250  135.570007\n",
       "251  137.050003\n",
       "\n",
       "[252 rows x 1 columns]"
      ]
     },
     "execution_count": 32,
     "metadata": {},
     "output_type": "execute_result"
    }
   ],
   "source": [
    "# pd.read_csv(\"google_stock_price.csv\", usecols = [\"Stock Price\"], squeeze = True)\n",
    "pd.read_csv(\"google_stock_price.csv\", usecols = [\"Open\"])\n",
    "# Dataframe"
   ]
  },
  {
   "cell_type": "code",
   "execution_count": 33,
   "id": "ad740b58",
   "metadata": {},
   "outputs": [
    {
     "data": {
      "text/plain": [
       "0      111.629997\n",
       "1      109.199997\n",
       "2      111.339996\n",
       "3      108.135002\n",
       "4      107.760002\n",
       "          ...    \n",
       "247    130.139999\n",
       "248    132.080002\n",
       "249    132.998001\n",
       "250    135.570007\n",
       "251    137.050003\n",
       "Name: Open, Length: 252, dtype: float64"
      ]
     },
     "execution_count": 33,
     "metadata": {},
     "output_type": "execute_result"
    }
   ],
   "source": [
    "pd.read_csv(\"google_stock_price.csv\", usecols = [\"Open\"]).squeeze('columns')\n",
    "# Series"
   ]
  },
  {
   "cell_type": "code",
   "execution_count": 34,
   "id": "f33d7a87",
   "metadata": {},
   "outputs": [
    {
     "data": {
      "text/plain": [
       "0      111.629997\n",
       "1      109.199997\n",
       "2      111.339996\n",
       "3      108.135002\n",
       "4      107.760002\n",
       "          ...    \n",
       "247    130.139999\n",
       "248    132.080002\n",
       "249    132.998001\n",
       "250    135.570007\n",
       "251    137.050003\n",
       "Name: Open, Length: 252, dtype: float64"
      ]
     },
     "execution_count": 34,
     "metadata": {},
     "output_type": "execute_result"
    }
   ],
   "source": [
    "google = pd.read_csv(\"google_stock_price.csv\", usecols = [\"Open\"]).squeeze(\"columns\")\n",
    "google\n",
    "# saved as google object"
   ]
  },
  {
   "cell_type": "markdown",
   "id": "5deffede",
   "metadata": {},
   "source": [
    "# The .head() and .tail() Methods"
   ]
  },
  {
   "cell_type": "code",
   "execution_count": 35,
   "id": "3db1e5c5",
   "metadata": {},
   "outputs": [],
   "source": [
    "pokemon = pd.read_csv(\"pokemon.csv\", usecols = ['Name']).squeeze(\"columns\")\n",
    "google = pd.read_csv(\"google_stock_price.csv\", usecols = [\"Open\"]).squeeze(\"columns\")"
   ]
  },
  {
   "cell_type": "code",
   "execution_count": 36,
   "id": "f21f0d74",
   "metadata": {},
   "outputs": [
    {
     "data": {
      "text/plain": [
       "0                Bulbasaur\n",
       "1                  Ivysaur\n",
       "2                 Venusaur\n",
       "3    VenusaurMega Venusaur\n",
       "4               Charmander\n",
       "Name: Name, dtype: object"
      ]
     },
     "execution_count": 36,
     "metadata": {},
     "output_type": "execute_result"
    }
   ],
   "source": [
    "# head method: It's returning a brand new Series\n",
    "pokemon.head()"
   ]
  },
  {
   "cell_type": "code",
   "execution_count": 37,
   "id": "d6524ab5",
   "metadata": {},
   "outputs": [
    {
     "data": {
      "text/plain": [
       "0    Bulbasaur\n",
       "1      Ivysaur\n",
       "2     Venusaur\n",
       "Name: Name, dtype: object"
      ]
     },
     "execution_count": 37,
     "metadata": {},
     "output_type": "execute_result"
    }
   ],
   "source": [
    "pokemon.head(3)"
   ]
  },
  {
   "cell_type": "code",
   "execution_count": 38,
   "id": "94b7be8f",
   "metadata": {},
   "outputs": [
    {
     "data": {
      "text/plain": [
       "795                Diancie\n",
       "796    DiancieMega Diancie\n",
       "797    HoopaHoopa Confined\n",
       "798     HoopaHoopa Unbound\n",
       "799              Volcanion\n",
       "Name: Name, dtype: object"
      ]
     },
     "execution_count": 38,
     "metadata": {},
     "output_type": "execute_result"
    }
   ],
   "source": [
    "pokemon.tail()"
   ]
  },
  {
   "cell_type": "code",
   "execution_count": 39,
   "id": "8c441b1f",
   "metadata": {},
   "outputs": [
    {
     "data": {
      "text/plain": [
       "251    137.050003\n",
       "Name: Open, dtype: float64"
      ]
     },
     "execution_count": 39,
     "metadata": {},
     "output_type": "execute_result"
    }
   ],
   "source": [
    "google.tail(1)"
   ]
  },
  {
   "cell_type": "markdown",
   "id": "aef10186",
   "metadata": {},
   "source": [
    "# Python Built-In Functions"
   ]
  },
  {
   "cell_type": "code",
   "execution_count": 40,
   "id": "67bc2d04",
   "metadata": {},
   "outputs": [
    {
     "data": {
      "text/plain": [
       "800"
      ]
     },
     "execution_count": 40,
     "metadata": {},
     "output_type": "execute_result"
    }
   ],
   "source": [
    "len(pokemon)  # numbers of rows"
   ]
  },
  {
   "cell_type": "code",
   "execution_count": 41,
   "id": "be9c4698",
   "metadata": {},
   "outputs": [
    {
     "data": {
      "text/plain": [
       "252"
      ]
     },
     "execution_count": 41,
     "metadata": {},
     "output_type": "execute_result"
    }
   ],
   "source": [
    "len(google)"
   ]
  },
  {
   "cell_type": "code",
   "execution_count": 42,
   "id": "df79ec92",
   "metadata": {},
   "outputs": [
    {
     "data": {
      "text/plain": [
       "pandas.core.series.Series"
      ]
     },
     "execution_count": 42,
     "metadata": {},
     "output_type": "execute_result"
    }
   ],
   "source": [
    "type(pokemon)"
   ]
  },
  {
   "cell_type": "code",
   "execution_count": 43,
   "id": "1ebf7097",
   "metadata": {
    "collapsed": true
   },
   "outputs": [
    {
     "data": {
      "text/plain": [
       "['T',\n",
       " '_AXIS_LEN',\n",
       " '_AXIS_ORDERS',\n",
       " '_AXIS_TO_AXIS_NUMBER',\n",
       " '_HANDLED_TYPES',\n",
       " '__abs__',\n",
       " '__add__',\n",
       " '__and__',\n",
       " '__annotations__',\n",
       " '__array__',\n",
       " '__array_priority__',\n",
       " '__array_ufunc__',\n",
       " '__array_wrap__',\n",
       " '__bool__',\n",
       " '__class__',\n",
       " '__contains__',\n",
       " '__copy__',\n",
       " '__deepcopy__',\n",
       " '__delattr__',\n",
       " '__delitem__',\n",
       " '__dict__',\n",
       " '__dir__',\n",
       " '__divmod__',\n",
       " '__doc__',\n",
       " '__eq__',\n",
       " '__finalize__',\n",
       " '__float__',\n",
       " '__floordiv__',\n",
       " '__format__',\n",
       " '__ge__',\n",
       " '__getattr__',\n",
       " '__getattribute__',\n",
       " '__getitem__',\n",
       " '__getstate__',\n",
       " '__gt__',\n",
       " '__hash__',\n",
       " '__iadd__',\n",
       " '__iand__',\n",
       " '__ifloordiv__',\n",
       " '__imod__',\n",
       " '__imul__',\n",
       " '__init__',\n",
       " '__init_subclass__',\n",
       " '__int__',\n",
       " '__invert__',\n",
       " '__ior__',\n",
       " '__ipow__',\n",
       " '__isub__',\n",
       " '__iter__',\n",
       " '__itruediv__',\n",
       " '__ixor__',\n",
       " '__le__',\n",
       " '__len__',\n",
       " '__long__',\n",
       " '__lt__',\n",
       " '__matmul__',\n",
       " '__mod__',\n",
       " '__module__',\n",
       " '__mul__',\n",
       " '__ne__',\n",
       " '__neg__',\n",
       " '__new__',\n",
       " '__nonzero__',\n",
       " '__or__',\n",
       " '__pos__',\n",
       " '__pow__',\n",
       " '__radd__',\n",
       " '__rand__',\n",
       " '__rdivmod__',\n",
       " '__reduce__',\n",
       " '__reduce_ex__',\n",
       " '__repr__',\n",
       " '__rfloordiv__',\n",
       " '__rmatmul__',\n",
       " '__rmod__',\n",
       " '__rmul__',\n",
       " '__ror__',\n",
       " '__round__',\n",
       " '__rpow__',\n",
       " '__rsub__',\n",
       " '__rtruediv__',\n",
       " '__rxor__',\n",
       " '__setattr__',\n",
       " '__setitem__',\n",
       " '__setstate__',\n",
       " '__sizeof__',\n",
       " '__str__',\n",
       " '__sub__',\n",
       " '__subclasshook__',\n",
       " '__truediv__',\n",
       " '__weakref__',\n",
       " '__xor__',\n",
       " '_accessors',\n",
       " '_accum_func',\n",
       " '_add_numeric_operations',\n",
       " '_agg_by_level',\n",
       " '_agg_examples_doc',\n",
       " '_agg_see_also_doc',\n",
       " '_align_frame',\n",
       " '_align_series',\n",
       " '_append',\n",
       " '_arith_method',\n",
       " '_as_manager',\n",
       " '_attrs',\n",
       " '_binop',\n",
       " '_cacher',\n",
       " '_can_hold_na',\n",
       " '_check_inplace_and_allows_duplicate_labels',\n",
       " '_check_inplace_setting',\n",
       " '_check_is_chained_assignment_possible',\n",
       " '_check_label_or_level_ambiguity',\n",
       " '_check_setitem_copy',\n",
       " '_clear_item_cache',\n",
       " '_clip_with_one_bound',\n",
       " '_clip_with_scalar',\n",
       " '_cmp_method',\n",
       " '_consolidate',\n",
       " '_consolidate_inplace',\n",
       " '_construct_axes_dict',\n",
       " '_construct_axes_from_arguments',\n",
       " '_construct_result',\n",
       " '_constructor',\n",
       " '_constructor_expanddim',\n",
       " '_convert',\n",
       " '_convert_dtypes',\n",
       " '_data',\n",
       " '_dir_additions',\n",
       " '_dir_deletions',\n",
       " '_drop_axis',\n",
       " '_drop_labels_or_levels',\n",
       " '_duplicated',\n",
       " '_find_valid_index',\n",
       " '_flags',\n",
       " '_get_axis',\n",
       " '_get_axis_name',\n",
       " '_get_axis_number',\n",
       " '_get_axis_resolvers',\n",
       " '_get_block_manager_axis',\n",
       " '_get_bool_data',\n",
       " '_get_cacher',\n",
       " '_get_cleaned_column_resolvers',\n",
       " '_get_index_resolvers',\n",
       " '_get_label_or_level_values',\n",
       " '_get_numeric_data',\n",
       " '_get_value',\n",
       " '_get_values',\n",
       " '_get_values_tuple',\n",
       " '_get_with',\n",
       " '_gotitem',\n",
       " '_hidden_attrs',\n",
       " '_indexed_same',\n",
       " '_info_axis',\n",
       " '_info_axis_name',\n",
       " '_info_axis_number',\n",
       " '_init_dict',\n",
       " '_init_mgr',\n",
       " '_inplace_method',\n",
       " '_internal_names',\n",
       " '_internal_names_set',\n",
       " '_is_cached',\n",
       " '_is_copy',\n",
       " '_is_label_or_level_reference',\n",
       " '_is_label_reference',\n",
       " '_is_level_reference',\n",
       " '_is_mixed_type',\n",
       " '_is_view',\n",
       " '_item_cache',\n",
       " '_ixs',\n",
       " '_logical_func',\n",
       " '_logical_method',\n",
       " '_map_values',\n",
       " '_maybe_update_cacher',\n",
       " '_memory_usage',\n",
       " '_metadata',\n",
       " '_mgr',\n",
       " '_min_count_stat_function',\n",
       " '_name',\n",
       " '_needs_reindex_multi',\n",
       " '_protect_consolidate',\n",
       " '_reduce',\n",
       " '_reindex_axes',\n",
       " '_reindex_indexer',\n",
       " '_reindex_multi',\n",
       " '_reindex_with_indexers',\n",
       " '_rename',\n",
       " '_replace_single',\n",
       " '_repr_data_resource_',\n",
       " '_repr_latex_',\n",
       " '_reset_cache',\n",
       " '_reset_cacher',\n",
       " '_set_as_cached',\n",
       " '_set_axis',\n",
       " '_set_axis_name',\n",
       " '_set_axis_nocheck',\n",
       " '_set_is_copy',\n",
       " '_set_labels',\n",
       " '_set_name',\n",
       " '_set_value',\n",
       " '_set_values',\n",
       " '_set_with',\n",
       " '_set_with_engine',\n",
       " '_slice',\n",
       " '_stat_axis',\n",
       " '_stat_axis_name',\n",
       " '_stat_axis_number',\n",
       " '_stat_function',\n",
       " '_stat_function_ddof',\n",
       " '_take',\n",
       " '_take_with_is_copy',\n",
       " '_typ',\n",
       " '_update_inplace',\n",
       " '_validate_dtype',\n",
       " '_values',\n",
       " '_where',\n",
       " 'abs',\n",
       " 'add',\n",
       " 'add_prefix',\n",
       " 'add_suffix',\n",
       " 'agg',\n",
       " 'aggregate',\n",
       " 'align',\n",
       " 'all',\n",
       " 'any',\n",
       " 'append',\n",
       " 'apply',\n",
       " 'argmax',\n",
       " 'argmin',\n",
       " 'argsort',\n",
       " 'array',\n",
       " 'asfreq',\n",
       " 'asof',\n",
       " 'astype',\n",
       " 'at',\n",
       " 'at_time',\n",
       " 'attrs',\n",
       " 'autocorr',\n",
       " 'axes',\n",
       " 'backfill',\n",
       " 'between',\n",
       " 'between_time',\n",
       " 'bfill',\n",
       " 'bool',\n",
       " 'clip',\n",
       " 'combine',\n",
       " 'combine_first',\n",
       " 'compare',\n",
       " 'convert_dtypes',\n",
       " 'copy',\n",
       " 'corr',\n",
       " 'count',\n",
       " 'cov',\n",
       " 'cummax',\n",
       " 'cummin',\n",
       " 'cumprod',\n",
       " 'cumsum',\n",
       " 'describe',\n",
       " 'diff',\n",
       " 'div',\n",
       " 'divide',\n",
       " 'divmod',\n",
       " 'dot',\n",
       " 'drop',\n",
       " 'drop_duplicates',\n",
       " 'droplevel',\n",
       " 'dropna',\n",
       " 'dtype',\n",
       " 'dtypes',\n",
       " 'duplicated',\n",
       " 'empty',\n",
       " 'eq',\n",
       " 'equals',\n",
       " 'ewm',\n",
       " 'expanding',\n",
       " 'explode',\n",
       " 'factorize',\n",
       " 'ffill',\n",
       " 'fillna',\n",
       " 'filter',\n",
       " 'first',\n",
       " 'first_valid_index',\n",
       " 'flags',\n",
       " 'floordiv',\n",
       " 'ge',\n",
       " 'get',\n",
       " 'groupby',\n",
       " 'gt',\n",
       " 'hasnans',\n",
       " 'head',\n",
       " 'hist',\n",
       " 'iat',\n",
       " 'idxmax',\n",
       " 'idxmin',\n",
       " 'iloc',\n",
       " 'index',\n",
       " 'infer_objects',\n",
       " 'info',\n",
       " 'interpolate',\n",
       " 'is_monotonic',\n",
       " 'is_monotonic_decreasing',\n",
       " 'is_monotonic_increasing',\n",
       " 'is_unique',\n",
       " 'isin',\n",
       " 'isna',\n",
       " 'isnull',\n",
       " 'item',\n",
       " 'items',\n",
       " 'iteritems',\n",
       " 'keys',\n",
       " 'kurt',\n",
       " 'kurtosis',\n",
       " 'last',\n",
       " 'last_valid_index',\n",
       " 'le',\n",
       " 'loc',\n",
       " 'lt',\n",
       " 'mad',\n",
       " 'map',\n",
       " 'mask',\n",
       " 'max',\n",
       " 'mean',\n",
       " 'median',\n",
       " 'memory_usage',\n",
       " 'min',\n",
       " 'mod',\n",
       " 'mode',\n",
       " 'mul',\n",
       " 'multiply',\n",
       " 'name',\n",
       " 'nbytes',\n",
       " 'ndim',\n",
       " 'ne',\n",
       " 'nlargest',\n",
       " 'notna',\n",
       " 'notnull',\n",
       " 'nsmallest',\n",
       " 'nunique',\n",
       " 'pad',\n",
       " 'pct_change',\n",
       " 'pipe',\n",
       " 'plot',\n",
       " 'pop',\n",
       " 'pow',\n",
       " 'prod',\n",
       " 'product',\n",
       " 'quantile',\n",
       " 'radd',\n",
       " 'rank',\n",
       " 'ravel',\n",
       " 'rdiv',\n",
       " 'rdivmod',\n",
       " 'reindex',\n",
       " 'reindex_like',\n",
       " 'rename',\n",
       " 'rename_axis',\n",
       " 'reorder_levels',\n",
       " 'repeat',\n",
       " 'replace',\n",
       " 'resample',\n",
       " 'reset_index',\n",
       " 'rfloordiv',\n",
       " 'rmod',\n",
       " 'rmul',\n",
       " 'rolling',\n",
       " 'round',\n",
       " 'rpow',\n",
       " 'rsub',\n",
       " 'rtruediv',\n",
       " 'sample',\n",
       " 'searchsorted',\n",
       " 'sem',\n",
       " 'set_axis',\n",
       " 'set_flags',\n",
       " 'shape',\n",
       " 'shift',\n",
       " 'size',\n",
       " 'skew',\n",
       " 'slice_shift',\n",
       " 'sort_index',\n",
       " 'sort_values',\n",
       " 'squeeze',\n",
       " 'std',\n",
       " 'str',\n",
       " 'sub',\n",
       " 'subtract',\n",
       " 'sum',\n",
       " 'swapaxes',\n",
       " 'swaplevel',\n",
       " 'tail',\n",
       " 'take',\n",
       " 'to_clipboard',\n",
       " 'to_csv',\n",
       " 'to_dict',\n",
       " 'to_excel',\n",
       " 'to_frame',\n",
       " 'to_hdf',\n",
       " 'to_json',\n",
       " 'to_latex',\n",
       " 'to_list',\n",
       " 'to_markdown',\n",
       " 'to_numpy',\n",
       " 'to_period',\n",
       " 'to_pickle',\n",
       " 'to_sql',\n",
       " 'to_string',\n",
       " 'to_timestamp',\n",
       " 'to_xarray',\n",
       " 'transform',\n",
       " 'transpose',\n",
       " 'truediv',\n",
       " 'truncate',\n",
       " 'tz_convert',\n",
       " 'tz_localize',\n",
       " 'unique',\n",
       " 'unstack',\n",
       " 'update',\n",
       " 'value_counts',\n",
       " 'values',\n",
       " 'var',\n",
       " 'view',\n",
       " 'where',\n",
       " 'xs']"
      ]
     },
     "execution_count": 43,
     "metadata": {},
     "output_type": "execute_result"
    }
   ],
   "source": [
    "dir(pokemon) #directry. \n",
    "# included the secret or hidden methods. Those ones at the beggining have double underscores.\n",
    "# Hoover the area shows up in Gray, if we double click, that's going to hide and condense, or collapse\n",
    "# rather,that scrollable output."
   ]
  },
  {
   "cell_type": "code",
   "execution_count": 44,
   "id": "d8000381",
   "metadata": {
    "collapsed": true
   },
   "outputs": [
    {
     "data": {
      "text/plain": [
       "['Abomasnow',\n",
       " 'AbomasnowMega Abomasnow',\n",
       " 'Abra',\n",
       " 'Absol',\n",
       " 'AbsolMega Absol',\n",
       " 'Accelgor',\n",
       " 'AegislashBlade Forme',\n",
       " 'AegislashShield Forme',\n",
       " 'Aerodactyl',\n",
       " 'AerodactylMega Aerodactyl',\n",
       " 'Aggron',\n",
       " 'AggronMega Aggron',\n",
       " 'Aipom',\n",
       " 'Alakazam',\n",
       " 'AlakazamMega Alakazam',\n",
       " 'Alomomola',\n",
       " 'Altaria',\n",
       " 'AltariaMega Altaria',\n",
       " 'Amaura',\n",
       " 'Ambipom',\n",
       " 'Amoonguss',\n",
       " 'Ampharos',\n",
       " 'AmpharosMega Ampharos',\n",
       " 'Anorith',\n",
       " 'Arbok',\n",
       " 'Arcanine',\n",
       " 'Arceus',\n",
       " 'Archen',\n",
       " 'Archeops',\n",
       " 'Ariados',\n",
       " 'Armaldo',\n",
       " 'Aromatisse',\n",
       " 'Aron',\n",
       " 'Articuno',\n",
       " 'Audino',\n",
       " 'AudinoMega Audino',\n",
       " 'Aurorus',\n",
       " 'Avalugg',\n",
       " 'Axew',\n",
       " 'Azelf',\n",
       " 'Azumarill',\n",
       " 'Azurill',\n",
       " 'Bagon',\n",
       " 'Baltoy',\n",
       " 'Banette',\n",
       " 'BanetteMega Banette',\n",
       " 'Barbaracle',\n",
       " 'Barboach',\n",
       " 'Basculin',\n",
       " 'Bastiodon',\n",
       " 'Bayleef',\n",
       " 'Beartic',\n",
       " 'Beautifly',\n",
       " 'Beedrill',\n",
       " 'BeedrillMega Beedrill',\n",
       " 'Beheeyem',\n",
       " 'Beldum',\n",
       " 'Bellossom',\n",
       " 'Bellsprout',\n",
       " 'Bergmite',\n",
       " 'Bibarel',\n",
       " 'Bidoof',\n",
       " 'Binacle',\n",
       " 'Bisharp',\n",
       " 'Blastoise',\n",
       " 'BlastoiseMega Blastoise',\n",
       " 'Blaziken',\n",
       " 'BlazikenMega Blaziken',\n",
       " 'Blissey',\n",
       " 'Blitzle',\n",
       " 'Boldore',\n",
       " 'Bonsly',\n",
       " 'Bouffalant',\n",
       " 'Braixen',\n",
       " 'Braviary',\n",
       " 'Breloom',\n",
       " 'Bronzong',\n",
       " 'Bronzor',\n",
       " 'Budew',\n",
       " 'Buizel',\n",
       " 'Bulbasaur',\n",
       " 'Buneary',\n",
       " 'Bunnelby',\n",
       " 'Burmy',\n",
       " 'Butterfree',\n",
       " 'Cacnea',\n",
       " 'Cacturne',\n",
       " 'Camerupt',\n",
       " 'CameruptMega Camerupt',\n",
       " 'Carbink',\n",
       " 'Carnivine',\n",
       " 'Carracosta',\n",
       " 'Carvanha',\n",
       " 'Cascoon',\n",
       " 'Castform',\n",
       " 'Caterpie',\n",
       " 'Celebi',\n",
       " 'Chandelure',\n",
       " 'Chansey',\n",
       " 'Charizard',\n",
       " 'CharizardMega Charizard X',\n",
       " 'CharizardMega Charizard Y',\n",
       " 'Charmander',\n",
       " 'Charmeleon',\n",
       " 'Chatot',\n",
       " 'Cherrim',\n",
       " 'Cherubi',\n",
       " 'Chesnaught',\n",
       " 'Chespin',\n",
       " 'Chikorita',\n",
       " 'Chimchar',\n",
       " 'Chimecho',\n",
       " 'Chinchou',\n",
       " 'Chingling',\n",
       " 'Cinccino',\n",
       " 'Clamperl',\n",
       " 'Clauncher',\n",
       " 'Clawitzer',\n",
       " 'Claydol',\n",
       " 'Clefable',\n",
       " 'Clefairy',\n",
       " 'Cleffa',\n",
       " 'Cloyster',\n",
       " 'Cobalion',\n",
       " 'Cofagrigus',\n",
       " 'Combee',\n",
       " 'Combusken',\n",
       " 'Conkeldurr',\n",
       " 'Corphish',\n",
       " 'Corsola',\n",
       " 'Cottonee',\n",
       " 'Cradily',\n",
       " 'Cranidos',\n",
       " 'Crawdaunt',\n",
       " 'Cresselia',\n",
       " 'Croagunk',\n",
       " 'Crobat',\n",
       " 'Croconaw',\n",
       " 'Crustle',\n",
       " 'Cryogonal',\n",
       " 'Cubchoo',\n",
       " 'Cubone',\n",
       " 'Cyndaquil',\n",
       " 'Darkrai',\n",
       " 'DarmanitanStandard Mode',\n",
       " 'DarmanitanZen Mode',\n",
       " 'Darumaka',\n",
       " 'Dedenne',\n",
       " 'Deerling',\n",
       " 'Deino',\n",
       " 'Delcatty',\n",
       " 'Delibird',\n",
       " 'Delphox',\n",
       " 'DeoxysAttack Forme',\n",
       " 'DeoxysDefense Forme',\n",
       " 'DeoxysNormal Forme',\n",
       " 'DeoxysSpeed Forme',\n",
       " 'Dewgong',\n",
       " 'Dewott',\n",
       " 'Dialga',\n",
       " 'Diancie',\n",
       " 'DiancieMega Diancie',\n",
       " 'Diggersby',\n",
       " 'Diglett',\n",
       " 'Ditto',\n",
       " 'Dodrio',\n",
       " 'Doduo',\n",
       " 'Donphan',\n",
       " 'Doublade',\n",
       " 'Dragalge',\n",
       " 'Dragonair',\n",
       " 'Dragonite',\n",
       " 'Drapion',\n",
       " 'Dratini',\n",
       " 'Drifblim',\n",
       " 'Drifloon',\n",
       " 'Drilbur',\n",
       " 'Drowzee',\n",
       " 'Druddigon',\n",
       " 'Ducklett',\n",
       " 'Dugtrio',\n",
       " 'Dunsparce',\n",
       " 'Duosion',\n",
       " 'Durant',\n",
       " 'Dusclops',\n",
       " 'Dusknoir',\n",
       " 'Duskull',\n",
       " 'Dustox',\n",
       " 'Dwebble',\n",
       " 'Eelektrik',\n",
       " 'Eelektross',\n",
       " 'Eevee',\n",
       " 'Ekans',\n",
       " 'Electabuzz',\n",
       " 'Electivire',\n",
       " 'Electrike',\n",
       " 'Electrode',\n",
       " 'Elekid',\n",
       " 'Elgyem',\n",
       " 'Emboar',\n",
       " 'Emolga',\n",
       " 'Empoleon',\n",
       " 'Entei',\n",
       " 'Escavalier',\n",
       " 'Espeon',\n",
       " 'Espurr',\n",
       " 'Excadrill',\n",
       " 'Exeggcute',\n",
       " 'Exeggutor',\n",
       " 'Exploud',\n",
       " \"Farfetch'd\",\n",
       " 'Fearow',\n",
       " 'Feebas',\n",
       " 'Fennekin',\n",
       " 'Feraligatr',\n",
       " 'Ferroseed',\n",
       " 'Ferrothorn',\n",
       " 'Finneon',\n",
       " 'Flaaffy',\n",
       " 'Flabébé',\n",
       " 'Flareon',\n",
       " 'Fletchinder',\n",
       " 'Fletchling',\n",
       " 'Floatzel',\n",
       " 'Floette',\n",
       " 'Florges',\n",
       " 'Flygon',\n",
       " 'Foongus',\n",
       " 'Forretress',\n",
       " 'Fraxure',\n",
       " 'Frillish',\n",
       " 'Froakie',\n",
       " 'Frogadier',\n",
       " 'Froslass',\n",
       " 'Furfrou',\n",
       " 'Furret',\n",
       " 'Gabite',\n",
       " 'Gallade',\n",
       " 'GalladeMega Gallade',\n",
       " 'Galvantula',\n",
       " 'Garbodor',\n",
       " 'Garchomp',\n",
       " 'GarchompMega Garchomp',\n",
       " 'Gardevoir',\n",
       " 'GardevoirMega Gardevoir',\n",
       " 'Gastly',\n",
       " 'Gastrodon',\n",
       " 'Genesect',\n",
       " 'Gengar',\n",
       " 'GengarMega Gengar',\n",
       " 'Geodude',\n",
       " 'Gible',\n",
       " 'Gigalith',\n",
       " 'Girafarig',\n",
       " 'GiratinaAltered Forme',\n",
       " 'GiratinaOrigin Forme',\n",
       " 'Glaceon',\n",
       " 'Glalie',\n",
       " 'GlalieMega Glalie',\n",
       " 'Glameow',\n",
       " 'Gligar',\n",
       " 'Gliscor',\n",
       " 'Gloom',\n",
       " 'Gogoat',\n",
       " 'Golbat',\n",
       " 'Goldeen',\n",
       " 'Golduck',\n",
       " 'Golem',\n",
       " 'Golett',\n",
       " 'Golurk',\n",
       " 'Goodra',\n",
       " 'Goomy',\n",
       " 'Gorebyss',\n",
       " 'Gothita',\n",
       " 'Gothitelle',\n",
       " 'Gothorita',\n",
       " 'GourgeistAverage Size',\n",
       " 'GourgeistLarge Size',\n",
       " 'GourgeistSmall Size',\n",
       " 'GourgeistSuper Size',\n",
       " 'Granbull',\n",
       " 'Graveler',\n",
       " 'Greninja',\n",
       " 'Grimer',\n",
       " 'Grotle',\n",
       " 'Groudon',\n",
       " 'GroudonPrimal Groudon',\n",
       " 'Grovyle',\n",
       " 'Growlithe',\n",
       " 'Grumpig',\n",
       " 'Gulpin',\n",
       " 'Gurdurr',\n",
       " 'Gyarados',\n",
       " 'GyaradosMega Gyarados',\n",
       " 'Happiny',\n",
       " 'Hariyama',\n",
       " 'Haunter',\n",
       " 'Hawlucha',\n",
       " 'Haxorus',\n",
       " 'Heatmor',\n",
       " 'Heatran',\n",
       " 'Heliolisk',\n",
       " 'Helioptile',\n",
       " 'Heracross',\n",
       " 'HeracrossMega Heracross',\n",
       " 'Herdier',\n",
       " 'Hippopotas',\n",
       " 'Hippowdon',\n",
       " 'Hitmonchan',\n",
       " 'Hitmonlee',\n",
       " 'Hitmontop',\n",
       " 'Ho-oh',\n",
       " 'Honchkrow',\n",
       " 'Honedge',\n",
       " 'HoopaHoopa Confined',\n",
       " 'HoopaHoopa Unbound',\n",
       " 'Hoothoot',\n",
       " 'Hoppip',\n",
       " 'Horsea',\n",
       " 'Houndoom',\n",
       " 'HoundoomMega Houndoom',\n",
       " 'Houndour',\n",
       " 'Huntail',\n",
       " 'Hydreigon',\n",
       " 'Hypno',\n",
       " 'Igglybuff',\n",
       " 'Illumise',\n",
       " 'Infernape',\n",
       " 'Inkay',\n",
       " 'Ivysaur',\n",
       " 'Jellicent',\n",
       " 'Jigglypuff',\n",
       " 'Jirachi',\n",
       " 'Jolteon',\n",
       " 'Joltik',\n",
       " 'Jumpluff',\n",
       " 'Jynx',\n",
       " 'Kabuto',\n",
       " 'Kabutops',\n",
       " 'Kadabra',\n",
       " 'Kakuna',\n",
       " 'Kangaskhan',\n",
       " 'KangaskhanMega Kangaskhan',\n",
       " 'Karrablast',\n",
       " 'Kecleon',\n",
       " 'KeldeoOrdinary Forme',\n",
       " 'KeldeoResolute Forme',\n",
       " 'Kingdra',\n",
       " 'Kingler',\n",
       " 'Kirlia',\n",
       " 'Klang',\n",
       " 'Klefki',\n",
       " 'Klink',\n",
       " 'Klinklang',\n",
       " 'Koffing',\n",
       " 'Krabby',\n",
       " 'Kricketot',\n",
       " 'Kricketune',\n",
       " 'Krokorok',\n",
       " 'Krookodile',\n",
       " 'Kyogre',\n",
       " 'KyogrePrimal Kyogre',\n",
       " 'Kyurem',\n",
       " 'KyuremBlack Kyurem',\n",
       " 'KyuremWhite Kyurem',\n",
       " 'Lairon',\n",
       " 'Lampent',\n",
       " 'LandorusIncarnate Forme',\n",
       " 'LandorusTherian Forme',\n",
       " 'Lanturn',\n",
       " 'Lapras',\n",
       " 'Larvesta',\n",
       " 'Larvitar',\n",
       " 'Latias',\n",
       " 'LatiasMega Latias',\n",
       " 'Latios',\n",
       " 'LatiosMega Latios',\n",
       " 'Leafeon',\n",
       " 'Leavanny',\n",
       " 'Ledian',\n",
       " 'Ledyba',\n",
       " 'Lickilicky',\n",
       " 'Lickitung',\n",
       " 'Liepard',\n",
       " 'Lileep',\n",
       " 'Lilligant',\n",
       " 'Lillipup',\n",
       " 'Linoone',\n",
       " 'Litleo',\n",
       " 'Litwick',\n",
       " 'Lombre',\n",
       " 'Lopunny',\n",
       " 'LopunnyMega Lopunny',\n",
       " 'Lotad',\n",
       " 'Loudred',\n",
       " 'Lucario',\n",
       " 'LucarioMega Lucario',\n",
       " 'Ludicolo',\n",
       " 'Lugia',\n",
       " 'Lumineon',\n",
       " 'Lunatone',\n",
       " 'Luvdisc',\n",
       " 'Luxio',\n",
       " 'Luxray',\n",
       " 'Machamp',\n",
       " 'Machoke',\n",
       " 'Machop',\n",
       " 'Magby',\n",
       " 'Magcargo',\n",
       " 'Magikarp',\n",
       " 'Magmar',\n",
       " 'Magmortar',\n",
       " 'Magnemite',\n",
       " 'Magneton',\n",
       " 'Magnezone',\n",
       " 'Makuhita',\n",
       " 'Malamar',\n",
       " 'Mamoswine',\n",
       " 'Manaphy',\n",
       " 'Mandibuzz',\n",
       " 'Manectric',\n",
       " 'ManectricMega Manectric',\n",
       " 'Mankey',\n",
       " 'Mantine',\n",
       " 'Mantyke',\n",
       " 'Maractus',\n",
       " 'Mareep',\n",
       " 'Marill',\n",
       " 'Marowak',\n",
       " 'Marshtomp',\n",
       " 'Masquerain',\n",
       " 'Mawile',\n",
       " 'MawileMega Mawile',\n",
       " 'Medicham',\n",
       " 'MedichamMega Medicham',\n",
       " 'Meditite',\n",
       " 'Meganium',\n",
       " 'MeloettaAria Forme',\n",
       " 'MeloettaPirouette Forme',\n",
       " 'MeowsticFemale',\n",
       " 'MeowsticMale',\n",
       " 'Meowth',\n",
       " 'Mesprit',\n",
       " 'Metagross',\n",
       " 'MetagrossMega Metagross',\n",
       " 'Metang',\n",
       " 'Metapod',\n",
       " 'Mew',\n",
       " 'Mewtwo',\n",
       " 'MewtwoMega Mewtwo X',\n",
       " 'MewtwoMega Mewtwo Y',\n",
       " 'Mienfoo',\n",
       " 'Mienshao',\n",
       " 'Mightyena',\n",
       " 'Milotic',\n",
       " 'Miltank',\n",
       " 'Mime Jr.',\n",
       " 'Minccino',\n",
       " 'Minun',\n",
       " 'Misdreavus',\n",
       " 'Mismagius',\n",
       " 'Moltres',\n",
       " 'Monferno',\n",
       " 'Mothim',\n",
       " 'Mr. Mime',\n",
       " 'Mudkip',\n",
       " 'Muk',\n",
       " 'Munchlax',\n",
       " 'Munna',\n",
       " 'Murkrow',\n",
       " 'Musharna',\n",
       " 'Natu',\n",
       " 'Nidoking',\n",
       " 'Nidoqueen',\n",
       " 'Nidoran♀',\n",
       " 'Nidoran♂',\n",
       " 'Nidorina',\n",
       " 'Nidorino',\n",
       " 'Nincada',\n",
       " 'Ninetales',\n",
       " 'Ninjask',\n",
       " 'Noctowl',\n",
       " 'Noibat',\n",
       " 'Noivern',\n",
       " 'Nosepass',\n",
       " 'Numel',\n",
       " 'Nuzleaf',\n",
       " 'Octillery',\n",
       " 'Oddish',\n",
       " 'Omanyte',\n",
       " 'Omastar',\n",
       " 'Onix',\n",
       " 'Oshawott',\n",
       " 'Pachirisu',\n",
       " 'Palkia',\n",
       " 'Palpitoad',\n",
       " 'Pancham',\n",
       " 'Pangoro',\n",
       " 'Panpour',\n",
       " 'Pansage',\n",
       " 'Pansear',\n",
       " 'Paras',\n",
       " 'Parasect',\n",
       " 'Patrat',\n",
       " 'Pawniard',\n",
       " 'Pelipper',\n",
       " 'Persian',\n",
       " 'Petilil',\n",
       " 'Phanpy',\n",
       " 'Phantump',\n",
       " 'Phione',\n",
       " 'Pichu',\n",
       " 'Pidgeot',\n",
       " 'PidgeotMega Pidgeot',\n",
       " 'Pidgeotto',\n",
       " 'Pidgey',\n",
       " 'Pidove',\n",
       " 'Pignite',\n",
       " 'Pikachu',\n",
       " 'Piloswine',\n",
       " 'Pineco',\n",
       " 'Pinsir',\n",
       " 'PinsirMega Pinsir',\n",
       " 'Piplup',\n",
       " 'Plusle',\n",
       " 'Politoed',\n",
       " 'Poliwag',\n",
       " 'Poliwhirl',\n",
       " 'Poliwrath',\n",
       " 'Ponyta',\n",
       " 'Poochyena',\n",
       " 'Porygon',\n",
       " 'Porygon-Z',\n",
       " 'Porygon2',\n",
       " 'Primeape',\n",
       " 'Prinplup',\n",
       " 'Probopass',\n",
       " 'Psyduck',\n",
       " 'PumpkabooAverage Size',\n",
       " 'PumpkabooLarge Size',\n",
       " 'PumpkabooSmall Size',\n",
       " 'PumpkabooSuper Size',\n",
       " 'Pupitar',\n",
       " 'Purrloin',\n",
       " 'Purugly',\n",
       " 'Pyroar',\n",
       " 'Quagsire',\n",
       " 'Quilava',\n",
       " 'Quilladin',\n",
       " 'Qwilfish',\n",
       " 'Raichu',\n",
       " 'Raikou',\n",
       " 'Ralts',\n",
       " 'Rampardos',\n",
       " 'Rapidash',\n",
       " 'Raticate',\n",
       " 'Rattata',\n",
       " 'Rayquaza',\n",
       " 'RayquazaMega Rayquaza',\n",
       " 'Regice',\n",
       " 'Regigigas',\n",
       " 'Regirock',\n",
       " 'Registeel',\n",
       " 'Relicanth',\n",
       " 'Remoraid',\n",
       " 'Reshiram',\n",
       " 'Reuniclus',\n",
       " 'Rhydon',\n",
       " 'Rhyhorn',\n",
       " 'Rhyperior',\n",
       " 'Riolu',\n",
       " 'Roggenrola',\n",
       " 'Roselia',\n",
       " 'Roserade',\n",
       " 'Rotom',\n",
       " 'RotomFan Rotom',\n",
       " 'RotomFrost Rotom',\n",
       " 'RotomHeat Rotom',\n",
       " 'RotomMow Rotom',\n",
       " 'RotomWash Rotom',\n",
       " 'Rufflet',\n",
       " 'Sableye',\n",
       " 'SableyeMega Sableye',\n",
       " 'Salamence',\n",
       " 'SalamenceMega Salamence',\n",
       " 'Samurott',\n",
       " 'Sandile',\n",
       " 'Sandshrew',\n",
       " 'Sandslash',\n",
       " 'Sawk',\n",
       " 'Sawsbuck',\n",
       " 'Scatterbug',\n",
       " 'Sceptile',\n",
       " 'SceptileMega Sceptile',\n",
       " 'Scizor',\n",
       " 'ScizorMega Scizor',\n",
       " 'Scolipede',\n",
       " 'Scrafty',\n",
       " 'Scraggy',\n",
       " 'Scyther',\n",
       " 'Seadra',\n",
       " 'Seaking',\n",
       " 'Sealeo',\n",
       " 'Seedot',\n",
       " 'Seel',\n",
       " 'Seismitoad',\n",
       " 'Sentret',\n",
       " 'Serperior',\n",
       " 'Servine',\n",
       " 'Seviper',\n",
       " 'Sewaddle',\n",
       " 'Sharpedo',\n",
       " 'SharpedoMega Sharpedo',\n",
       " 'ShayminLand Forme',\n",
       " 'ShayminSky Forme',\n",
       " 'Shedinja',\n",
       " 'Shelgon',\n",
       " 'Shellder',\n",
       " 'Shellos',\n",
       " 'Shelmet',\n",
       " 'Shieldon',\n",
       " 'Shiftry',\n",
       " 'Shinx',\n",
       " 'Shroomish',\n",
       " 'Shuckle',\n",
       " 'Shuppet',\n",
       " 'Sigilyph',\n",
       " 'Silcoon',\n",
       " 'Simipour',\n",
       " 'Simisage',\n",
       " 'Simisear',\n",
       " 'Skarmory',\n",
       " 'Skiddo',\n",
       " 'Skiploom',\n",
       " 'Skitty',\n",
       " 'Skorupi',\n",
       " 'Skrelp',\n",
       " 'Skuntank',\n",
       " 'Slaking',\n",
       " 'Slakoth',\n",
       " 'Sliggoo',\n",
       " 'Slowbro',\n",
       " 'SlowbroMega Slowbro',\n",
       " 'Slowking',\n",
       " 'Slowpoke',\n",
       " 'Slugma',\n",
       " 'Slurpuff',\n",
       " 'Smeargle',\n",
       " 'Smoochum',\n",
       " 'Sneasel',\n",
       " 'Snivy',\n",
       " 'Snorlax',\n",
       " 'Snorunt',\n",
       " 'Snover',\n",
       " 'Snubbull',\n",
       " 'Solosis',\n",
       " 'Solrock',\n",
       " 'Spearow',\n",
       " 'Spewpa',\n",
       " 'Spheal',\n",
       " 'Spinarak',\n",
       " 'Spinda',\n",
       " 'Spiritomb',\n",
       " 'Spoink',\n",
       " 'Spritzee',\n",
       " 'Squirtle',\n",
       " 'Stantler',\n",
       " 'Staraptor',\n",
       " 'Staravia',\n",
       " 'Starly',\n",
       " 'Starmie',\n",
       " 'Staryu',\n",
       " 'Steelix',\n",
       " 'SteelixMega Steelix',\n",
       " 'Stoutland',\n",
       " 'Stunfisk',\n",
       " 'Stunky',\n",
       " 'Sudowoodo',\n",
       " 'Suicune',\n",
       " 'Sunflora',\n",
       " 'Sunkern',\n",
       " 'Surskit',\n",
       " 'Swablu',\n",
       " 'Swadloon',\n",
       " 'Swalot',\n",
       " 'Swampert',\n",
       " 'SwampertMega Swampert',\n",
       " 'Swanna',\n",
       " 'Swellow',\n",
       " 'Swinub',\n",
       " 'Swirlix',\n",
       " 'Swoobat',\n",
       " 'Sylveon',\n",
       " 'Taillow',\n",
       " 'Talonflame',\n",
       " 'Tangela',\n",
       " 'Tangrowth',\n",
       " 'Tauros',\n",
       " 'Teddiursa',\n",
       " 'Tentacool',\n",
       " 'Tentacruel',\n",
       " 'Tepig',\n",
       " 'Terrakion',\n",
       " 'Throh',\n",
       " 'ThundurusIncarnate Forme',\n",
       " 'ThundurusTherian Forme',\n",
       " 'Timburr',\n",
       " 'Tirtouga',\n",
       " 'Togekiss',\n",
       " 'Togepi',\n",
       " 'Togetic',\n",
       " 'Torchic',\n",
       " 'Torkoal',\n",
       " 'TornadusIncarnate Forme',\n",
       " 'TornadusTherian Forme',\n",
       " 'Torterra',\n",
       " 'Totodile',\n",
       " 'Toxicroak',\n",
       " 'Tranquill',\n",
       " 'Trapinch',\n",
       " 'Treecko',\n",
       " 'Trevenant',\n",
       " 'Tropius',\n",
       " 'Trubbish',\n",
       " 'Turtwig',\n",
       " 'Tympole',\n",
       " 'Tynamo',\n",
       " 'Typhlosion',\n",
       " 'Tyranitar',\n",
       " 'TyranitarMega Tyranitar',\n",
       " 'Tyrantrum',\n",
       " 'Tyrogue',\n",
       " 'Tyrunt',\n",
       " 'Umbreon',\n",
       " 'Unfezant',\n",
       " 'Unown',\n",
       " 'Ursaring',\n",
       " 'Uxie',\n",
       " 'Vanillish',\n",
       " 'Vanillite',\n",
       " 'Vanilluxe',\n",
       " 'Vaporeon',\n",
       " 'Venipede',\n",
       " 'Venomoth',\n",
       " 'Venonat',\n",
       " 'Venusaur',\n",
       " 'VenusaurMega Venusaur',\n",
       " 'Vespiquen',\n",
       " 'Vibrava',\n",
       " 'Victini',\n",
       " 'Victreebel',\n",
       " 'Vigoroth',\n",
       " 'Vileplume',\n",
       " 'Virizion',\n",
       " 'Vivillon',\n",
       " 'Volbeat',\n",
       " 'Volcanion',\n",
       " 'Volcarona',\n",
       " 'Voltorb',\n",
       " 'Vullaby',\n",
       " 'Vulpix',\n",
       " 'Wailmer',\n",
       " 'Wailord',\n",
       " 'Walrein',\n",
       " 'Wartortle',\n",
       " 'Watchog',\n",
       " 'Weavile',\n",
       " 'Weedle',\n",
       " 'Weepinbell',\n",
       " 'Weezing',\n",
       " 'Whimsicott',\n",
       " 'Whirlipede',\n",
       " 'Whiscash',\n",
       " 'Whismur',\n",
       " 'Wigglytuff',\n",
       " 'Wingull',\n",
       " 'Wobbuffet',\n",
       " 'Woobat',\n",
       " 'Wooper',\n",
       " 'WormadamPlant Cloak',\n",
       " 'WormadamSandy Cloak',\n",
       " 'WormadamTrash Cloak',\n",
       " 'Wurmple',\n",
       " 'Wynaut',\n",
       " 'Xatu',\n",
       " 'Xerneas',\n",
       " 'Yamask',\n",
       " 'Yanma',\n",
       " 'Yanmega',\n",
       " 'Yveltal',\n",
       " 'Zangoose',\n",
       " 'Zapdos',\n",
       " 'Zebstrika',\n",
       " 'Zekrom',\n",
       " 'Zigzagoon',\n",
       " 'Zoroark',\n",
       " 'Zorua',\n",
       " 'Zubat',\n",
       " 'Zweilous',\n",
       " 'Zygarde50% Forme']"
      ]
     },
     "execution_count": 44,
     "metadata": {},
     "output_type": "execute_result"
    }
   ],
   "source": [
    "# Python built-in Sorted() function\n",
    "sorted(pokemon)"
   ]
  },
  {
   "cell_type": "code",
   "execution_count": 45,
   "id": "aa8de47f",
   "metadata": {
    "collapsed": true
   },
   "outputs": [
    {
     "data": {
      "text/plain": [
       "[85.510002,\n",
       " 86.345001,\n",
       " 86.720001,\n",
       " 87.029999,\n",
       " 87.339996,\n",
       " 87.360001,\n",
       " 87.364998,\n",
       " 87.5,\n",
       " 87.620003,\n",
       " 88.07,\n",
       " 88.544998,\n",
       " 88.730003,\n",
       " 88.93,\n",
       " 89.160004,\n",
       " 89.195,\n",
       " 89.309998,\n",
       " 89.540001,\n",
       " 89.629997,\n",
       " 89.730003,\n",
       " 89.830002,\n",
       " 89.860001,\n",
       " 90.059998,\n",
       " 90.089996,\n",
       " 90.160004,\n",
       " 90.565002,\n",
       " 90.879997,\n",
       " 90.910004,\n",
       " 91.010002,\n",
       " 91.199997,\n",
       " 91.389999,\n",
       " 91.528,\n",
       " 91.933998,\n",
       " 92.129997,\n",
       " 92.339996,\n",
       " 92.400002,\n",
       " 92.5,\n",
       " 92.529999,\n",
       " 92.739998,\n",
       " 92.779999,\n",
       " 92.940002,\n",
       " 93.07,\n",
       " 93.089996,\n",
       " 93.239998,\n",
       " 93.540001,\n",
       " 93.540001,\n",
       " 93.900002,\n",
       " 94.309998,\n",
       " 94.360001,\n",
       " 94.404999,\n",
       " 94.489998,\n",
       " 94.660004,\n",
       " 94.709999,\n",
       " 94.739998,\n",
       " 95.010002,\n",
       " 95.07,\n",
       " 95.120003,\n",
       " 95.419998,\n",
       " 95.5,\n",
       " 95.540001,\n",
       " 95.540001,\n",
       " 95.589996,\n",
       " 95.690002,\n",
       " 95.739998,\n",
       " 95.779999,\n",
       " 95.93,\n",
       " 95.949997,\n",
       " 96.0,\n",
       " 96.160004,\n",
       " 96.57,\n",
       " 96.760002,\n",
       " 96.769997,\n",
       " 97.18,\n",
       " 97.199997,\n",
       " 97.199997,\n",
       " 97.220001,\n",
       " 97.339996,\n",
       " 97.559998,\n",
       " 97.730003,\n",
       " 97.860001,\n",
       " 98.019997,\n",
       " 98.019997,\n",
       " 98.07,\n",
       " 98.25,\n",
       " 98.269997,\n",
       " 98.279999,\n",
       " 98.459999,\n",
       " 98.464996,\n",
       " 98.610001,\n",
       " 98.669998,\n",
       " 98.745003,\n",
       " 99.010002,\n",
       " 99.050003,\n",
       " 99.129997,\n",
       " 99.300003,\n",
       " 99.370003,\n",
       " 99.449997,\n",
       " 99.519997,\n",
       " 99.550003,\n",
       " 99.669998,\n",
       " 99.739998,\n",
       " 99.815002,\n",
       " 99.849998,\n",
       " 99.910004,\n",
       " 100.059998,\n",
       " 100.540001,\n",
       " 100.625,\n",
       " 100.650002,\n",
       " 100.690002,\n",
       " 100.699997,\n",
       " 100.82,\n",
       " 100.839996,\n",
       " 101.040001,\n",
       " 101.059998,\n",
       " 101.400002,\n",
       " 101.440002,\n",
       " 101.5,\n",
       " 101.709999,\n",
       " 101.980003,\n",
       " 102.089996,\n",
       " 102.239998,\n",
       " 102.540001,\n",
       " 102.669998,\n",
       " 102.684998,\n",
       " 102.690002,\n",
       " 102.720001,\n",
       " 102.879997,\n",
       " 102.970001,\n",
       " 103.0,\n",
       " 103.300003,\n",
       " 103.510002,\n",
       " 103.629997,\n",
       " 103.940002,\n",
       " 104.214996,\n",
       " 104.650002,\n",
       " 104.839996,\n",
       " 105.010002,\n",
       " 105.139999,\n",
       " 105.230003,\n",
       " 105.32,\n",
       " 105.32,\n",
       " 105.43,\n",
       " 105.440002,\n",
       " 105.559998,\n",
       " 105.739998,\n",
       " 105.769997,\n",
       " 105.794998,\n",
       " 105.889999,\n",
       " 106.050003,\n",
       " 106.089996,\n",
       " 106.120003,\n",
       " 106.160004,\n",
       " 106.220001,\n",
       " 106.470001,\n",
       " 106.610001,\n",
       " 106.790001,\n",
       " 106.919998,\n",
       " 107.0,\n",
       " 107.389999,\n",
       " 107.389999,\n",
       " 107.660004,\n",
       " 107.690002,\n",
       " 107.720001,\n",
       " 107.760002,\n",
       " 107.800003,\n",
       " 108.135002,\n",
       " 108.550003,\n",
       " 108.779999,\n",
       " 108.889999,\n",
       " 109.18,\n",
       " 109.199997,\n",
       " 110.050003,\n",
       " 111.339996,\n",
       " 111.629997,\n",
       " 111.989998,\n",
       " 115.860001,\n",
       " 116.489998,\n",
       " 116.760002,\n",
       " 116.830002,\n",
       " 117.0,\n",
       " 117.839996,\n",
       " 117.959999,\n",
       " 119.07,\n",
       " 119.300003,\n",
       " 120.059998,\n",
       " 120.089996,\n",
       " 120.18,\n",
       " 120.32,\n",
       " 120.639999,\n",
       " 120.660004,\n",
       " 120.870003,\n",
       " 120.889999,\n",
       " 121.099998,\n",
       " 121.466003,\n",
       " 121.540001,\n",
       " 121.559998,\n",
       " 121.879997,\n",
       " 121.879997,\n",
       " 121.926003,\n",
       " 122.040001,\n",
       " 122.120003,\n",
       " 122.559998,\n",
       " 122.584999,\n",
       " 123.235001,\n",
       " 123.394997,\n",
       " 123.5,\n",
       " 123.510002,\n",
       " 123.535004,\n",
       " 123.699997,\n",
       " 123.800003,\n",
       " 123.879997,\n",
       " 124.065002,\n",
       " 124.199997,\n",
       " 124.489998,\n",
       " 124.610001,\n",
       " 124.790001,\n",
       " 124.904999,\n",
       " 124.93,\n",
       " 125.129997,\n",
       " 125.209999,\n",
       " 125.650002,\n",
       " 126.059998,\n",
       " 126.290001,\n",
       " 126.599998,\n",
       " 126.699997,\n",
       " 127.574997,\n",
       " 127.849998,\n",
       " 128.369995,\n",
       " 129.059998,\n",
       " 129.130005,\n",
       " 129.201996,\n",
       " 129.279999,\n",
       " 129.509995,\n",
       " 129.600006,\n",
       " 129.839996,\n",
       " 129.850006,\n",
       " 130.139999,\n",
       " 130.360001,\n",
       " 130.449997,\n",
       " 130.850006,\n",
       " 130.854996,\n",
       " 130.970001,\n",
       " 130.979996,\n",
       " 131.589996,\n",
       " 131.800003,\n",
       " 131.970001,\n",
       " 132.080002,\n",
       " 132.190002,\n",
       " 132.998001,\n",
       " 133.009995,\n",
       " 134.727005,\n",
       " 135.570007,\n",
       " 137.050003]"
      ]
     },
     "execution_count": 45,
     "metadata": {},
     "output_type": "execute_result"
    }
   ],
   "source": [
    "sorted(google)"
   ]
  },
  {
   "cell_type": "code",
   "execution_count": 46,
   "id": "3fa072f5",
   "metadata": {
    "collapsed": true
   },
   "outputs": [
    {
     "data": {
      "text/plain": [
       "['Bulbasaur',\n",
       " 'Ivysaur',\n",
       " 'Venusaur',\n",
       " 'VenusaurMega Venusaur',\n",
       " 'Charmander',\n",
       " 'Charmeleon',\n",
       " 'Charizard',\n",
       " 'CharizardMega Charizard X',\n",
       " 'CharizardMega Charizard Y',\n",
       " 'Squirtle',\n",
       " 'Wartortle',\n",
       " 'Blastoise',\n",
       " 'BlastoiseMega Blastoise',\n",
       " 'Caterpie',\n",
       " 'Metapod',\n",
       " 'Butterfree',\n",
       " 'Weedle',\n",
       " 'Kakuna',\n",
       " 'Beedrill',\n",
       " 'BeedrillMega Beedrill',\n",
       " 'Pidgey',\n",
       " 'Pidgeotto',\n",
       " 'Pidgeot',\n",
       " 'PidgeotMega Pidgeot',\n",
       " 'Rattata',\n",
       " 'Raticate',\n",
       " 'Spearow',\n",
       " 'Fearow',\n",
       " 'Ekans',\n",
       " 'Arbok',\n",
       " 'Pikachu',\n",
       " 'Raichu',\n",
       " 'Sandshrew',\n",
       " 'Sandslash',\n",
       " 'Nidoran♀',\n",
       " 'Nidorina',\n",
       " 'Nidoqueen',\n",
       " 'Nidoran♂',\n",
       " 'Nidorino',\n",
       " 'Nidoking',\n",
       " 'Clefairy',\n",
       " 'Clefable',\n",
       " 'Vulpix',\n",
       " 'Ninetales',\n",
       " 'Jigglypuff',\n",
       " 'Wigglytuff',\n",
       " 'Zubat',\n",
       " 'Golbat',\n",
       " 'Oddish',\n",
       " 'Gloom',\n",
       " 'Vileplume',\n",
       " 'Paras',\n",
       " 'Parasect',\n",
       " 'Venonat',\n",
       " 'Venomoth',\n",
       " 'Diglett',\n",
       " 'Dugtrio',\n",
       " 'Meowth',\n",
       " 'Persian',\n",
       " 'Psyduck',\n",
       " 'Golduck',\n",
       " 'Mankey',\n",
       " 'Primeape',\n",
       " 'Growlithe',\n",
       " 'Arcanine',\n",
       " 'Poliwag',\n",
       " 'Poliwhirl',\n",
       " 'Poliwrath',\n",
       " 'Abra',\n",
       " 'Kadabra',\n",
       " 'Alakazam',\n",
       " 'AlakazamMega Alakazam',\n",
       " 'Machop',\n",
       " 'Machoke',\n",
       " 'Machamp',\n",
       " 'Bellsprout',\n",
       " 'Weepinbell',\n",
       " 'Victreebel',\n",
       " 'Tentacool',\n",
       " 'Tentacruel',\n",
       " 'Geodude',\n",
       " 'Graveler',\n",
       " 'Golem',\n",
       " 'Ponyta',\n",
       " 'Rapidash',\n",
       " 'Slowpoke',\n",
       " 'Slowbro',\n",
       " 'SlowbroMega Slowbro',\n",
       " 'Magnemite',\n",
       " 'Magneton',\n",
       " \"Farfetch'd\",\n",
       " 'Doduo',\n",
       " 'Dodrio',\n",
       " 'Seel',\n",
       " 'Dewgong',\n",
       " 'Grimer',\n",
       " 'Muk',\n",
       " 'Shellder',\n",
       " 'Cloyster',\n",
       " 'Gastly',\n",
       " 'Haunter',\n",
       " 'Gengar',\n",
       " 'GengarMega Gengar',\n",
       " 'Onix',\n",
       " 'Drowzee',\n",
       " 'Hypno',\n",
       " 'Krabby',\n",
       " 'Kingler',\n",
       " 'Voltorb',\n",
       " 'Electrode',\n",
       " 'Exeggcute',\n",
       " 'Exeggutor',\n",
       " 'Cubone',\n",
       " 'Marowak',\n",
       " 'Hitmonlee',\n",
       " 'Hitmonchan',\n",
       " 'Lickitung',\n",
       " 'Koffing',\n",
       " 'Weezing',\n",
       " 'Rhyhorn',\n",
       " 'Rhydon',\n",
       " 'Chansey',\n",
       " 'Tangela',\n",
       " 'Kangaskhan',\n",
       " 'KangaskhanMega Kangaskhan',\n",
       " 'Horsea',\n",
       " 'Seadra',\n",
       " 'Goldeen',\n",
       " 'Seaking',\n",
       " 'Staryu',\n",
       " 'Starmie',\n",
       " 'Mr. Mime',\n",
       " 'Scyther',\n",
       " 'Jynx',\n",
       " 'Electabuzz',\n",
       " 'Magmar',\n",
       " 'Pinsir',\n",
       " 'PinsirMega Pinsir',\n",
       " 'Tauros',\n",
       " 'Magikarp',\n",
       " 'Gyarados',\n",
       " 'GyaradosMega Gyarados',\n",
       " 'Lapras',\n",
       " 'Ditto',\n",
       " 'Eevee',\n",
       " 'Vaporeon',\n",
       " 'Jolteon',\n",
       " 'Flareon',\n",
       " 'Porygon',\n",
       " 'Omanyte',\n",
       " 'Omastar',\n",
       " 'Kabuto',\n",
       " 'Kabutops',\n",
       " 'Aerodactyl',\n",
       " 'AerodactylMega Aerodactyl',\n",
       " 'Snorlax',\n",
       " 'Articuno',\n",
       " 'Zapdos',\n",
       " 'Moltres',\n",
       " 'Dratini',\n",
       " 'Dragonair',\n",
       " 'Dragonite',\n",
       " 'Mewtwo',\n",
       " 'MewtwoMega Mewtwo X',\n",
       " 'MewtwoMega Mewtwo Y',\n",
       " 'Mew',\n",
       " 'Chikorita',\n",
       " 'Bayleef',\n",
       " 'Meganium',\n",
       " 'Cyndaquil',\n",
       " 'Quilava',\n",
       " 'Typhlosion',\n",
       " 'Totodile',\n",
       " 'Croconaw',\n",
       " 'Feraligatr',\n",
       " 'Sentret',\n",
       " 'Furret',\n",
       " 'Hoothoot',\n",
       " 'Noctowl',\n",
       " 'Ledyba',\n",
       " 'Ledian',\n",
       " 'Spinarak',\n",
       " 'Ariados',\n",
       " 'Crobat',\n",
       " 'Chinchou',\n",
       " 'Lanturn',\n",
       " 'Pichu',\n",
       " 'Cleffa',\n",
       " 'Igglybuff',\n",
       " 'Togepi',\n",
       " 'Togetic',\n",
       " 'Natu',\n",
       " 'Xatu',\n",
       " 'Mareep',\n",
       " 'Flaaffy',\n",
       " 'Ampharos',\n",
       " 'AmpharosMega Ampharos',\n",
       " 'Bellossom',\n",
       " 'Marill',\n",
       " 'Azumarill',\n",
       " 'Sudowoodo',\n",
       " 'Politoed',\n",
       " 'Hoppip',\n",
       " 'Skiploom',\n",
       " 'Jumpluff',\n",
       " 'Aipom',\n",
       " 'Sunkern',\n",
       " 'Sunflora',\n",
       " 'Yanma',\n",
       " 'Wooper',\n",
       " 'Quagsire',\n",
       " 'Espeon',\n",
       " 'Umbreon',\n",
       " 'Murkrow',\n",
       " 'Slowking',\n",
       " 'Misdreavus',\n",
       " 'Unown',\n",
       " 'Wobbuffet',\n",
       " 'Girafarig',\n",
       " 'Pineco',\n",
       " 'Forretress',\n",
       " 'Dunsparce',\n",
       " 'Gligar',\n",
       " 'Steelix',\n",
       " 'SteelixMega Steelix',\n",
       " 'Snubbull',\n",
       " 'Granbull',\n",
       " 'Qwilfish',\n",
       " 'Scizor',\n",
       " 'ScizorMega Scizor',\n",
       " 'Shuckle',\n",
       " 'Heracross',\n",
       " 'HeracrossMega Heracross',\n",
       " 'Sneasel',\n",
       " 'Teddiursa',\n",
       " 'Ursaring',\n",
       " 'Slugma',\n",
       " 'Magcargo',\n",
       " 'Swinub',\n",
       " 'Piloswine',\n",
       " 'Corsola',\n",
       " 'Remoraid',\n",
       " 'Octillery',\n",
       " 'Delibird',\n",
       " 'Mantine',\n",
       " 'Skarmory',\n",
       " 'Houndour',\n",
       " 'Houndoom',\n",
       " 'HoundoomMega Houndoom',\n",
       " 'Kingdra',\n",
       " 'Phanpy',\n",
       " 'Donphan',\n",
       " 'Porygon2',\n",
       " 'Stantler',\n",
       " 'Smeargle',\n",
       " 'Tyrogue',\n",
       " 'Hitmontop',\n",
       " 'Smoochum',\n",
       " 'Elekid',\n",
       " 'Magby',\n",
       " 'Miltank',\n",
       " 'Blissey',\n",
       " 'Raikou',\n",
       " 'Entei',\n",
       " 'Suicune',\n",
       " 'Larvitar',\n",
       " 'Pupitar',\n",
       " 'Tyranitar',\n",
       " 'TyranitarMega Tyranitar',\n",
       " 'Lugia',\n",
       " 'Ho-oh',\n",
       " 'Celebi',\n",
       " 'Treecko',\n",
       " 'Grovyle',\n",
       " 'Sceptile',\n",
       " 'SceptileMega Sceptile',\n",
       " 'Torchic',\n",
       " 'Combusken',\n",
       " 'Blaziken',\n",
       " 'BlazikenMega Blaziken',\n",
       " 'Mudkip',\n",
       " 'Marshtomp',\n",
       " 'Swampert',\n",
       " 'SwampertMega Swampert',\n",
       " 'Poochyena',\n",
       " 'Mightyena',\n",
       " 'Zigzagoon',\n",
       " 'Linoone',\n",
       " 'Wurmple',\n",
       " 'Silcoon',\n",
       " 'Beautifly',\n",
       " 'Cascoon',\n",
       " 'Dustox',\n",
       " 'Lotad',\n",
       " 'Lombre',\n",
       " 'Ludicolo',\n",
       " 'Seedot',\n",
       " 'Nuzleaf',\n",
       " 'Shiftry',\n",
       " 'Taillow',\n",
       " 'Swellow',\n",
       " 'Wingull',\n",
       " 'Pelipper',\n",
       " 'Ralts',\n",
       " 'Kirlia',\n",
       " 'Gardevoir',\n",
       " 'GardevoirMega Gardevoir',\n",
       " 'Surskit',\n",
       " 'Masquerain',\n",
       " 'Shroomish',\n",
       " 'Breloom',\n",
       " 'Slakoth',\n",
       " 'Vigoroth',\n",
       " 'Slaking',\n",
       " 'Nincada',\n",
       " 'Ninjask',\n",
       " 'Shedinja',\n",
       " 'Whismur',\n",
       " 'Loudred',\n",
       " 'Exploud',\n",
       " 'Makuhita',\n",
       " 'Hariyama',\n",
       " 'Azurill',\n",
       " 'Nosepass',\n",
       " 'Skitty',\n",
       " 'Delcatty',\n",
       " 'Sableye',\n",
       " 'SableyeMega Sableye',\n",
       " 'Mawile',\n",
       " 'MawileMega Mawile',\n",
       " 'Aron',\n",
       " 'Lairon',\n",
       " 'Aggron',\n",
       " 'AggronMega Aggron',\n",
       " 'Meditite',\n",
       " 'Medicham',\n",
       " 'MedichamMega Medicham',\n",
       " 'Electrike',\n",
       " 'Manectric',\n",
       " 'ManectricMega Manectric',\n",
       " 'Plusle',\n",
       " 'Minun',\n",
       " 'Volbeat',\n",
       " 'Illumise',\n",
       " 'Roselia',\n",
       " 'Gulpin',\n",
       " 'Swalot',\n",
       " 'Carvanha',\n",
       " 'Sharpedo',\n",
       " 'SharpedoMega Sharpedo',\n",
       " 'Wailmer',\n",
       " 'Wailord',\n",
       " 'Numel',\n",
       " 'Camerupt',\n",
       " 'CameruptMega Camerupt',\n",
       " 'Torkoal',\n",
       " 'Spoink',\n",
       " 'Grumpig',\n",
       " 'Spinda',\n",
       " 'Trapinch',\n",
       " 'Vibrava',\n",
       " 'Flygon',\n",
       " 'Cacnea',\n",
       " 'Cacturne',\n",
       " 'Swablu',\n",
       " 'Altaria',\n",
       " 'AltariaMega Altaria',\n",
       " 'Zangoose',\n",
       " 'Seviper',\n",
       " 'Lunatone',\n",
       " 'Solrock',\n",
       " 'Barboach',\n",
       " 'Whiscash',\n",
       " 'Corphish',\n",
       " 'Crawdaunt',\n",
       " 'Baltoy',\n",
       " 'Claydol',\n",
       " 'Lileep',\n",
       " 'Cradily',\n",
       " 'Anorith',\n",
       " 'Armaldo',\n",
       " 'Feebas',\n",
       " 'Milotic',\n",
       " 'Castform',\n",
       " 'Kecleon',\n",
       " 'Shuppet',\n",
       " 'Banette',\n",
       " 'BanetteMega Banette',\n",
       " 'Duskull',\n",
       " 'Dusclops',\n",
       " 'Tropius',\n",
       " 'Chimecho',\n",
       " 'Absol',\n",
       " 'AbsolMega Absol',\n",
       " 'Wynaut',\n",
       " 'Snorunt',\n",
       " 'Glalie',\n",
       " 'GlalieMega Glalie',\n",
       " 'Spheal',\n",
       " 'Sealeo',\n",
       " 'Walrein',\n",
       " 'Clamperl',\n",
       " 'Huntail',\n",
       " 'Gorebyss',\n",
       " 'Relicanth',\n",
       " 'Luvdisc',\n",
       " 'Bagon',\n",
       " 'Shelgon',\n",
       " 'Salamence',\n",
       " 'SalamenceMega Salamence',\n",
       " 'Beldum',\n",
       " 'Metang',\n",
       " 'Metagross',\n",
       " 'MetagrossMega Metagross',\n",
       " 'Regirock',\n",
       " 'Regice',\n",
       " 'Registeel',\n",
       " 'Latias',\n",
       " 'LatiasMega Latias',\n",
       " 'Latios',\n",
       " 'LatiosMega Latios',\n",
       " 'Kyogre',\n",
       " 'KyogrePrimal Kyogre',\n",
       " 'Groudon',\n",
       " 'GroudonPrimal Groudon',\n",
       " 'Rayquaza',\n",
       " 'RayquazaMega Rayquaza',\n",
       " 'Jirachi',\n",
       " 'DeoxysNormal Forme',\n",
       " 'DeoxysAttack Forme',\n",
       " 'DeoxysDefense Forme',\n",
       " 'DeoxysSpeed Forme',\n",
       " 'Turtwig',\n",
       " 'Grotle',\n",
       " 'Torterra',\n",
       " 'Chimchar',\n",
       " 'Monferno',\n",
       " 'Infernape',\n",
       " 'Piplup',\n",
       " 'Prinplup',\n",
       " 'Empoleon',\n",
       " 'Starly',\n",
       " 'Staravia',\n",
       " 'Staraptor',\n",
       " 'Bidoof',\n",
       " 'Bibarel',\n",
       " 'Kricketot',\n",
       " 'Kricketune',\n",
       " 'Shinx',\n",
       " 'Luxio',\n",
       " 'Luxray',\n",
       " 'Budew',\n",
       " 'Roserade',\n",
       " 'Cranidos',\n",
       " 'Rampardos',\n",
       " 'Shieldon',\n",
       " 'Bastiodon',\n",
       " 'Burmy',\n",
       " 'WormadamPlant Cloak',\n",
       " 'WormadamSandy Cloak',\n",
       " 'WormadamTrash Cloak',\n",
       " 'Mothim',\n",
       " 'Combee',\n",
       " 'Vespiquen',\n",
       " 'Pachirisu',\n",
       " 'Buizel',\n",
       " 'Floatzel',\n",
       " 'Cherubi',\n",
       " 'Cherrim',\n",
       " 'Shellos',\n",
       " 'Gastrodon',\n",
       " 'Ambipom',\n",
       " 'Drifloon',\n",
       " 'Drifblim',\n",
       " 'Buneary',\n",
       " 'Lopunny',\n",
       " 'LopunnyMega Lopunny',\n",
       " 'Mismagius',\n",
       " 'Honchkrow',\n",
       " 'Glameow',\n",
       " 'Purugly',\n",
       " 'Chingling',\n",
       " 'Stunky',\n",
       " 'Skuntank',\n",
       " 'Bronzor',\n",
       " 'Bronzong',\n",
       " 'Bonsly',\n",
       " 'Mime Jr.',\n",
       " 'Happiny',\n",
       " 'Chatot',\n",
       " 'Spiritomb',\n",
       " 'Gible',\n",
       " 'Gabite',\n",
       " 'Garchomp',\n",
       " 'GarchompMega Garchomp',\n",
       " 'Munchlax',\n",
       " 'Riolu',\n",
       " 'Lucario',\n",
       " 'LucarioMega Lucario',\n",
       " 'Hippopotas',\n",
       " 'Hippowdon',\n",
       " 'Skorupi',\n",
       " 'Drapion',\n",
       " 'Croagunk',\n",
       " 'Toxicroak',\n",
       " 'Carnivine',\n",
       " 'Finneon',\n",
       " 'Lumineon',\n",
       " 'Mantyke',\n",
       " 'Snover',\n",
       " 'Abomasnow',\n",
       " 'AbomasnowMega Abomasnow',\n",
       " 'Weavile',\n",
       " 'Magnezone',\n",
       " 'Lickilicky',\n",
       " 'Rhyperior',\n",
       " 'Tangrowth',\n",
       " 'Electivire',\n",
       " 'Magmortar',\n",
       " 'Togekiss',\n",
       " 'Yanmega',\n",
       " 'Leafeon',\n",
       " 'Glaceon',\n",
       " 'Gliscor',\n",
       " 'Mamoswine',\n",
       " 'Porygon-Z',\n",
       " 'Gallade',\n",
       " 'GalladeMega Gallade',\n",
       " 'Probopass',\n",
       " 'Dusknoir',\n",
       " 'Froslass',\n",
       " 'Rotom',\n",
       " 'RotomHeat Rotom',\n",
       " 'RotomWash Rotom',\n",
       " 'RotomFrost Rotom',\n",
       " 'RotomFan Rotom',\n",
       " 'RotomMow Rotom',\n",
       " 'Uxie',\n",
       " 'Mesprit',\n",
       " 'Azelf',\n",
       " 'Dialga',\n",
       " 'Palkia',\n",
       " 'Heatran',\n",
       " 'Regigigas',\n",
       " 'GiratinaAltered Forme',\n",
       " 'GiratinaOrigin Forme',\n",
       " 'Cresselia',\n",
       " 'Phione',\n",
       " 'Manaphy',\n",
       " 'Darkrai',\n",
       " 'ShayminLand Forme',\n",
       " 'ShayminSky Forme',\n",
       " 'Arceus',\n",
       " 'Victini',\n",
       " 'Snivy',\n",
       " 'Servine',\n",
       " 'Serperior',\n",
       " 'Tepig',\n",
       " 'Pignite',\n",
       " 'Emboar',\n",
       " 'Oshawott',\n",
       " 'Dewott',\n",
       " 'Samurott',\n",
       " 'Patrat',\n",
       " 'Watchog',\n",
       " 'Lillipup',\n",
       " 'Herdier',\n",
       " 'Stoutland',\n",
       " 'Purrloin',\n",
       " 'Liepard',\n",
       " 'Pansage',\n",
       " 'Simisage',\n",
       " 'Pansear',\n",
       " 'Simisear',\n",
       " 'Panpour',\n",
       " 'Simipour',\n",
       " 'Munna',\n",
       " 'Musharna',\n",
       " 'Pidove',\n",
       " 'Tranquill',\n",
       " 'Unfezant',\n",
       " 'Blitzle',\n",
       " 'Zebstrika',\n",
       " 'Roggenrola',\n",
       " 'Boldore',\n",
       " 'Gigalith',\n",
       " 'Woobat',\n",
       " 'Swoobat',\n",
       " 'Drilbur',\n",
       " 'Excadrill',\n",
       " 'Audino',\n",
       " 'AudinoMega Audino',\n",
       " 'Timburr',\n",
       " 'Gurdurr',\n",
       " 'Conkeldurr',\n",
       " 'Tympole',\n",
       " 'Palpitoad',\n",
       " 'Seismitoad',\n",
       " 'Throh',\n",
       " 'Sawk',\n",
       " 'Sewaddle',\n",
       " 'Swadloon',\n",
       " 'Leavanny',\n",
       " 'Venipede',\n",
       " 'Whirlipede',\n",
       " 'Scolipede',\n",
       " 'Cottonee',\n",
       " 'Whimsicott',\n",
       " 'Petilil',\n",
       " 'Lilligant',\n",
       " 'Basculin',\n",
       " 'Sandile',\n",
       " 'Krokorok',\n",
       " 'Krookodile',\n",
       " 'Darumaka',\n",
       " 'DarmanitanStandard Mode',\n",
       " 'DarmanitanZen Mode',\n",
       " 'Maractus',\n",
       " 'Dwebble',\n",
       " 'Crustle',\n",
       " 'Scraggy',\n",
       " 'Scrafty',\n",
       " 'Sigilyph',\n",
       " 'Yamask',\n",
       " 'Cofagrigus',\n",
       " 'Tirtouga',\n",
       " 'Carracosta',\n",
       " 'Archen',\n",
       " 'Archeops',\n",
       " 'Trubbish',\n",
       " 'Garbodor',\n",
       " 'Zorua',\n",
       " 'Zoroark',\n",
       " 'Minccino',\n",
       " 'Cinccino',\n",
       " 'Gothita',\n",
       " 'Gothorita',\n",
       " 'Gothitelle',\n",
       " 'Solosis',\n",
       " 'Duosion',\n",
       " 'Reuniclus',\n",
       " 'Ducklett',\n",
       " 'Swanna',\n",
       " 'Vanillite',\n",
       " 'Vanillish',\n",
       " 'Vanilluxe',\n",
       " 'Deerling',\n",
       " 'Sawsbuck',\n",
       " 'Emolga',\n",
       " 'Karrablast',\n",
       " 'Escavalier',\n",
       " 'Foongus',\n",
       " 'Amoonguss',\n",
       " 'Frillish',\n",
       " 'Jellicent',\n",
       " 'Alomomola',\n",
       " 'Joltik',\n",
       " 'Galvantula',\n",
       " 'Ferroseed',\n",
       " 'Ferrothorn',\n",
       " 'Klink',\n",
       " 'Klang',\n",
       " 'Klinklang',\n",
       " 'Tynamo',\n",
       " 'Eelektrik',\n",
       " 'Eelektross',\n",
       " 'Elgyem',\n",
       " 'Beheeyem',\n",
       " 'Litwick',\n",
       " 'Lampent',\n",
       " 'Chandelure',\n",
       " 'Axew',\n",
       " 'Fraxure',\n",
       " 'Haxorus',\n",
       " 'Cubchoo',\n",
       " 'Beartic',\n",
       " 'Cryogonal',\n",
       " 'Shelmet',\n",
       " 'Accelgor',\n",
       " 'Stunfisk',\n",
       " 'Mienfoo',\n",
       " 'Mienshao',\n",
       " 'Druddigon',\n",
       " 'Golett',\n",
       " 'Golurk',\n",
       " 'Pawniard',\n",
       " 'Bisharp',\n",
       " 'Bouffalant',\n",
       " 'Rufflet',\n",
       " 'Braviary',\n",
       " 'Vullaby',\n",
       " 'Mandibuzz',\n",
       " 'Heatmor',\n",
       " 'Durant',\n",
       " 'Deino',\n",
       " 'Zweilous',\n",
       " 'Hydreigon',\n",
       " 'Larvesta',\n",
       " 'Volcarona',\n",
       " 'Cobalion',\n",
       " 'Terrakion',\n",
       " 'Virizion',\n",
       " 'TornadusIncarnate Forme',\n",
       " 'TornadusTherian Forme',\n",
       " 'ThundurusIncarnate Forme',\n",
       " 'ThundurusTherian Forme',\n",
       " 'Reshiram',\n",
       " 'Zekrom',\n",
       " 'LandorusIncarnate Forme',\n",
       " 'LandorusTherian Forme',\n",
       " 'Kyurem',\n",
       " 'KyuremBlack Kyurem',\n",
       " 'KyuremWhite Kyurem',\n",
       " 'KeldeoOrdinary Forme',\n",
       " 'KeldeoResolute Forme',\n",
       " 'MeloettaAria Forme',\n",
       " 'MeloettaPirouette Forme',\n",
       " 'Genesect',\n",
       " 'Chespin',\n",
       " 'Quilladin',\n",
       " 'Chesnaught',\n",
       " 'Fennekin',\n",
       " 'Braixen',\n",
       " 'Delphox',\n",
       " 'Froakie',\n",
       " 'Frogadier',\n",
       " 'Greninja',\n",
       " 'Bunnelby',\n",
       " 'Diggersby',\n",
       " 'Fletchling',\n",
       " 'Fletchinder',\n",
       " 'Talonflame',\n",
       " 'Scatterbug',\n",
       " 'Spewpa',\n",
       " 'Vivillon',\n",
       " 'Litleo',\n",
       " 'Pyroar',\n",
       " 'Flabébé',\n",
       " 'Floette',\n",
       " 'Florges',\n",
       " 'Skiddo',\n",
       " 'Gogoat',\n",
       " 'Pancham',\n",
       " 'Pangoro',\n",
       " 'Furfrou',\n",
       " 'Espurr',\n",
       " 'MeowsticMale',\n",
       " 'MeowsticFemale',\n",
       " 'Honedge',\n",
       " 'Doublade',\n",
       " 'AegislashBlade Forme',\n",
       " 'AegislashShield Forme',\n",
       " 'Spritzee',\n",
       " 'Aromatisse',\n",
       " 'Swirlix',\n",
       " 'Slurpuff',\n",
       " 'Inkay',\n",
       " 'Malamar',\n",
       " 'Binacle',\n",
       " 'Barbaracle',\n",
       " 'Skrelp',\n",
       " 'Dragalge',\n",
       " 'Clauncher',\n",
       " 'Clawitzer',\n",
       " 'Helioptile',\n",
       " 'Heliolisk',\n",
       " 'Tyrunt',\n",
       " 'Tyrantrum',\n",
       " 'Amaura',\n",
       " 'Aurorus',\n",
       " 'Sylveon',\n",
       " 'Hawlucha',\n",
       " 'Dedenne',\n",
       " 'Carbink',\n",
       " 'Goomy',\n",
       " 'Sliggoo',\n",
       " 'Goodra',\n",
       " 'Klefki',\n",
       " 'Phantump',\n",
       " 'Trevenant',\n",
       " 'PumpkabooAverage Size',\n",
       " 'PumpkabooSmall Size',\n",
       " 'PumpkabooLarge Size',\n",
       " 'PumpkabooSuper Size',\n",
       " 'GourgeistAverage Size',\n",
       " 'GourgeistSmall Size',\n",
       " 'GourgeistLarge Size',\n",
       " 'GourgeistSuper Size',\n",
       " 'Bergmite',\n",
       " 'Avalugg',\n",
       " 'Noibat',\n",
       " 'Noivern',\n",
       " 'Xerneas',\n",
       " 'Yveltal',\n",
       " 'Zygarde50% Forme',\n",
       " 'Diancie',\n",
       " 'DiancieMega Diancie',\n",
       " 'HoopaHoopa Confined',\n",
       " 'HoopaHoopa Unbound',\n",
       " 'Volcanion']"
      ]
     },
     "execution_count": 46,
     "metadata": {},
     "output_type": "execute_result"
    }
   ],
   "source": [
    "list(pokemon)\n",
    "# It's going to take the values and thrn them into a Python list.\n",
    "# It's kind of doing the exact opposite operation that we've done."
   ]
  },
  {
   "cell_type": "code",
   "execution_count": 47,
   "id": "637ce7a4",
   "metadata": {
    "collapsed": true
   },
   "outputs": [
    {
     "data": {
      "text/plain": [
       "{0: 111.629997,\n",
       " 1: 109.199997,\n",
       " 2: 111.339996,\n",
       " 3: 108.135002,\n",
       " 4: 107.760002,\n",
       " 5: 109.18,\n",
       " 6: 110.050003,\n",
       " 7: 111.989998,\n",
       " 8: 108.889999,\n",
       " 9: 105.440002,\n",
       " 10: 105.010002,\n",
       " 11: 102.970001,\n",
       " 12: 102.540001,\n",
       " 13: 102.879997,\n",
       " 14: 102.239998,\n",
       " 15: 99.449997,\n",
       " 16: 100.059998,\n",
       " 17: 98.610001,\n",
       " 18: 99.910004,\n",
       " 19: 98.019997,\n",
       " 20: 99.300003,\n",
       " 21: 97.730003,\n",
       " 22: 97.220001,\n",
       " 23: 101.040001,\n",
       " 24: 100.690002,\n",
       " 25: 101.5,\n",
       " 26: 100.650002,\n",
       " 27: 99.849998,\n",
       " 28: 98.25,\n",
       " 29: 98.269997,\n",
       " 30: 95.93,\n",
       " 31: 100.625,\n",
       " 32: 99.519997,\n",
       " 33: 103.940002,\n",
       " 34: 100.699997,\n",
       " 35: 100.82,\n",
       " 36: 98.459999,\n",
       " 37: 102.089996,\n",
       " 38: 103.300003,\n",
       " 39: 96.760002,\n",
       " 40: 94.309998,\n",
       " 41: 92.529999,\n",
       " 42: 95.779999,\n",
       " 43: 95.589996,\n",
       " 44: 90.910004,\n",
       " 45: 86.345001,\n",
       " 46: 85.510002,\n",
       " 47: 87.339996,\n",
       " 48: 89.160004,\n",
       " 49: 88.544998,\n",
       " 50: 92.339996,\n",
       " 51: 94.709999,\n",
       " 52: 95.5,\n",
       " 53: 98.669998,\n",
       " 54: 98.019997,\n",
       " 55: 97.18,\n",
       " 56: 99.010002,\n",
       " 57: 97.559998,\n",
       " 58: 96.160004,\n",
       " 59: 97.339996,\n",
       " 60: 98.464996,\n",
       " 61: 97.199997,\n",
       " 62: 96.0,\n",
       " 63: 95.120003,\n",
       " 64: 101.400002,\n",
       " 65: 99.370003,\n",
       " 66: 99.815002,\n",
       " 67: 99.669998,\n",
       " 68: 96.769997,\n",
       " 69: 95.690002,\n",
       " 70: 93.900002,\n",
       " 71: 93.089996,\n",
       " 72: 98.07,\n",
       " 73: 95.540001,\n",
       " 74: 93.540001,\n",
       " 75: 91.199997,\n",
       " 76: 90.879997,\n",
       " 77: 88.730003,\n",
       " 78: 89.730003,\n",
       " 79: 88.93,\n",
       " 80: 87.620003,\n",
       " 81: 89.309998,\n",
       " 82: 87.5,\n",
       " 83: 87.029999,\n",
       " 84: 87.364998,\n",
       " 85: 89.830002,\n",
       " 86: 91.010002,\n",
       " 87: 88.07,\n",
       " 88: 87.360001,\n",
       " 89: 89.195,\n",
       " 90: 86.720001,\n",
       " 91: 90.059998,\n",
       " 92: 92.400002,\n",
       " 93: 91.528,\n",
       " 94: 92.779999,\n",
       " 95: 92.940002,\n",
       " 96: 91.389999,\n",
       " 97: 95.949997,\n",
       " 98: 99.129997,\n",
       " 99: 99.550003,\n",
       " 100: 97.199997,\n",
       " 101: 98.279999,\n",
       " 102: 99.050003,\n",
       " 103: 98.745003,\n",
       " 104: 97.860001,\n",
       " 105: 99.739998,\n",
       " 106: 106.790001,\n",
       " 107: 103.510002,\n",
       " 108: 102.684998,\n",
       " 109: 103.629997,\n",
       " 110: 102.690002,\n",
       " 111: 100.540001,\n",
       " 112: 95.739998,\n",
       " 113: 95.010002,\n",
       " 114: 94.660004,\n",
       " 115: 94.739998,\n",
       " 116: 95.540001,\n",
       " 117: 95.07,\n",
       " 118: 93.239998,\n",
       " 119: 91.933998,\n",
       " 120: 92.129997,\n",
       " 121: 89.629997,\n",
       " 122: 90.089996,\n",
       " 123: 89.540001,\n",
       " 124: 90.160004,\n",
       " 125: 89.860001,\n",
       " 126: 92.739998,\n",
       " 127: 94.360001,\n",
       " 128: 95.419998,\n",
       " 129: 94.404999,\n",
       " 130: 94.489998,\n",
       " 131: 92.5,\n",
       " 132: 90.565002,\n",
       " 133: 93.07,\n",
       " 134: 93.540001,\n",
       " 135: 96.57,\n",
       " 136: 100.839996,\n",
       " 137: 101.059998,\n",
       " 138: 101.980003,\n",
       " 139: 105.139999,\n",
       " 140: 105.889999,\n",
       " 141: 105.739998,\n",
       " 142: 105.32,\n",
       " 143: 103.0,\n",
       " 144: 102.720001,\n",
       " 145: 101.440002,\n",
       " 146: 101.709999,\n",
       " 147: 102.669998,\n",
       " 148: 104.839996,\n",
       " 149: 106.120003,\n",
       " 150: 105.769997,\n",
       " 151: 107.389999,\n",
       " 152: 106.919998,\n",
       " 153: 107.389999,\n",
       " 154: 106.470001,\n",
       " 155: 107.690002,\n",
       " 156: 105.43,\n",
       " 157: 107.0,\n",
       " 158: 104.214996,\n",
       " 159: 104.650002,\n",
       " 160: 106.089996,\n",
       " 161: 106.050003,\n",
       " 162: 106.610001,\n",
       " 163: 105.559998,\n",
       " 164: 105.230003,\n",
       " 165: 107.800003,\n",
       " 166: 107.720001,\n",
       " 167: 107.660004,\n",
       " 168: 106.220001,\n",
       " 169: 106.160004,\n",
       " 170: 105.32,\n",
       " 171: 105.794998,\n",
       " 172: 108.779999,\n",
       " 173: 108.550003,\n",
       " 174: 115.860001,\n",
       " 175: 117.0,\n",
       " 176: 116.489998,\n",
       " 177: 116.830002,\n",
       " 178: 120.18,\n",
       " 179: 121.559998,\n",
       " 180: 124.199997,\n",
       " 181: 123.510002,\n",
       " 182: 124.93,\n",
       " 183: 121.879997,\n",
       " 184: 125.209999,\n",
       " 185: 124.065002,\n",
       " 186: 126.290001,\n",
       " 187: 123.699997,\n",
       " 188: 123.5,\n",
       " 189: 124.489998,\n",
       " 190: 124.610001,\n",
       " 191: 126.599998,\n",
       " 192: 127.574997,\n",
       " 193: 122.584999,\n",
       " 194: 122.559998,\n",
       " 195: 123.394997,\n",
       " 196: 125.650002,\n",
       " 197: 123.800003,\n",
       " 198: 123.879997,\n",
       " 199: 126.699997,\n",
       " 200: 123.535004,\n",
       " 201: 123.235001,\n",
       " 202: 120.660004,\n",
       " 203: 122.040001,\n",
       " 204: 121.466003,\n",
       " 205: 117.839996,\n",
       " 206: 117.959999,\n",
       " 207: 120.089996,\n",
       " 208: 121.099998,\n",
       " 209: 120.32,\n",
       " 210: 120.059998,\n",
       " 211: 120.639999,\n",
       " 212: 120.889999,\n",
       " 213: 119.07,\n",
       " 214: 116.760002,\n",
       " 215: 119.300003,\n",
       " 216: 121.540001,\n",
       " 217: 125.129997,\n",
       " 218: 126.059998,\n",
       " 219: 124.904999,\n",
       " 220: 124.790001,\n",
       " 221: 122.120003,\n",
       " 222: 120.870003,\n",
       " 223: 121.926003,\n",
       " 224: 121.879997,\n",
       " 225: 130.360001,\n",
       " 226: 131.800003,\n",
       " 227: 130.970001,\n",
       " 228: 133.009995,\n",
       " 229: 130.854996,\n",
       " 230: 129.839996,\n",
       " 231: 128.369995,\n",
       " 232: 129.600006,\n",
       " 233: 129.509995,\n",
       " 234: 130.979996,\n",
       " 235: 132.190002,\n",
       " 236: 131.970001,\n",
       " 237: 129.201996,\n",
       " 238: 129.850006,\n",
       " 239: 131.589996,\n",
       " 240: 129.279999,\n",
       " 241: 130.449997,\n",
       " 242: 129.059998,\n",
       " 243: 127.849998,\n",
       " 244: 129.130005,\n",
       " 245: 130.850006,\n",
       " 246: 134.727005,\n",
       " 247: 130.139999,\n",
       " 248: 132.080002,\n",
       " 249: 132.998001,\n",
       " 250: 135.570007,\n",
       " 251: 137.050003}"
      ]
     },
     "execution_count": 47,
     "metadata": {},
     "output_type": "execute_result"
    }
   ],
   "source": [
    "dict(google)\n",
    "# It's going to turn it into a dictionary\n",
    "# index labeles are going to be the keys and values are going to be the Series values."
   ]
  },
  {
   "cell_type": "code",
   "execution_count": 48,
   "id": "825cf0e2",
   "metadata": {},
   "outputs": [
    {
     "data": {
      "text/plain": [
       "'Zygarde50% Forme'"
      ]
     },
     "execution_count": 48,
     "metadata": {},
     "output_type": "execute_result"
    }
   ],
   "source": [
    "max(pokemon) # last value alphabetically"
   ]
  },
  {
   "cell_type": "code",
   "execution_count": 49,
   "id": "c6c2c1b6",
   "metadata": {},
   "outputs": [
    {
     "data": {
      "text/plain": [
       "'Abomasnow'"
      ]
     },
     "execution_count": 49,
     "metadata": {},
     "output_type": "execute_result"
    }
   ],
   "source": [
    "min(pokemon) # first value alphabetically"
   ]
  },
  {
   "cell_type": "code",
   "execution_count": 50,
   "id": "93068c19",
   "metadata": {},
   "outputs": [
    {
     "data": {
      "text/plain": [
       "137.050003"
      ]
     },
     "execution_count": 50,
     "metadata": {},
     "output_type": "execute_result"
    }
   ],
   "source": [
    "max(google) # numeric series highest value"
   ]
  },
  {
   "cell_type": "code",
   "execution_count": 51,
   "id": "a454b10c",
   "metadata": {},
   "outputs": [
    {
     "data": {
      "text/plain": [
       "85.510002"
      ]
     },
     "execution_count": 51,
     "metadata": {},
     "output_type": "execute_result"
    }
   ],
   "source": [
    "min(google) # numeric series smallest value"
   ]
  },
  {
   "cell_type": "markdown",
   "id": "58cc155f",
   "metadata": {},
   "source": [
    "# More Series Attributes"
   ]
  },
  {
   "cell_type": "code",
   "execution_count": 52,
   "id": "26c3c41c",
   "metadata": {
    "collapsed": true
   },
   "outputs": [
    {
     "data": {
      "text/plain": [
       "array(['Bulbasaur', 'Ivysaur', 'Venusaur', 'VenusaurMega Venusaur',\n",
       "       'Charmander', 'Charmeleon', 'Charizard',\n",
       "       'CharizardMega Charizard X', 'CharizardMega Charizard Y',\n",
       "       'Squirtle', 'Wartortle', 'Blastoise', 'BlastoiseMega Blastoise',\n",
       "       'Caterpie', 'Metapod', 'Butterfree', 'Weedle', 'Kakuna',\n",
       "       'Beedrill', 'BeedrillMega Beedrill', 'Pidgey', 'Pidgeotto',\n",
       "       'Pidgeot', 'PidgeotMega Pidgeot', 'Rattata', 'Raticate', 'Spearow',\n",
       "       'Fearow', 'Ekans', 'Arbok', 'Pikachu', 'Raichu', 'Sandshrew',\n",
       "       'Sandslash', 'Nidoran♀', 'Nidorina', 'Nidoqueen', 'Nidoran♂',\n",
       "       'Nidorino', 'Nidoking', 'Clefairy', 'Clefable', 'Vulpix',\n",
       "       'Ninetales', 'Jigglypuff', 'Wigglytuff', 'Zubat', 'Golbat',\n",
       "       'Oddish', 'Gloom', 'Vileplume', 'Paras', 'Parasect', 'Venonat',\n",
       "       'Venomoth', 'Diglett', 'Dugtrio', 'Meowth', 'Persian', 'Psyduck',\n",
       "       'Golduck', 'Mankey', 'Primeape', 'Growlithe', 'Arcanine',\n",
       "       'Poliwag', 'Poliwhirl', 'Poliwrath', 'Abra', 'Kadabra', 'Alakazam',\n",
       "       'AlakazamMega Alakazam', 'Machop', 'Machoke', 'Machamp',\n",
       "       'Bellsprout', 'Weepinbell', 'Victreebel', 'Tentacool',\n",
       "       'Tentacruel', 'Geodude', 'Graveler', 'Golem', 'Ponyta', 'Rapidash',\n",
       "       'Slowpoke', 'Slowbro', 'SlowbroMega Slowbro', 'Magnemite',\n",
       "       'Magneton', \"Farfetch'd\", 'Doduo', 'Dodrio', 'Seel', 'Dewgong',\n",
       "       'Grimer', 'Muk', 'Shellder', 'Cloyster', 'Gastly', 'Haunter',\n",
       "       'Gengar', 'GengarMega Gengar', 'Onix', 'Drowzee', 'Hypno',\n",
       "       'Krabby', 'Kingler', 'Voltorb', 'Electrode', 'Exeggcute',\n",
       "       'Exeggutor', 'Cubone', 'Marowak', 'Hitmonlee', 'Hitmonchan',\n",
       "       'Lickitung', 'Koffing', 'Weezing', 'Rhyhorn', 'Rhydon', 'Chansey',\n",
       "       'Tangela', 'Kangaskhan', 'KangaskhanMega Kangaskhan', 'Horsea',\n",
       "       'Seadra', 'Goldeen', 'Seaking', 'Staryu', 'Starmie', 'Mr. Mime',\n",
       "       'Scyther', 'Jynx', 'Electabuzz', 'Magmar', 'Pinsir',\n",
       "       'PinsirMega Pinsir', 'Tauros', 'Magikarp', 'Gyarados',\n",
       "       'GyaradosMega Gyarados', 'Lapras', 'Ditto', 'Eevee', 'Vaporeon',\n",
       "       'Jolteon', 'Flareon', 'Porygon', 'Omanyte', 'Omastar', 'Kabuto',\n",
       "       'Kabutops', 'Aerodactyl', 'AerodactylMega Aerodactyl', 'Snorlax',\n",
       "       'Articuno', 'Zapdos', 'Moltres', 'Dratini', 'Dragonair',\n",
       "       'Dragonite', 'Mewtwo', 'MewtwoMega Mewtwo X',\n",
       "       'MewtwoMega Mewtwo Y', 'Mew', 'Chikorita', 'Bayleef', 'Meganium',\n",
       "       'Cyndaquil', 'Quilava', 'Typhlosion', 'Totodile', 'Croconaw',\n",
       "       'Feraligatr', 'Sentret', 'Furret', 'Hoothoot', 'Noctowl', 'Ledyba',\n",
       "       'Ledian', 'Spinarak', 'Ariados', 'Crobat', 'Chinchou', 'Lanturn',\n",
       "       'Pichu', 'Cleffa', 'Igglybuff', 'Togepi', 'Togetic', 'Natu',\n",
       "       'Xatu', 'Mareep', 'Flaaffy', 'Ampharos', 'AmpharosMega Ampharos',\n",
       "       'Bellossom', 'Marill', 'Azumarill', 'Sudowoodo', 'Politoed',\n",
       "       'Hoppip', 'Skiploom', 'Jumpluff', 'Aipom', 'Sunkern', 'Sunflora',\n",
       "       'Yanma', 'Wooper', 'Quagsire', 'Espeon', 'Umbreon', 'Murkrow',\n",
       "       'Slowking', 'Misdreavus', 'Unown', 'Wobbuffet', 'Girafarig',\n",
       "       'Pineco', 'Forretress', 'Dunsparce', 'Gligar', 'Steelix',\n",
       "       'SteelixMega Steelix', 'Snubbull', 'Granbull', 'Qwilfish',\n",
       "       'Scizor', 'ScizorMega Scizor', 'Shuckle', 'Heracross',\n",
       "       'HeracrossMega Heracross', 'Sneasel', 'Teddiursa', 'Ursaring',\n",
       "       'Slugma', 'Magcargo', 'Swinub', 'Piloswine', 'Corsola', 'Remoraid',\n",
       "       'Octillery', 'Delibird', 'Mantine', 'Skarmory', 'Houndour',\n",
       "       'Houndoom', 'HoundoomMega Houndoom', 'Kingdra', 'Phanpy',\n",
       "       'Donphan', 'Porygon2', 'Stantler', 'Smeargle', 'Tyrogue',\n",
       "       'Hitmontop', 'Smoochum', 'Elekid', 'Magby', 'Miltank', 'Blissey',\n",
       "       'Raikou', 'Entei', 'Suicune', 'Larvitar', 'Pupitar', 'Tyranitar',\n",
       "       'TyranitarMega Tyranitar', 'Lugia', 'Ho-oh', 'Celebi', 'Treecko',\n",
       "       'Grovyle', 'Sceptile', 'SceptileMega Sceptile', 'Torchic',\n",
       "       'Combusken', 'Blaziken', 'BlazikenMega Blaziken', 'Mudkip',\n",
       "       'Marshtomp', 'Swampert', 'SwampertMega Swampert', 'Poochyena',\n",
       "       'Mightyena', 'Zigzagoon', 'Linoone', 'Wurmple', 'Silcoon',\n",
       "       'Beautifly', 'Cascoon', 'Dustox', 'Lotad', 'Lombre', 'Ludicolo',\n",
       "       'Seedot', 'Nuzleaf', 'Shiftry', 'Taillow', 'Swellow', 'Wingull',\n",
       "       'Pelipper', 'Ralts', 'Kirlia', 'Gardevoir',\n",
       "       'GardevoirMega Gardevoir', 'Surskit', 'Masquerain', 'Shroomish',\n",
       "       'Breloom', 'Slakoth', 'Vigoroth', 'Slaking', 'Nincada', 'Ninjask',\n",
       "       'Shedinja', 'Whismur', 'Loudred', 'Exploud', 'Makuhita',\n",
       "       'Hariyama', 'Azurill', 'Nosepass', 'Skitty', 'Delcatty', 'Sableye',\n",
       "       'SableyeMega Sableye', 'Mawile', 'MawileMega Mawile', 'Aron',\n",
       "       'Lairon', 'Aggron', 'AggronMega Aggron', 'Meditite', 'Medicham',\n",
       "       'MedichamMega Medicham', 'Electrike', 'Manectric',\n",
       "       'ManectricMega Manectric', 'Plusle', 'Minun', 'Volbeat',\n",
       "       'Illumise', 'Roselia', 'Gulpin', 'Swalot', 'Carvanha', 'Sharpedo',\n",
       "       'SharpedoMega Sharpedo', 'Wailmer', 'Wailord', 'Numel', 'Camerupt',\n",
       "       'CameruptMega Camerupt', 'Torkoal', 'Spoink', 'Grumpig', 'Spinda',\n",
       "       'Trapinch', 'Vibrava', 'Flygon', 'Cacnea', 'Cacturne', 'Swablu',\n",
       "       'Altaria', 'AltariaMega Altaria', 'Zangoose', 'Seviper',\n",
       "       'Lunatone', 'Solrock', 'Barboach', 'Whiscash', 'Corphish',\n",
       "       'Crawdaunt', 'Baltoy', 'Claydol', 'Lileep', 'Cradily', 'Anorith',\n",
       "       'Armaldo', 'Feebas', 'Milotic', 'Castform', 'Kecleon', 'Shuppet',\n",
       "       'Banette', 'BanetteMega Banette', 'Duskull', 'Dusclops', 'Tropius',\n",
       "       'Chimecho', 'Absol', 'AbsolMega Absol', 'Wynaut', 'Snorunt',\n",
       "       'Glalie', 'GlalieMega Glalie', 'Spheal', 'Sealeo', 'Walrein',\n",
       "       'Clamperl', 'Huntail', 'Gorebyss', 'Relicanth', 'Luvdisc', 'Bagon',\n",
       "       'Shelgon', 'Salamence', 'SalamenceMega Salamence', 'Beldum',\n",
       "       'Metang', 'Metagross', 'MetagrossMega Metagross', 'Regirock',\n",
       "       'Regice', 'Registeel', 'Latias', 'LatiasMega Latias', 'Latios',\n",
       "       'LatiosMega Latios', 'Kyogre', 'KyogrePrimal Kyogre', 'Groudon',\n",
       "       'GroudonPrimal Groudon', 'Rayquaza', 'RayquazaMega Rayquaza',\n",
       "       'Jirachi', 'DeoxysNormal Forme', 'DeoxysAttack Forme',\n",
       "       'DeoxysDefense Forme', 'DeoxysSpeed Forme', 'Turtwig', 'Grotle',\n",
       "       'Torterra', 'Chimchar', 'Monferno', 'Infernape', 'Piplup',\n",
       "       'Prinplup', 'Empoleon', 'Starly', 'Staravia', 'Staraptor',\n",
       "       'Bidoof', 'Bibarel', 'Kricketot', 'Kricketune', 'Shinx', 'Luxio',\n",
       "       'Luxray', 'Budew', 'Roserade', 'Cranidos', 'Rampardos', 'Shieldon',\n",
       "       'Bastiodon', 'Burmy', 'WormadamPlant Cloak', 'WormadamSandy Cloak',\n",
       "       'WormadamTrash Cloak', 'Mothim', 'Combee', 'Vespiquen',\n",
       "       'Pachirisu', 'Buizel', 'Floatzel', 'Cherubi', 'Cherrim', 'Shellos',\n",
       "       'Gastrodon', 'Ambipom', 'Drifloon', 'Drifblim', 'Buneary',\n",
       "       'Lopunny', 'LopunnyMega Lopunny', 'Mismagius', 'Honchkrow',\n",
       "       'Glameow', 'Purugly', 'Chingling', 'Stunky', 'Skuntank', 'Bronzor',\n",
       "       'Bronzong', 'Bonsly', 'Mime Jr.', 'Happiny', 'Chatot', 'Spiritomb',\n",
       "       'Gible', 'Gabite', 'Garchomp', 'GarchompMega Garchomp', 'Munchlax',\n",
       "       'Riolu', 'Lucario', 'LucarioMega Lucario', 'Hippopotas',\n",
       "       'Hippowdon', 'Skorupi', 'Drapion', 'Croagunk', 'Toxicroak',\n",
       "       'Carnivine', 'Finneon', 'Lumineon', 'Mantyke', 'Snover',\n",
       "       'Abomasnow', 'AbomasnowMega Abomasnow', 'Weavile', 'Magnezone',\n",
       "       'Lickilicky', 'Rhyperior', 'Tangrowth', 'Electivire', 'Magmortar',\n",
       "       'Togekiss', 'Yanmega', 'Leafeon', 'Glaceon', 'Gliscor',\n",
       "       'Mamoswine', 'Porygon-Z', 'Gallade', 'GalladeMega Gallade',\n",
       "       'Probopass', 'Dusknoir', 'Froslass', 'Rotom', 'RotomHeat Rotom',\n",
       "       'RotomWash Rotom', 'RotomFrost Rotom', 'RotomFan Rotom',\n",
       "       'RotomMow Rotom', 'Uxie', 'Mesprit', 'Azelf', 'Dialga', 'Palkia',\n",
       "       'Heatran', 'Regigigas', 'GiratinaAltered Forme',\n",
       "       'GiratinaOrigin Forme', 'Cresselia', 'Phione', 'Manaphy',\n",
       "       'Darkrai', 'ShayminLand Forme', 'ShayminSky Forme', 'Arceus',\n",
       "       'Victini', 'Snivy', 'Servine', 'Serperior', 'Tepig', 'Pignite',\n",
       "       'Emboar', 'Oshawott', 'Dewott', 'Samurott', 'Patrat', 'Watchog',\n",
       "       'Lillipup', 'Herdier', 'Stoutland', 'Purrloin', 'Liepard',\n",
       "       'Pansage', 'Simisage', 'Pansear', 'Simisear', 'Panpour',\n",
       "       'Simipour', 'Munna', 'Musharna', 'Pidove', 'Tranquill', 'Unfezant',\n",
       "       'Blitzle', 'Zebstrika', 'Roggenrola', 'Boldore', 'Gigalith',\n",
       "       'Woobat', 'Swoobat', 'Drilbur', 'Excadrill', 'Audino',\n",
       "       'AudinoMega Audino', 'Timburr', 'Gurdurr', 'Conkeldurr', 'Tympole',\n",
       "       'Palpitoad', 'Seismitoad', 'Throh', 'Sawk', 'Sewaddle', 'Swadloon',\n",
       "       'Leavanny', 'Venipede', 'Whirlipede', 'Scolipede', 'Cottonee',\n",
       "       'Whimsicott', 'Petilil', 'Lilligant', 'Basculin', 'Sandile',\n",
       "       'Krokorok', 'Krookodile', 'Darumaka', 'DarmanitanStandard Mode',\n",
       "       'DarmanitanZen Mode', 'Maractus', 'Dwebble', 'Crustle', 'Scraggy',\n",
       "       'Scrafty', 'Sigilyph', 'Yamask', 'Cofagrigus', 'Tirtouga',\n",
       "       'Carracosta', 'Archen', 'Archeops', 'Trubbish', 'Garbodor',\n",
       "       'Zorua', 'Zoroark', 'Minccino', 'Cinccino', 'Gothita', 'Gothorita',\n",
       "       'Gothitelle', 'Solosis', 'Duosion', 'Reuniclus', 'Ducklett',\n",
       "       'Swanna', 'Vanillite', 'Vanillish', 'Vanilluxe', 'Deerling',\n",
       "       'Sawsbuck', 'Emolga', 'Karrablast', 'Escavalier', 'Foongus',\n",
       "       'Amoonguss', 'Frillish', 'Jellicent', 'Alomomola', 'Joltik',\n",
       "       'Galvantula', 'Ferroseed', 'Ferrothorn', 'Klink', 'Klang',\n",
       "       'Klinklang', 'Tynamo', 'Eelektrik', 'Eelektross', 'Elgyem',\n",
       "       'Beheeyem', 'Litwick', 'Lampent', 'Chandelure', 'Axew', 'Fraxure',\n",
       "       'Haxorus', 'Cubchoo', 'Beartic', 'Cryogonal', 'Shelmet',\n",
       "       'Accelgor', 'Stunfisk', 'Mienfoo', 'Mienshao', 'Druddigon',\n",
       "       'Golett', 'Golurk', 'Pawniard', 'Bisharp', 'Bouffalant', 'Rufflet',\n",
       "       'Braviary', 'Vullaby', 'Mandibuzz', 'Heatmor', 'Durant', 'Deino',\n",
       "       'Zweilous', 'Hydreigon', 'Larvesta', 'Volcarona', 'Cobalion',\n",
       "       'Terrakion', 'Virizion', 'TornadusIncarnate Forme',\n",
       "       'TornadusTherian Forme', 'ThundurusIncarnate Forme',\n",
       "       'ThundurusTherian Forme', 'Reshiram', 'Zekrom',\n",
       "       'LandorusIncarnate Forme', 'LandorusTherian Forme', 'Kyurem',\n",
       "       'KyuremBlack Kyurem', 'KyuremWhite Kyurem', 'KeldeoOrdinary Forme',\n",
       "       'KeldeoResolute Forme', 'MeloettaAria Forme',\n",
       "       'MeloettaPirouette Forme', 'Genesect', 'Chespin', 'Quilladin',\n",
       "       'Chesnaught', 'Fennekin', 'Braixen', 'Delphox', 'Froakie',\n",
       "       'Frogadier', 'Greninja', 'Bunnelby', 'Diggersby', 'Fletchling',\n",
       "       'Fletchinder', 'Talonflame', 'Scatterbug', 'Spewpa', 'Vivillon',\n",
       "       'Litleo', 'Pyroar', 'Flabébé', 'Floette', 'Florges', 'Skiddo',\n",
       "       'Gogoat', 'Pancham', 'Pangoro', 'Furfrou', 'Espurr',\n",
       "       'MeowsticMale', 'MeowsticFemale', 'Honedge', 'Doublade',\n",
       "       'AegislashBlade Forme', 'AegislashShield Forme', 'Spritzee',\n",
       "       'Aromatisse', 'Swirlix', 'Slurpuff', 'Inkay', 'Malamar', 'Binacle',\n",
       "       'Barbaracle', 'Skrelp', 'Dragalge', 'Clauncher', 'Clawitzer',\n",
       "       'Helioptile', 'Heliolisk', 'Tyrunt', 'Tyrantrum', 'Amaura',\n",
       "       'Aurorus', 'Sylveon', 'Hawlucha', 'Dedenne', 'Carbink', 'Goomy',\n",
       "       'Sliggoo', 'Goodra', 'Klefki', 'Phantump', 'Trevenant',\n",
       "       'PumpkabooAverage Size', 'PumpkabooSmall Size',\n",
       "       'PumpkabooLarge Size', 'PumpkabooSuper Size',\n",
       "       'GourgeistAverage Size', 'GourgeistSmall Size',\n",
       "       'GourgeistLarge Size', 'GourgeistSuper Size', 'Bergmite',\n",
       "       'Avalugg', 'Noibat', 'Noivern', 'Xerneas', 'Yveltal',\n",
       "       'Zygarde50% Forme', 'Diancie', 'DiancieMega Diancie',\n",
       "       'HoopaHoopa Confined', 'HoopaHoopa Unbound', 'Volcanion'],\n",
       "      dtype=object)"
      ]
     },
     "execution_count": 52,
     "metadata": {},
     "output_type": "execute_result"
    }
   ],
   "source": [
    "pokemon.values"
   ]
  },
  {
   "cell_type": "code",
   "execution_count": 53,
   "id": "6c97ac4f",
   "metadata": {
    "collapsed": true
   },
   "outputs": [
    {
     "data": {
      "text/plain": [
       "array([111.629997, 109.199997, 111.339996, 108.135002, 107.760002,\n",
       "       109.18    , 110.050003, 111.989998, 108.889999, 105.440002,\n",
       "       105.010002, 102.970001, 102.540001, 102.879997, 102.239998,\n",
       "        99.449997, 100.059998,  98.610001,  99.910004,  98.019997,\n",
       "        99.300003,  97.730003,  97.220001, 101.040001, 100.690002,\n",
       "       101.5     , 100.650002,  99.849998,  98.25    ,  98.269997,\n",
       "        95.93    , 100.625   ,  99.519997, 103.940002, 100.699997,\n",
       "       100.82    ,  98.459999, 102.089996, 103.300003,  96.760002,\n",
       "        94.309998,  92.529999,  95.779999,  95.589996,  90.910004,\n",
       "        86.345001,  85.510002,  87.339996,  89.160004,  88.544998,\n",
       "        92.339996,  94.709999,  95.5     ,  98.669998,  98.019997,\n",
       "        97.18    ,  99.010002,  97.559998,  96.160004,  97.339996,\n",
       "        98.464996,  97.199997,  96.      ,  95.120003, 101.400002,\n",
       "        99.370003,  99.815002,  99.669998,  96.769997,  95.690002,\n",
       "        93.900002,  93.089996,  98.07    ,  95.540001,  93.540001,\n",
       "        91.199997,  90.879997,  88.730003,  89.730003,  88.93    ,\n",
       "        87.620003,  89.309998,  87.5     ,  87.029999,  87.364998,\n",
       "        89.830002,  91.010002,  88.07    ,  87.360001,  89.195   ,\n",
       "        86.720001,  90.059998,  92.400002,  91.528   ,  92.779999,\n",
       "        92.940002,  91.389999,  95.949997,  99.129997,  99.550003,\n",
       "        97.199997,  98.279999,  99.050003,  98.745003,  97.860001,\n",
       "        99.739998, 106.790001, 103.510002, 102.684998, 103.629997,\n",
       "       102.690002, 100.540001,  95.739998,  95.010002,  94.660004,\n",
       "        94.739998,  95.540001,  95.07    ,  93.239998,  91.933998,\n",
       "        92.129997,  89.629997,  90.089996,  89.540001,  90.160004,\n",
       "        89.860001,  92.739998,  94.360001,  95.419998,  94.404999,\n",
       "        94.489998,  92.5     ,  90.565002,  93.07    ,  93.540001,\n",
       "        96.57    , 100.839996, 101.059998, 101.980003, 105.139999,\n",
       "       105.889999, 105.739998, 105.32    , 103.      , 102.720001,\n",
       "       101.440002, 101.709999, 102.669998, 104.839996, 106.120003,\n",
       "       105.769997, 107.389999, 106.919998, 107.389999, 106.470001,\n",
       "       107.690002, 105.43    , 107.      , 104.214996, 104.650002,\n",
       "       106.089996, 106.050003, 106.610001, 105.559998, 105.230003,\n",
       "       107.800003, 107.720001, 107.660004, 106.220001, 106.160004,\n",
       "       105.32    , 105.794998, 108.779999, 108.550003, 115.860001,\n",
       "       117.      , 116.489998, 116.830002, 120.18    , 121.559998,\n",
       "       124.199997, 123.510002, 124.93    , 121.879997, 125.209999,\n",
       "       124.065002, 126.290001, 123.699997, 123.5     , 124.489998,\n",
       "       124.610001, 126.599998, 127.574997, 122.584999, 122.559998,\n",
       "       123.394997, 125.650002, 123.800003, 123.879997, 126.699997,\n",
       "       123.535004, 123.235001, 120.660004, 122.040001, 121.466003,\n",
       "       117.839996, 117.959999, 120.089996, 121.099998, 120.32    ,\n",
       "       120.059998, 120.639999, 120.889999, 119.07    , 116.760002,\n",
       "       119.300003, 121.540001, 125.129997, 126.059998, 124.904999,\n",
       "       124.790001, 122.120003, 120.870003, 121.926003, 121.879997,\n",
       "       130.360001, 131.800003, 130.970001, 133.009995, 130.854996,\n",
       "       129.839996, 128.369995, 129.600006, 129.509995, 130.979996,\n",
       "       132.190002, 131.970001, 129.201996, 129.850006, 131.589996,\n",
       "       129.279999, 130.449997, 129.059998, 127.849998, 129.130005,\n",
       "       130.850006, 134.727005, 130.139999, 132.080002, 132.998001,\n",
       "       135.570007, 137.050003])"
      ]
     },
     "execution_count": 53,
     "metadata": {},
     "output_type": "execute_result"
    }
   ],
   "source": [
    "google.values"
   ]
  },
  {
   "cell_type": "code",
   "execution_count": 54,
   "id": "19604ed6",
   "metadata": {},
   "outputs": [
    {
     "data": {
      "text/plain": [
       "RangeIndex(start=0, stop=800, step=1)"
      ]
     },
     "execution_count": 54,
     "metadata": {},
     "output_type": "execute_result"
    }
   ],
   "source": [
    "pokemon.index"
   ]
  },
  {
   "cell_type": "code",
   "execution_count": 55,
   "id": "e13b834b",
   "metadata": {},
   "outputs": [
    {
     "data": {
      "text/plain": [
       "RangeIndex(start=0, stop=252, step=1)"
      ]
     },
     "execution_count": 55,
     "metadata": {},
     "output_type": "execute_result"
    }
   ],
   "source": [
    "google.index"
   ]
  },
  {
   "cell_type": "code",
   "execution_count": 56,
   "id": "f92658cd",
   "metadata": {},
   "outputs": [
    {
     "data": {
      "text/plain": [
       "dtype('O')"
      ]
     },
     "execution_count": 56,
     "metadata": {},
     "output_type": "execute_result"
    }
   ],
   "source": [
    "pokemon.dtype"
   ]
  },
  {
   "cell_type": "code",
   "execution_count": 57,
   "id": "0bc80ce2",
   "metadata": {},
   "outputs": [
    {
     "data": {
      "text/plain": [
       "dtype('float64')"
      ]
     },
     "execution_count": 57,
     "metadata": {},
     "output_type": "execute_result"
    }
   ],
   "source": [
    "google.dtype"
   ]
  },
  {
   "cell_type": "code",
   "execution_count": 58,
   "id": "6174d78f",
   "metadata": {},
   "outputs": [
    {
     "data": {
      "text/plain": [
       "True"
      ]
     },
     "execution_count": 58,
     "metadata": {},
     "output_type": "execute_result"
    }
   ],
   "source": [
    "# unique attribute\n",
    "pokemon.is_unique\n",
    "# If every Series value is unique, which means there are no duplicates.  True"
   ]
  },
  {
   "cell_type": "code",
   "execution_count": 59,
   "id": "1d2fef06",
   "metadata": {},
   "outputs": [
    {
     "data": {
      "text/plain": [
       "False"
      ]
     },
     "execution_count": 59,
     "metadata": {},
     "output_type": "execute_result"
    }
   ],
   "source": [
    "google.is_unique"
   ]
  },
  {
   "cell_type": "code",
   "execution_count": 60,
   "id": "5280fdd5",
   "metadata": {},
   "outputs": [
    {
     "data": {
      "text/plain": [
       "1"
      ]
     },
     "execution_count": 60,
     "metadata": {},
     "output_type": "execute_result"
    }
   ],
   "source": [
    "# ndim attribute, which is short for number of dimensions.\n",
    "# A Series is always a one-dimensional object, because there's only one column of data.\n",
    "pokemon.ndim"
   ]
  },
  {
   "cell_type": "code",
   "execution_count": 61,
   "id": "6f9539e2",
   "metadata": {},
   "outputs": [
    {
     "data": {
      "text/plain": [
       "1"
      ]
     },
     "execution_count": 61,
     "metadata": {},
     "output_type": "execute_result"
    }
   ],
   "source": [
    "google.ndim"
   ]
  },
  {
   "cell_type": "code",
   "execution_count": 62,
   "id": "4e528a95",
   "metadata": {},
   "outputs": [],
   "source": [
    "# shape attribute: give us the tuple of the shape\n",
    "# give us is the number of rows by the numbers of columns in a tuple."
   ]
  },
  {
   "cell_type": "code",
   "execution_count": 63,
   "id": "9e7cc915",
   "metadata": {},
   "outputs": [
    {
     "data": {
      "text/plain": [
       "(800,)"
      ]
     },
     "execution_count": 63,
     "metadata": {},
     "output_type": "execute_result"
    }
   ],
   "source": [
    "pokemon.shape\n",
    "# 800 rows by 1 column"
   ]
  },
  {
   "cell_type": "code",
   "execution_count": 64,
   "id": "39c57ee8",
   "metadata": {},
   "outputs": [
    {
     "data": {
      "text/plain": [
       "(252,)"
      ]
     },
     "execution_count": 64,
     "metadata": {},
     "output_type": "execute_result"
    }
   ],
   "source": [
    "google.shape\n",
    "# 252 rows by 1 column"
   ]
  },
  {
   "cell_type": "code",
   "execution_count": 65,
   "id": "a7f58f17",
   "metadata": {},
   "outputs": [
    {
     "data": {
      "text/plain": [
       "800"
      ]
     },
     "execution_count": 65,
     "metadata": {},
     "output_type": "execute_result"
    }
   ],
   "source": [
    "# size attribute: give us the number of total elements or celles withon the Series. \n",
    "# count null values missing, blank or nulls\n",
    "pokemon.size"
   ]
  },
  {
   "cell_type": "code",
   "execution_count": 66,
   "id": "47453018",
   "metadata": {},
   "outputs": [
    {
     "data": {
      "text/plain": [
       "252"
      ]
     },
     "execution_count": 66,
     "metadata": {},
     "output_type": "execute_result"
    }
   ],
   "source": [
    "google.size"
   ]
  },
  {
   "cell_type": "code",
   "execution_count": 67,
   "id": "8c677acd",
   "metadata": {},
   "outputs": [
    {
     "data": {
      "text/plain": [
       "'Name'"
      ]
     },
     "execution_count": 67,
     "metadata": {},
     "output_type": "execute_result"
    }
   ],
   "source": [
    "# The name of Series\n",
    "pokemon.name"
   ]
  },
  {
   "cell_type": "code",
   "execution_count": 68,
   "id": "b6522be7",
   "metadata": {},
   "outputs": [
    {
     "data": {
      "text/plain": [
       "'Open'"
      ]
     },
     "execution_count": 68,
     "metadata": {},
     "output_type": "execute_result"
    }
   ],
   "source": [
    "google.name"
   ]
  },
  {
   "cell_type": "code",
   "execution_count": 69,
   "id": "b5239cf6",
   "metadata": {},
   "outputs": [],
   "source": [
    "# It can be reassigned to. Modify the existing name of that Series.\n",
    "pokemon.name = \"Pocket Monsters\""
   ]
  },
  {
   "cell_type": "code",
   "execution_count": 70,
   "id": "f4ab8c74",
   "metadata": {},
   "outputs": [
    {
     "data": {
      "text/plain": [
       "0                Bulbasaur\n",
       "1                  Ivysaur\n",
       "2                 Venusaur\n",
       "3    VenusaurMega Venusaur\n",
       "4               Charmander\n",
       "Name: Pocket Monsters, dtype: object"
      ]
     },
     "execution_count": 70,
     "metadata": {},
     "output_type": "execute_result"
    }
   ],
   "source": [
    "pokemon.head()"
   ]
  },
  {
   "cell_type": "code",
   "execution_count": 71,
   "id": "6874742e",
   "metadata": {},
   "outputs": [],
   "source": [
    "pokemon.name = \"Pokemon\""
   ]
  },
  {
   "cell_type": "markdown",
   "id": "2719decb",
   "metadata": {},
   "source": [
    "# The .sort_values() Method"
   ]
  },
  {
   "cell_type": "code",
   "execution_count": 72,
   "id": "b90f88bd",
   "metadata": {},
   "outputs": [
    {
     "data": {
      "text/plain": [
       "510                  Abomasnow\n",
       "511    AbomasnowMega Abomasnow\n",
       "68                        Abra\n",
       "392                      Absol\n",
       "393            AbsolMega Absol\n",
       "                ...           \n",
       "632                    Zoroark\n",
       "631                      Zorua\n",
       "46                       Zubat\n",
       "695                   Zweilous\n",
       "794           Zygarde50% Forme\n",
       "Name: Pokemon, Length: 800, dtype: object"
      ]
     },
     "execution_count": 72,
     "metadata": {},
     "output_type": "execute_result"
    }
   ],
   "source": [
    "pokemon.sort_values()\n",
    "# A brand new Series where the values are going to be in alphabetical order.\n",
    "# The index to the left has been all messed up."
   ]
  },
  {
   "cell_type": "code",
   "execution_count": 73,
   "id": "8e472690",
   "metadata": {},
   "outputs": [
    {
     "data": {
      "text/plain": [
       "510                  Abomasnow\n",
       "511    AbomasnowMega Abomasnow\n",
       "68                        Abra\n",
       "392                      Absol\n",
       "393            AbsolMega Absol\n",
       "Name: Pokemon, dtype: object"
      ]
     },
     "execution_count": 73,
     "metadata": {},
     "output_type": "execute_result"
    }
   ],
   "source": [
    "# Method chanig: creates a chain of sequential methods\n",
    "pokemon.sort_values().head()"
   ]
  },
  {
   "cell_type": "code",
   "execution_count": 74,
   "id": "e8eeb919",
   "metadata": {},
   "outputs": [
    {
     "data": {
      "text/plain": [
       "393            AbsolMega Absol\n",
       "392                      Absol\n",
       "68                        Abra\n",
       "511    AbomasnowMega Abomasnow\n",
       "510                  Abomasnow\n",
       "Name: Pokemon, dtype: object"
      ]
     },
     "execution_count": 74,
     "metadata": {},
     "output_type": "execute_result"
    }
   ],
   "source": [
    "pokemon.sort_values(ascending = False).tail()"
   ]
  },
  {
   "cell_type": "code",
   "execution_count": 75,
   "id": "271e0a60",
   "metadata": {},
   "outputs": [
    {
     "data": {
      "text/plain": [
       "251    137.050003\n",
       "Name: Open, dtype: float64"
      ]
     },
     "execution_count": 75,
     "metadata": {},
     "output_type": "execute_result"
    }
   ],
   "source": [
    "google.sort_values(ascending = False).head(1)"
   ]
  },
  {
   "cell_type": "code",
   "execution_count": 76,
   "id": "a422aacd",
   "metadata": {},
   "outputs": [
    {
     "data": {
      "text/plain": [
       "0    111.629997\n",
       "Name: Open, dtype: float64"
      ]
     },
     "execution_count": 76,
     "metadata": {},
     "output_type": "execute_result"
    }
   ],
   "source": [
    "google.head(1)"
   ]
  },
  {
   "cell_type": "markdown",
   "id": "2f57e7f7",
   "metadata": {},
   "source": [
    "# The inplace Parameter"
   ]
  },
  {
   "cell_type": "code",
   "execution_count": 77,
   "id": "8873e2e4",
   "metadata": {},
   "outputs": [],
   "source": [
    "# inplace parameter does when set to True, is overwrite the object in the original variable."
   ]
  },
  {
   "cell_type": "code",
   "execution_count": 78,
   "id": "2c794897",
   "metadata": {},
   "outputs": [
    {
     "data": {
      "text/plain": [
       "0    111.629997\n",
       "1    109.199997\n",
       "2    111.339996\n",
       "Name: Open, dtype: float64"
      ]
     },
     "execution_count": 78,
     "metadata": {},
     "output_type": "execute_result"
    }
   ],
   "source": [
    "google.head(3)"
   ]
  },
  {
   "cell_type": "code",
   "execution_count": 79,
   "id": "eb8313f0",
   "metadata": {},
   "outputs": [
    {
     "data": {
      "text/plain": [
       "46      85.510002\n",
       "45      86.345001\n",
       "90      86.720001\n",
       "83      87.029999\n",
       "47      87.339996\n",
       "          ...    \n",
       "249    132.998001\n",
       "228    133.009995\n",
       "246    134.727005\n",
       "250    135.570007\n",
       "251    137.050003\n",
       "Name: Open, Length: 252, dtype: float64"
      ]
     },
     "execution_count": 79,
     "metadata": {},
     "output_type": "execute_result"
    }
   ],
   "source": [
    "google.sort_values()"
   ]
  },
  {
   "cell_type": "code",
   "execution_count": 80,
   "id": "19bed920",
   "metadata": {},
   "outputs": [],
   "source": [
    "# assign back to the google \n",
    "# Sorted Series is overwritten the google variable.\n",
    "# The traditional programming way to do it\n",
    "google = google.sort_values()"
   ]
  },
  {
   "cell_type": "code",
   "execution_count": 81,
   "id": "45d33be8",
   "metadata": {},
   "outputs": [
    {
     "data": {
      "text/plain": [
       "46    85.510002\n",
       "45    86.345001\n",
       "90    86.720001\n",
       "83    87.029999\n",
       "47    87.339996\n",
       "Name: Open, dtype: float64"
      ]
     },
     "execution_count": 81,
     "metadata": {},
     "output_type": "execute_result"
    }
   ],
   "source": [
    "google.head()"
   ]
  },
  {
   "cell_type": "code",
   "execution_count": 82,
   "id": "175c1a2d",
   "metadata": {},
   "outputs": [],
   "source": [
    "# inplace parameter more elegant\n",
    "google.sort_values(ascending = False, inplace = True)\n",
    "# implace = True overwrite"
   ]
  },
  {
   "cell_type": "code",
   "execution_count": 83,
   "id": "8cb0cc6c",
   "metadata": {},
   "outputs": [
    {
     "data": {
      "text/plain": [
       "251    137.050003\n",
       "250    135.570007\n",
       "246    134.727005\n",
       "228    133.009995\n",
       "249    132.998001\n",
       "Name: Open, dtype: float64"
      ]
     },
     "execution_count": 83,
     "metadata": {},
     "output_type": "execute_result"
    }
   ],
   "source": [
    "google.head()"
   ]
  },
  {
   "cell_type": "markdown",
   "id": "e581f0f7",
   "metadata": {},
   "source": [
    "# The .sort_index() Method"
   ]
  },
  {
   "cell_type": "code",
   "execution_count": 84,
   "id": "7ae1c587",
   "metadata": {},
   "outputs": [],
   "source": [
    "pokemon = pd.read_csv(\"pokemon.csv\", usecols = ['Name']).squeeze(\"columns\")\n",
    "google = pd.read_csv(\"google_stock_price.csv\", usecols = [\"Open\"]).squeeze(\"columns\")"
   ]
  },
  {
   "cell_type": "code",
   "execution_count": 85,
   "id": "f929f0ef",
   "metadata": {},
   "outputs": [],
   "source": [
    "pokemon.name = \"Pokemon\""
   ]
  },
  {
   "cell_type": "code",
   "execution_count": 86,
   "id": "95ef553e",
   "metadata": {},
   "outputs": [],
   "source": [
    "# pokemon.sort_values(ascending = False, inplace = True)\n",
    "pokemon = pokemon.sort_values(ascending = False)"
   ]
  },
  {
   "cell_type": "code",
   "execution_count": 87,
   "id": "df3d757d",
   "metadata": {},
   "outputs": [
    {
     "data": {
      "text/plain": [
       "794    Zygarde50% Forme\n",
       "695            Zweilous\n",
       "46                Zubat\n",
       "Name: Pokemon, dtype: object"
      ]
     },
     "execution_count": 87,
     "metadata": {},
     "output_type": "execute_result"
    }
   ],
   "source": [
    "pokemon.head(3)"
   ]
  },
  {
   "cell_type": "code",
   "execution_count": 88,
   "id": "5eb3c970",
   "metadata": {},
   "outputs": [
    {
     "data": {
      "text/plain": [
       "799                Volcanion\n",
       "798       HoopaHoopa Unbound\n",
       "797      HoopaHoopa Confined\n",
       "796      DiancieMega Diancie\n",
       "795                  Diancie\n",
       "               ...          \n",
       "4                 Charmander\n",
       "3      VenusaurMega Venusaur\n",
       "2                   Venusaur\n",
       "1                    Ivysaur\n",
       "0                  Bulbasaur\n",
       "Name: Pokemon, Length: 800, dtype: object"
      ]
     },
     "execution_count": 88,
     "metadata": {},
     "output_type": "execute_result"
    }
   ],
   "source": [
    "pokemon.sort_index(ascending = False)"
   ]
  },
  {
   "cell_type": "code",
   "execution_count": 89,
   "id": "857bf055",
   "metadata": {},
   "outputs": [
    {
     "data": {
      "text/plain": [
       "0                  Bulbasaur\n",
       "1                    Ivysaur\n",
       "2                   Venusaur\n",
       "3      VenusaurMega Venusaur\n",
       "4                 Charmander\n",
       "               ...          \n",
       "795                  Diancie\n",
       "796      DiancieMega Diancie\n",
       "797      HoopaHoopa Confined\n",
       "798       HoopaHoopa Unbound\n",
       "799                Volcanion\n",
       "Name: Pokemon, Length: 800, dtype: object"
      ]
     },
     "execution_count": 89,
     "metadata": {},
     "output_type": "execute_result"
    }
   ],
   "source": [
    "pokemon.sort_index(ascending = True)"
   ]
  },
  {
   "cell_type": "code",
   "execution_count": 90,
   "id": "5f3d7367",
   "metadata": {},
   "outputs": [],
   "source": [
    "pokemon.sort_index(ascending = True, inplace = True)"
   ]
  },
  {
   "cell_type": "code",
   "execution_count": 91,
   "id": "0e1e0124",
   "metadata": {},
   "outputs": [
    {
     "data": {
      "text/plain": [
       "0                Bulbasaur\n",
       "1                  Ivysaur\n",
       "2                 Venusaur\n",
       "3    VenusaurMega Venusaur\n",
       "4               Charmander\n",
       "Name: Pokemon, dtype: object"
      ]
     },
     "execution_count": 91,
     "metadata": {},
     "output_type": "execute_result"
    }
   ],
   "source": [
    "pokemon.head()"
   ]
  },
  {
   "cell_type": "markdown",
   "id": "bada20a3",
   "metadata": {},
   "source": [
    "# Python's in Keyward"
   ]
  },
  {
   "cell_type": "code",
   "execution_count": 92,
   "id": "e334b820",
   "metadata": {},
   "outputs": [
    {
     "data": {
      "text/plain": [
       "True"
      ]
     },
     "execution_count": 92,
     "metadata": {},
     "output_type": "execute_result"
    }
   ],
   "source": [
    "3 in [1, 2, 3, 4, 5]"
   ]
  },
  {
   "cell_type": "code",
   "execution_count": 93,
   "id": "71d630ef",
   "metadata": {},
   "outputs": [
    {
     "data": {
      "text/plain": [
       "False"
      ]
     },
     "execution_count": 93,
     "metadata": {},
     "output_type": "execute_result"
    }
   ],
   "source": [
    "100 in [1, 2, 3, 4, 5]"
   ]
  },
  {
   "cell_type": "code",
   "execution_count": 94,
   "id": "dec9611e",
   "metadata": {},
   "outputs": [
    {
     "data": {
      "text/plain": [
       "0                Bulbasaur\n",
       "1                  Ivysaur\n",
       "2                 Venusaur\n",
       "3    VenusaurMega Venusaur\n",
       "4               Charmander\n",
       "Name: Pokemon, dtype: object"
      ]
     },
     "execution_count": 94,
     "metadata": {},
     "output_type": "execute_result"
    }
   ],
   "source": [
    "pokemon.head()"
   ]
  },
  {
   "cell_type": "code",
   "execution_count": 95,
   "id": "798722ca",
   "metadata": {},
   "outputs": [
    {
     "data": {
      "text/plain": [
       "False"
      ]
     },
     "execution_count": 95,
     "metadata": {},
     "output_type": "execute_result"
    }
   ],
   "source": [
    "\"Bulbasaur\" in pokemon\n",
    "# False: Because by default pandas is going to look among the index labels, not the actual values withing the series."
   ]
  },
  {
   "cell_type": "code",
   "execution_count": 96,
   "id": "e2db5c67",
   "metadata": {},
   "outputs": [
    {
     "data": {
      "text/plain": [
       "True"
      ]
     },
     "execution_count": 96,
     "metadata": {},
     "output_type": "execute_result"
    }
   ],
   "source": [
    "100 in pokemon"
   ]
  },
  {
   "cell_type": "code",
   "execution_count": 97,
   "id": "f1ebd02f",
   "metadata": {},
   "outputs": [
    {
     "data": {
      "text/plain": [
       "True"
      ]
     },
     "execution_count": 97,
     "metadata": {},
     "output_type": "execute_result"
    }
   ],
   "source": [
    "100 in pokemon.index"
   ]
  },
  {
   "cell_type": "code",
   "execution_count": 98,
   "id": "9dd63ade",
   "metadata": {
    "collapsed": true
   },
   "outputs": [
    {
     "data": {
      "text/plain": [
       "Int64Index([  0,   1,   2,   3,   4,   5,   6,   7,   8,   9,\n",
       "            ...\n",
       "            790, 791, 792, 793, 794, 795, 796, 797, 798, 799],\n",
       "           dtype='int64', length=800)"
      ]
     },
     "execution_count": 98,
     "metadata": {},
     "output_type": "execute_result"
    }
   ],
   "source": [
    "pokemon.index"
   ]
  },
  {
   "cell_type": "code",
   "execution_count": 99,
   "id": "0ee95e36",
   "metadata": {
    "collapsed": true
   },
   "outputs": [
    {
     "data": {
      "text/plain": [
       "array(['Bulbasaur', 'Ivysaur', 'Venusaur', 'VenusaurMega Venusaur',\n",
       "       'Charmander', 'Charmeleon', 'Charizard',\n",
       "       'CharizardMega Charizard X', 'CharizardMega Charizard Y',\n",
       "       'Squirtle', 'Wartortle', 'Blastoise', 'BlastoiseMega Blastoise',\n",
       "       'Caterpie', 'Metapod', 'Butterfree', 'Weedle', 'Kakuna',\n",
       "       'Beedrill', 'BeedrillMega Beedrill', 'Pidgey', 'Pidgeotto',\n",
       "       'Pidgeot', 'PidgeotMega Pidgeot', 'Rattata', 'Raticate', 'Spearow',\n",
       "       'Fearow', 'Ekans', 'Arbok', 'Pikachu', 'Raichu', 'Sandshrew',\n",
       "       'Sandslash', 'Nidoran♀', 'Nidorina', 'Nidoqueen', 'Nidoran♂',\n",
       "       'Nidorino', 'Nidoking', 'Clefairy', 'Clefable', 'Vulpix',\n",
       "       'Ninetales', 'Jigglypuff', 'Wigglytuff', 'Zubat', 'Golbat',\n",
       "       'Oddish', 'Gloom', 'Vileplume', 'Paras', 'Parasect', 'Venonat',\n",
       "       'Venomoth', 'Diglett', 'Dugtrio', 'Meowth', 'Persian', 'Psyduck',\n",
       "       'Golduck', 'Mankey', 'Primeape', 'Growlithe', 'Arcanine',\n",
       "       'Poliwag', 'Poliwhirl', 'Poliwrath', 'Abra', 'Kadabra', 'Alakazam',\n",
       "       'AlakazamMega Alakazam', 'Machop', 'Machoke', 'Machamp',\n",
       "       'Bellsprout', 'Weepinbell', 'Victreebel', 'Tentacool',\n",
       "       'Tentacruel', 'Geodude', 'Graveler', 'Golem', 'Ponyta', 'Rapidash',\n",
       "       'Slowpoke', 'Slowbro', 'SlowbroMega Slowbro', 'Magnemite',\n",
       "       'Magneton', \"Farfetch'd\", 'Doduo', 'Dodrio', 'Seel', 'Dewgong',\n",
       "       'Grimer', 'Muk', 'Shellder', 'Cloyster', 'Gastly', 'Haunter',\n",
       "       'Gengar', 'GengarMega Gengar', 'Onix', 'Drowzee', 'Hypno',\n",
       "       'Krabby', 'Kingler', 'Voltorb', 'Electrode', 'Exeggcute',\n",
       "       'Exeggutor', 'Cubone', 'Marowak', 'Hitmonlee', 'Hitmonchan',\n",
       "       'Lickitung', 'Koffing', 'Weezing', 'Rhyhorn', 'Rhydon', 'Chansey',\n",
       "       'Tangela', 'Kangaskhan', 'KangaskhanMega Kangaskhan', 'Horsea',\n",
       "       'Seadra', 'Goldeen', 'Seaking', 'Staryu', 'Starmie', 'Mr. Mime',\n",
       "       'Scyther', 'Jynx', 'Electabuzz', 'Magmar', 'Pinsir',\n",
       "       'PinsirMega Pinsir', 'Tauros', 'Magikarp', 'Gyarados',\n",
       "       'GyaradosMega Gyarados', 'Lapras', 'Ditto', 'Eevee', 'Vaporeon',\n",
       "       'Jolteon', 'Flareon', 'Porygon', 'Omanyte', 'Omastar', 'Kabuto',\n",
       "       'Kabutops', 'Aerodactyl', 'AerodactylMega Aerodactyl', 'Snorlax',\n",
       "       'Articuno', 'Zapdos', 'Moltres', 'Dratini', 'Dragonair',\n",
       "       'Dragonite', 'Mewtwo', 'MewtwoMega Mewtwo X',\n",
       "       'MewtwoMega Mewtwo Y', 'Mew', 'Chikorita', 'Bayleef', 'Meganium',\n",
       "       'Cyndaquil', 'Quilava', 'Typhlosion', 'Totodile', 'Croconaw',\n",
       "       'Feraligatr', 'Sentret', 'Furret', 'Hoothoot', 'Noctowl', 'Ledyba',\n",
       "       'Ledian', 'Spinarak', 'Ariados', 'Crobat', 'Chinchou', 'Lanturn',\n",
       "       'Pichu', 'Cleffa', 'Igglybuff', 'Togepi', 'Togetic', 'Natu',\n",
       "       'Xatu', 'Mareep', 'Flaaffy', 'Ampharos', 'AmpharosMega Ampharos',\n",
       "       'Bellossom', 'Marill', 'Azumarill', 'Sudowoodo', 'Politoed',\n",
       "       'Hoppip', 'Skiploom', 'Jumpluff', 'Aipom', 'Sunkern', 'Sunflora',\n",
       "       'Yanma', 'Wooper', 'Quagsire', 'Espeon', 'Umbreon', 'Murkrow',\n",
       "       'Slowking', 'Misdreavus', 'Unown', 'Wobbuffet', 'Girafarig',\n",
       "       'Pineco', 'Forretress', 'Dunsparce', 'Gligar', 'Steelix',\n",
       "       'SteelixMega Steelix', 'Snubbull', 'Granbull', 'Qwilfish',\n",
       "       'Scizor', 'ScizorMega Scizor', 'Shuckle', 'Heracross',\n",
       "       'HeracrossMega Heracross', 'Sneasel', 'Teddiursa', 'Ursaring',\n",
       "       'Slugma', 'Magcargo', 'Swinub', 'Piloswine', 'Corsola', 'Remoraid',\n",
       "       'Octillery', 'Delibird', 'Mantine', 'Skarmory', 'Houndour',\n",
       "       'Houndoom', 'HoundoomMega Houndoom', 'Kingdra', 'Phanpy',\n",
       "       'Donphan', 'Porygon2', 'Stantler', 'Smeargle', 'Tyrogue',\n",
       "       'Hitmontop', 'Smoochum', 'Elekid', 'Magby', 'Miltank', 'Blissey',\n",
       "       'Raikou', 'Entei', 'Suicune', 'Larvitar', 'Pupitar', 'Tyranitar',\n",
       "       'TyranitarMega Tyranitar', 'Lugia', 'Ho-oh', 'Celebi', 'Treecko',\n",
       "       'Grovyle', 'Sceptile', 'SceptileMega Sceptile', 'Torchic',\n",
       "       'Combusken', 'Blaziken', 'BlazikenMega Blaziken', 'Mudkip',\n",
       "       'Marshtomp', 'Swampert', 'SwampertMega Swampert', 'Poochyena',\n",
       "       'Mightyena', 'Zigzagoon', 'Linoone', 'Wurmple', 'Silcoon',\n",
       "       'Beautifly', 'Cascoon', 'Dustox', 'Lotad', 'Lombre', 'Ludicolo',\n",
       "       'Seedot', 'Nuzleaf', 'Shiftry', 'Taillow', 'Swellow', 'Wingull',\n",
       "       'Pelipper', 'Ralts', 'Kirlia', 'Gardevoir',\n",
       "       'GardevoirMega Gardevoir', 'Surskit', 'Masquerain', 'Shroomish',\n",
       "       'Breloom', 'Slakoth', 'Vigoroth', 'Slaking', 'Nincada', 'Ninjask',\n",
       "       'Shedinja', 'Whismur', 'Loudred', 'Exploud', 'Makuhita',\n",
       "       'Hariyama', 'Azurill', 'Nosepass', 'Skitty', 'Delcatty', 'Sableye',\n",
       "       'SableyeMega Sableye', 'Mawile', 'MawileMega Mawile', 'Aron',\n",
       "       'Lairon', 'Aggron', 'AggronMega Aggron', 'Meditite', 'Medicham',\n",
       "       'MedichamMega Medicham', 'Electrike', 'Manectric',\n",
       "       'ManectricMega Manectric', 'Plusle', 'Minun', 'Volbeat',\n",
       "       'Illumise', 'Roselia', 'Gulpin', 'Swalot', 'Carvanha', 'Sharpedo',\n",
       "       'SharpedoMega Sharpedo', 'Wailmer', 'Wailord', 'Numel', 'Camerupt',\n",
       "       'CameruptMega Camerupt', 'Torkoal', 'Spoink', 'Grumpig', 'Spinda',\n",
       "       'Trapinch', 'Vibrava', 'Flygon', 'Cacnea', 'Cacturne', 'Swablu',\n",
       "       'Altaria', 'AltariaMega Altaria', 'Zangoose', 'Seviper',\n",
       "       'Lunatone', 'Solrock', 'Barboach', 'Whiscash', 'Corphish',\n",
       "       'Crawdaunt', 'Baltoy', 'Claydol', 'Lileep', 'Cradily', 'Anorith',\n",
       "       'Armaldo', 'Feebas', 'Milotic', 'Castform', 'Kecleon', 'Shuppet',\n",
       "       'Banette', 'BanetteMega Banette', 'Duskull', 'Dusclops', 'Tropius',\n",
       "       'Chimecho', 'Absol', 'AbsolMega Absol', 'Wynaut', 'Snorunt',\n",
       "       'Glalie', 'GlalieMega Glalie', 'Spheal', 'Sealeo', 'Walrein',\n",
       "       'Clamperl', 'Huntail', 'Gorebyss', 'Relicanth', 'Luvdisc', 'Bagon',\n",
       "       'Shelgon', 'Salamence', 'SalamenceMega Salamence', 'Beldum',\n",
       "       'Metang', 'Metagross', 'MetagrossMega Metagross', 'Regirock',\n",
       "       'Regice', 'Registeel', 'Latias', 'LatiasMega Latias', 'Latios',\n",
       "       'LatiosMega Latios', 'Kyogre', 'KyogrePrimal Kyogre', 'Groudon',\n",
       "       'GroudonPrimal Groudon', 'Rayquaza', 'RayquazaMega Rayquaza',\n",
       "       'Jirachi', 'DeoxysNormal Forme', 'DeoxysAttack Forme',\n",
       "       'DeoxysDefense Forme', 'DeoxysSpeed Forme', 'Turtwig', 'Grotle',\n",
       "       'Torterra', 'Chimchar', 'Monferno', 'Infernape', 'Piplup',\n",
       "       'Prinplup', 'Empoleon', 'Starly', 'Staravia', 'Staraptor',\n",
       "       'Bidoof', 'Bibarel', 'Kricketot', 'Kricketune', 'Shinx', 'Luxio',\n",
       "       'Luxray', 'Budew', 'Roserade', 'Cranidos', 'Rampardos', 'Shieldon',\n",
       "       'Bastiodon', 'Burmy', 'WormadamPlant Cloak', 'WormadamSandy Cloak',\n",
       "       'WormadamTrash Cloak', 'Mothim', 'Combee', 'Vespiquen',\n",
       "       'Pachirisu', 'Buizel', 'Floatzel', 'Cherubi', 'Cherrim', 'Shellos',\n",
       "       'Gastrodon', 'Ambipom', 'Drifloon', 'Drifblim', 'Buneary',\n",
       "       'Lopunny', 'LopunnyMega Lopunny', 'Mismagius', 'Honchkrow',\n",
       "       'Glameow', 'Purugly', 'Chingling', 'Stunky', 'Skuntank', 'Bronzor',\n",
       "       'Bronzong', 'Bonsly', 'Mime Jr.', 'Happiny', 'Chatot', 'Spiritomb',\n",
       "       'Gible', 'Gabite', 'Garchomp', 'GarchompMega Garchomp', 'Munchlax',\n",
       "       'Riolu', 'Lucario', 'LucarioMega Lucario', 'Hippopotas',\n",
       "       'Hippowdon', 'Skorupi', 'Drapion', 'Croagunk', 'Toxicroak',\n",
       "       'Carnivine', 'Finneon', 'Lumineon', 'Mantyke', 'Snover',\n",
       "       'Abomasnow', 'AbomasnowMega Abomasnow', 'Weavile', 'Magnezone',\n",
       "       'Lickilicky', 'Rhyperior', 'Tangrowth', 'Electivire', 'Magmortar',\n",
       "       'Togekiss', 'Yanmega', 'Leafeon', 'Glaceon', 'Gliscor',\n",
       "       'Mamoswine', 'Porygon-Z', 'Gallade', 'GalladeMega Gallade',\n",
       "       'Probopass', 'Dusknoir', 'Froslass', 'Rotom', 'RotomHeat Rotom',\n",
       "       'RotomWash Rotom', 'RotomFrost Rotom', 'RotomFan Rotom',\n",
       "       'RotomMow Rotom', 'Uxie', 'Mesprit', 'Azelf', 'Dialga', 'Palkia',\n",
       "       'Heatran', 'Regigigas', 'GiratinaAltered Forme',\n",
       "       'GiratinaOrigin Forme', 'Cresselia', 'Phione', 'Manaphy',\n",
       "       'Darkrai', 'ShayminLand Forme', 'ShayminSky Forme', 'Arceus',\n",
       "       'Victini', 'Snivy', 'Servine', 'Serperior', 'Tepig', 'Pignite',\n",
       "       'Emboar', 'Oshawott', 'Dewott', 'Samurott', 'Patrat', 'Watchog',\n",
       "       'Lillipup', 'Herdier', 'Stoutland', 'Purrloin', 'Liepard',\n",
       "       'Pansage', 'Simisage', 'Pansear', 'Simisear', 'Panpour',\n",
       "       'Simipour', 'Munna', 'Musharna', 'Pidove', 'Tranquill', 'Unfezant',\n",
       "       'Blitzle', 'Zebstrika', 'Roggenrola', 'Boldore', 'Gigalith',\n",
       "       'Woobat', 'Swoobat', 'Drilbur', 'Excadrill', 'Audino',\n",
       "       'AudinoMega Audino', 'Timburr', 'Gurdurr', 'Conkeldurr', 'Tympole',\n",
       "       'Palpitoad', 'Seismitoad', 'Throh', 'Sawk', 'Sewaddle', 'Swadloon',\n",
       "       'Leavanny', 'Venipede', 'Whirlipede', 'Scolipede', 'Cottonee',\n",
       "       'Whimsicott', 'Petilil', 'Lilligant', 'Basculin', 'Sandile',\n",
       "       'Krokorok', 'Krookodile', 'Darumaka', 'DarmanitanStandard Mode',\n",
       "       'DarmanitanZen Mode', 'Maractus', 'Dwebble', 'Crustle', 'Scraggy',\n",
       "       'Scrafty', 'Sigilyph', 'Yamask', 'Cofagrigus', 'Tirtouga',\n",
       "       'Carracosta', 'Archen', 'Archeops', 'Trubbish', 'Garbodor',\n",
       "       'Zorua', 'Zoroark', 'Minccino', 'Cinccino', 'Gothita', 'Gothorita',\n",
       "       'Gothitelle', 'Solosis', 'Duosion', 'Reuniclus', 'Ducklett',\n",
       "       'Swanna', 'Vanillite', 'Vanillish', 'Vanilluxe', 'Deerling',\n",
       "       'Sawsbuck', 'Emolga', 'Karrablast', 'Escavalier', 'Foongus',\n",
       "       'Amoonguss', 'Frillish', 'Jellicent', 'Alomomola', 'Joltik',\n",
       "       'Galvantula', 'Ferroseed', 'Ferrothorn', 'Klink', 'Klang',\n",
       "       'Klinklang', 'Tynamo', 'Eelektrik', 'Eelektross', 'Elgyem',\n",
       "       'Beheeyem', 'Litwick', 'Lampent', 'Chandelure', 'Axew', 'Fraxure',\n",
       "       'Haxorus', 'Cubchoo', 'Beartic', 'Cryogonal', 'Shelmet',\n",
       "       'Accelgor', 'Stunfisk', 'Mienfoo', 'Mienshao', 'Druddigon',\n",
       "       'Golett', 'Golurk', 'Pawniard', 'Bisharp', 'Bouffalant', 'Rufflet',\n",
       "       'Braviary', 'Vullaby', 'Mandibuzz', 'Heatmor', 'Durant', 'Deino',\n",
       "       'Zweilous', 'Hydreigon', 'Larvesta', 'Volcarona', 'Cobalion',\n",
       "       'Terrakion', 'Virizion', 'TornadusIncarnate Forme',\n",
       "       'TornadusTherian Forme', 'ThundurusIncarnate Forme',\n",
       "       'ThundurusTherian Forme', 'Reshiram', 'Zekrom',\n",
       "       'LandorusIncarnate Forme', 'LandorusTherian Forme', 'Kyurem',\n",
       "       'KyuremBlack Kyurem', 'KyuremWhite Kyurem', 'KeldeoOrdinary Forme',\n",
       "       'KeldeoResolute Forme', 'MeloettaAria Forme',\n",
       "       'MeloettaPirouette Forme', 'Genesect', 'Chespin', 'Quilladin',\n",
       "       'Chesnaught', 'Fennekin', 'Braixen', 'Delphox', 'Froakie',\n",
       "       'Frogadier', 'Greninja', 'Bunnelby', 'Diggersby', 'Fletchling',\n",
       "       'Fletchinder', 'Talonflame', 'Scatterbug', 'Spewpa', 'Vivillon',\n",
       "       'Litleo', 'Pyroar', 'Flabébé', 'Floette', 'Florges', 'Skiddo',\n",
       "       'Gogoat', 'Pancham', 'Pangoro', 'Furfrou', 'Espurr',\n",
       "       'MeowsticMale', 'MeowsticFemale', 'Honedge', 'Doublade',\n",
       "       'AegislashBlade Forme', 'AegislashShield Forme', 'Spritzee',\n",
       "       'Aromatisse', 'Swirlix', 'Slurpuff', 'Inkay', 'Malamar', 'Binacle',\n",
       "       'Barbaracle', 'Skrelp', 'Dragalge', 'Clauncher', 'Clawitzer',\n",
       "       'Helioptile', 'Heliolisk', 'Tyrunt', 'Tyrantrum', 'Amaura',\n",
       "       'Aurorus', 'Sylveon', 'Hawlucha', 'Dedenne', 'Carbink', 'Goomy',\n",
       "       'Sliggoo', 'Goodra', 'Klefki', 'Phantump', 'Trevenant',\n",
       "       'PumpkabooAverage Size', 'PumpkabooSmall Size',\n",
       "       'PumpkabooLarge Size', 'PumpkabooSuper Size',\n",
       "       'GourgeistAverage Size', 'GourgeistSmall Size',\n",
       "       'GourgeistLarge Size', 'GourgeistSuper Size', 'Bergmite',\n",
       "       'Avalugg', 'Noibat', 'Noivern', 'Xerneas', 'Yveltal',\n",
       "       'Zygarde50% Forme', 'Diancie', 'DiancieMega Diancie',\n",
       "       'HoopaHoopa Confined', 'HoopaHoopa Unbound', 'Volcanion'],\n",
       "      dtype=object)"
      ]
     },
     "execution_count": 99,
     "metadata": {},
     "output_type": "execute_result"
    }
   ],
   "source": [
    "pokemon.values"
   ]
  },
  {
   "cell_type": "code",
   "execution_count": 100,
   "id": "486817cd",
   "metadata": {},
   "outputs": [
    {
     "data": {
      "text/plain": [
       "True"
      ]
     },
     "execution_count": 100,
     "metadata": {},
     "output_type": "execute_result"
    }
   ],
   "source": [
    "\"Bulbasaur\" in pokemon.values"
   ]
  },
  {
   "cell_type": "code",
   "execution_count": 101,
   "id": "871991ee",
   "metadata": {},
   "outputs": [
    {
     "data": {
      "text/plain": [
       "True"
      ]
     },
     "execution_count": 101,
     "metadata": {},
     "output_type": "execute_result"
    }
   ],
   "source": [
    "\"Pikachu\" in pokemon.values"
   ]
  },
  {
   "cell_type": "code",
   "execution_count": 102,
   "id": "b8cd099c",
   "metadata": {},
   "outputs": [
    {
     "data": {
      "text/plain": [
       "False"
      ]
     },
     "execution_count": 102,
     "metadata": {},
     "output_type": "execute_result"
    }
   ],
   "source": [
    "\"Degimon\" in pokemon.values"
   ]
  },
  {
   "cell_type": "markdown",
   "id": "272460b3",
   "metadata": {},
   "source": [
    "# Extract Values by Index Position"
   ]
  },
  {
   "cell_type": "code",
   "execution_count": 103,
   "id": "b6f10b4e",
   "metadata": {},
   "outputs": [
    {
     "data": {
      "text/plain": [
       "'Hippowdon'"
      ]
     },
     "execution_count": 103,
     "metadata": {},
     "output_type": "execute_result"
    }
   ],
   "source": [
    "# Extracting values from a Series based on the index position.\n",
    "# use bracket notation\n",
    "pokemon[500]"
   ]
  },
  {
   "cell_type": "code",
   "execution_count": 104,
   "id": "621a4353",
   "metadata": {},
   "outputs": [
    {
     "data": {
      "text/plain": [
       "100      Haunter\n",
       "200    Sudowoodo\n",
       "300      Swellow\n",
       "Name: Pokemon, dtype: object"
      ]
     },
     "execution_count": 104,
     "metadata": {},
     "output_type": "execute_result"
    }
   ],
   "source": [
    "# double brackets\n",
    "pokemon[[100, 200, 300]]"
   ]
  },
  {
   "cell_type": "code",
   "execution_count": 105,
   "id": "1c61758c",
   "metadata": {
    "collapsed": true
   },
   "outputs": [
    {
     "data": {
      "text/plain": [
       "50                Vileplume\n",
       "51                    Paras\n",
       "52                 Parasect\n",
       "53                  Venonat\n",
       "54                 Venomoth\n",
       "55                  Diglett\n",
       "56                  Dugtrio\n",
       "57                   Meowth\n",
       "58                  Persian\n",
       "59                  Psyduck\n",
       "60                  Golduck\n",
       "61                   Mankey\n",
       "62                 Primeape\n",
       "63                Growlithe\n",
       "64                 Arcanine\n",
       "65                  Poliwag\n",
       "66                Poliwhirl\n",
       "67                Poliwrath\n",
       "68                     Abra\n",
       "69                  Kadabra\n",
       "70                 Alakazam\n",
       "71    AlakazamMega Alakazam\n",
       "72                   Machop\n",
       "73                  Machoke\n",
       "74                  Machamp\n",
       "75               Bellsprout\n",
       "76               Weepinbell\n",
       "77               Victreebel\n",
       "78                Tentacool\n",
       "79               Tentacruel\n",
       "80                  Geodude\n",
       "81                 Graveler\n",
       "82                    Golem\n",
       "83                   Ponyta\n",
       "84                 Rapidash\n",
       "85                 Slowpoke\n",
       "86                  Slowbro\n",
       "87      SlowbroMega Slowbro\n",
       "88                Magnemite\n",
       "89                 Magneton\n",
       "90               Farfetch'd\n",
       "91                    Doduo\n",
       "92                   Dodrio\n",
       "93                     Seel\n",
       "94                  Dewgong\n",
       "95                   Grimer\n",
       "96                      Muk\n",
       "97                 Shellder\n",
       "98                 Cloyster\n",
       "99                   Gastly\n",
       "Name: Pokemon, dtype: object"
      ]
     },
     "execution_count": 105,
     "metadata": {},
     "output_type": "execute_result"
    }
   ],
   "source": [
    "pokemon[50:100] # second value here is exclusive 50 - 99"
   ]
  },
  {
   "cell_type": "code",
   "execution_count": 106,
   "id": "ef66a5a3",
   "metadata": {
    "collapsed": true
   },
   "outputs": [
    {
     "data": {
      "text/plain": [
       "0                  Bulbasaur\n",
       "1                    Ivysaur\n",
       "2                   Venusaur\n",
       "3      VenusaurMega Venusaur\n",
       "4                 Charmander\n",
       "               ...          \n",
       "795                  Diancie\n",
       "796      DiancieMega Diancie\n",
       "797      HoopaHoopa Confined\n",
       "798       HoopaHoopa Unbound\n",
       "799                Volcanion\n",
       "Name: Pokemon, Length: 800, dtype: object"
      ]
     },
     "execution_count": 106,
     "metadata": {},
     "output_type": "execute_result"
    }
   ],
   "source": [
    "pokemon[:]"
   ]
  },
  {
   "cell_type": "code",
   "execution_count": 107,
   "id": "ddfec917",
   "metadata": {
    "collapsed": true
   },
   "outputs": [
    {
     "data": {
      "text/plain": [
       "0                     Bulbasaur\n",
       "1                       Ivysaur\n",
       "2                      Venusaur\n",
       "3         VenusaurMega Venusaur\n",
       "4                    Charmander\n",
       "5                    Charmeleon\n",
       "6                     Charizard\n",
       "7     CharizardMega Charizard X\n",
       "8     CharizardMega Charizard Y\n",
       "9                      Squirtle\n",
       "10                    Wartortle\n",
       "11                    Blastoise\n",
       "12      BlastoiseMega Blastoise\n",
       "13                     Caterpie\n",
       "14                      Metapod\n",
       "15                   Butterfree\n",
       "16                       Weedle\n",
       "17                       Kakuna\n",
       "18                     Beedrill\n",
       "19        BeedrillMega Beedrill\n",
       "20                       Pidgey\n",
       "21                    Pidgeotto\n",
       "22                      Pidgeot\n",
       "23          PidgeotMega Pidgeot\n",
       "24                      Rattata\n",
       "25                     Raticate\n",
       "26                      Spearow\n",
       "27                       Fearow\n",
       "28                        Ekans\n",
       "29                        Arbok\n",
       "30                      Pikachu\n",
       "31                       Raichu\n",
       "32                    Sandshrew\n",
       "33                    Sandslash\n",
       "34                     Nidoran♀\n",
       "35                     Nidorina\n",
       "36                    Nidoqueen\n",
       "37                     Nidoran♂\n",
       "38                     Nidorino\n",
       "39                     Nidoking\n",
       "40                     Clefairy\n",
       "41                     Clefable\n",
       "42                       Vulpix\n",
       "43                    Ninetales\n",
       "44                   Jigglypuff\n",
       "45                   Wigglytuff\n",
       "46                        Zubat\n",
       "47                       Golbat\n",
       "48                       Oddish\n",
       "49                        Gloom\n",
       "Name: Pokemon, dtype: object"
      ]
     },
     "execution_count": 107,
     "metadata": {},
     "output_type": "execute_result"
    }
   ],
   "source": [
    "pokemon[:50]"
   ]
  },
  {
   "cell_type": "code",
   "execution_count": 108,
   "id": "948edbab",
   "metadata": {
    "collapsed": true
   },
   "outputs": [
    {
     "data": {
      "text/plain": [
       "770                  Sylveon\n",
       "771                 Hawlucha\n",
       "772                  Dedenne\n",
       "773                  Carbink\n",
       "774                    Goomy\n",
       "775                  Sliggoo\n",
       "776                   Goodra\n",
       "777                   Klefki\n",
       "778                 Phantump\n",
       "779                Trevenant\n",
       "780    PumpkabooAverage Size\n",
       "781      PumpkabooSmall Size\n",
       "782      PumpkabooLarge Size\n",
       "783      PumpkabooSuper Size\n",
       "784    GourgeistAverage Size\n",
       "785      GourgeistSmall Size\n",
       "786      GourgeistLarge Size\n",
       "787      GourgeistSuper Size\n",
       "788                 Bergmite\n",
       "789                  Avalugg\n",
       "790                   Noibat\n",
       "791                  Noivern\n",
       "792                  Xerneas\n",
       "793                  Yveltal\n",
       "794         Zygarde50% Forme\n",
       "795                  Diancie\n",
       "796      DiancieMega Diancie\n",
       "797      HoopaHoopa Confined\n",
       "798       HoopaHoopa Unbound\n",
       "799                Volcanion\n",
       "Name: Pokemon, dtype: object"
      ]
     },
     "execution_count": 108,
     "metadata": {},
     "output_type": "execute_result"
    }
   ],
   "source": [
    "pokemon[-30:]"
   ]
  },
  {
   "cell_type": "code",
   "execution_count": 109,
   "id": "2849d704",
   "metadata": {
    "collapsed": true
   },
   "outputs": [
    {
     "data": {
      "text/plain": [
       "770                  Sylveon\n",
       "771                 Hawlucha\n",
       "772                  Dedenne\n",
       "773                  Carbink\n",
       "774                    Goomy\n",
       "775                  Sliggoo\n",
       "776                   Goodra\n",
       "777                   Klefki\n",
       "778                 Phantump\n",
       "779                Trevenant\n",
       "780    PumpkabooAverage Size\n",
       "781      PumpkabooSmall Size\n",
       "782      PumpkabooLarge Size\n",
       "783      PumpkabooSuper Size\n",
       "784    GourgeistAverage Size\n",
       "785      GourgeistSmall Size\n",
       "786      GourgeistLarge Size\n",
       "787      GourgeistSuper Size\n",
       "788                 Bergmite\n",
       "789                  Avalugg\n",
       "Name: Pokemon, dtype: object"
      ]
     },
     "execution_count": 109,
     "metadata": {},
     "output_type": "execute_result"
    }
   ],
   "source": [
    "pokemon[-30 : -10]"
   ]
  },
  {
   "cell_type": "markdown",
   "id": "a7f4a719",
   "metadata": {},
   "source": [
    "# Extract Values by Index Label"
   ]
  },
  {
   "cell_type": "code",
   "execution_count": 117,
   "id": "1bfc5bbd",
   "metadata": {},
   "outputs": [
    {
     "data": {
      "text/html": [
       "<div>\n",
       "<style scoped>\n",
       "    .dataframe tbody tr th:only-of-type {\n",
       "        vertical-align: middle;\n",
       "    }\n",
       "\n",
       "    .dataframe tbody tr th {\n",
       "        vertical-align: top;\n",
       "    }\n",
       "\n",
       "    .dataframe thead th {\n",
       "        text-align: right;\n",
       "    }\n",
       "</style>\n",
       "<table border=\"1\" class=\"dataframe\">\n",
       "  <thead>\n",
       "    <tr style=\"text-align: right;\">\n",
       "      <th></th>\n",
       "      <th>#</th>\n",
       "      <th>Type 1</th>\n",
       "      <th>Type 2</th>\n",
       "      <th>Total</th>\n",
       "      <th>HP</th>\n",
       "      <th>Attack</th>\n",
       "      <th>Defense</th>\n",
       "      <th>Sp. Atk</th>\n",
       "      <th>Sp. Def</th>\n",
       "      <th>Speed</th>\n",
       "      <th>Generation</th>\n",
       "      <th>Legendary</th>\n",
       "    </tr>\n",
       "    <tr>\n",
       "      <th>Name</th>\n",
       "      <th></th>\n",
       "      <th></th>\n",
       "      <th></th>\n",
       "      <th></th>\n",
       "      <th></th>\n",
       "      <th></th>\n",
       "      <th></th>\n",
       "      <th></th>\n",
       "      <th></th>\n",
       "      <th></th>\n",
       "      <th></th>\n",
       "      <th></th>\n",
       "    </tr>\n",
       "  </thead>\n",
       "  <tbody>\n",
       "    <tr>\n",
       "      <th>Bulbasaur</th>\n",
       "      <td>1</td>\n",
       "      <td>Grass</td>\n",
       "      <td>Poison</td>\n",
       "      <td>318</td>\n",
       "      <td>45</td>\n",
       "      <td>49</td>\n",
       "      <td>49</td>\n",
       "      <td>65</td>\n",
       "      <td>65</td>\n",
       "      <td>45</td>\n",
       "      <td>1</td>\n",
       "      <td>False</td>\n",
       "    </tr>\n",
       "    <tr>\n",
       "      <th>Ivysaur</th>\n",
       "      <td>2</td>\n",
       "      <td>Grass</td>\n",
       "      <td>Poison</td>\n",
       "      <td>405</td>\n",
       "      <td>60</td>\n",
       "      <td>62</td>\n",
       "      <td>63</td>\n",
       "      <td>80</td>\n",
       "      <td>80</td>\n",
       "      <td>60</td>\n",
       "      <td>1</td>\n",
       "      <td>False</td>\n",
       "    </tr>\n",
       "    <tr>\n",
       "      <th>Venusaur</th>\n",
       "      <td>3</td>\n",
       "      <td>Grass</td>\n",
       "      <td>Poison</td>\n",
       "      <td>525</td>\n",
       "      <td>80</td>\n",
       "      <td>82</td>\n",
       "      <td>83</td>\n",
       "      <td>100</td>\n",
       "      <td>100</td>\n",
       "      <td>80</td>\n",
       "      <td>1</td>\n",
       "      <td>False</td>\n",
       "    </tr>\n",
       "  </tbody>\n",
       "</table>\n",
       "</div>"
      ],
      "text/plain": [
       "           # Type 1  Type 2  Total  HP  Attack  Defense  Sp. Atk  Sp. Def  \\\n",
       "Name                                                                        \n",
       "Bulbasaur  1  Grass  Poison    318  45      49       49       65       65   \n",
       "Ivysaur    2  Grass  Poison    405  60      62       63       80       80   \n",
       "Venusaur   3  Grass  Poison    525  80      82       83      100      100   \n",
       "\n",
       "           Speed  Generation  Legendary  \n",
       "Name                                     \n",
       "Bulbasaur     45           1      False  \n",
       "Ivysaur       60           1      False  \n",
       "Venusaur      80           1      False  "
      ]
     },
     "execution_count": 117,
     "metadata": {},
     "output_type": "execute_result"
    }
   ],
   "source": [
    "# pokemon = pd.read_csv(\"pokemon.csv\", index_col = \"Pokemon\", squeeze = True)\n",
    "pokemon = pd.read_csv('pokemon.csv', index_col = \"Name\").squeeze(\"columns\") # change to Series (bugs in here)\n",
    "# Differnt from the standad numeric index. \n",
    "# values in Name column serve as the index.   index_col\n",
    "pokemon.head(3)"
   ]
  },
  {
   "cell_type": "code",
   "execution_count": 118,
   "id": "3ae1b71a",
   "metadata": {},
   "outputs": [
    {
     "ename": "KeyError",
     "evalue": "0",
     "output_type": "error",
     "traceback": [
      "\u001b[0;31m---------------------------------------------------------------------------\u001b[0m",
      "\u001b[0;31mKeyError\u001b[0m                                  Traceback (most recent call last)",
      "File \u001b[0;32m~/anaconda3/lib/python3.10/site-packages/pandas/core/indexes/base.py:3802\u001b[0m, in \u001b[0;36mIndex.get_loc\u001b[0;34m(self, key, method, tolerance)\u001b[0m\n\u001b[1;32m   3801\u001b[0m \u001b[38;5;28;01mtry\u001b[39;00m:\n\u001b[0;32m-> 3802\u001b[0m     \u001b[38;5;28;01mreturn\u001b[39;00m \u001b[38;5;28;43mself\u001b[39;49m\u001b[38;5;241;43m.\u001b[39;49m\u001b[43m_engine\u001b[49m\u001b[38;5;241;43m.\u001b[39;49m\u001b[43mget_loc\u001b[49m\u001b[43m(\u001b[49m\u001b[43mcasted_key\u001b[49m\u001b[43m)\u001b[49m\n\u001b[1;32m   3803\u001b[0m \u001b[38;5;28;01mexcept\u001b[39;00m \u001b[38;5;167;01mKeyError\u001b[39;00m \u001b[38;5;28;01mas\u001b[39;00m err:\n",
      "File \u001b[0;32m~/anaconda3/lib/python3.10/site-packages/pandas/_libs/index.pyx:138\u001b[0m, in \u001b[0;36mpandas._libs.index.IndexEngine.get_loc\u001b[0;34m()\u001b[0m\n",
      "File \u001b[0;32m~/anaconda3/lib/python3.10/site-packages/pandas/_libs/index.pyx:165\u001b[0m, in \u001b[0;36mpandas._libs.index.IndexEngine.get_loc\u001b[0;34m()\u001b[0m\n",
      "File \u001b[0;32mpandas/_libs/hashtable_class_helper.pxi:5745\u001b[0m, in \u001b[0;36mpandas._libs.hashtable.PyObjectHashTable.get_item\u001b[0;34m()\u001b[0m\n",
      "File \u001b[0;32mpandas/_libs/hashtable_class_helper.pxi:5753\u001b[0m, in \u001b[0;36mpandas._libs.hashtable.PyObjectHashTable.get_item\u001b[0;34m()\u001b[0m\n",
      "\u001b[0;31mKeyError\u001b[0m: 0",
      "\nThe above exception was the direct cause of the following exception:\n",
      "\u001b[0;31mKeyError\u001b[0m                                  Traceback (most recent call last)",
      "Cell \u001b[0;32mIn[118], line 1\u001b[0m\n\u001b[0;32m----> 1\u001b[0m \u001b[43mpokemon\u001b[49m\u001b[43m[\u001b[49m\u001b[38;5;241;43m0\u001b[39;49m\u001b[43m]\u001b[49m\n\u001b[1;32m      2\u001b[0m pokemon[\u001b[38;5;241m100\u001b[39m, \u001b[38;5;241m34\u001b[39m]\n\u001b[1;32m      3\u001b[0m pokemon[\u001b[38;5;124m\"\u001b[39m\u001b[38;5;124mBulbassaur\u001b[39m\u001b[38;5;124m\"\u001b[39m]\n",
      "File \u001b[0;32m~/anaconda3/lib/python3.10/site-packages/pandas/core/frame.py:3807\u001b[0m, in \u001b[0;36mDataFrame.__getitem__\u001b[0;34m(self, key)\u001b[0m\n\u001b[1;32m   3805\u001b[0m \u001b[38;5;28;01mif\u001b[39;00m \u001b[38;5;28mself\u001b[39m\u001b[38;5;241m.\u001b[39mcolumns\u001b[38;5;241m.\u001b[39mnlevels \u001b[38;5;241m>\u001b[39m \u001b[38;5;241m1\u001b[39m:\n\u001b[1;32m   3806\u001b[0m     \u001b[38;5;28;01mreturn\u001b[39;00m \u001b[38;5;28mself\u001b[39m\u001b[38;5;241m.\u001b[39m_getitem_multilevel(key)\n\u001b[0;32m-> 3807\u001b[0m indexer \u001b[38;5;241m=\u001b[39m \u001b[38;5;28;43mself\u001b[39;49m\u001b[38;5;241;43m.\u001b[39;49m\u001b[43mcolumns\u001b[49m\u001b[38;5;241;43m.\u001b[39;49m\u001b[43mget_loc\u001b[49m\u001b[43m(\u001b[49m\u001b[43mkey\u001b[49m\u001b[43m)\u001b[49m\n\u001b[1;32m   3808\u001b[0m \u001b[38;5;28;01mif\u001b[39;00m is_integer(indexer):\n\u001b[1;32m   3809\u001b[0m     indexer \u001b[38;5;241m=\u001b[39m [indexer]\n",
      "File \u001b[0;32m~/anaconda3/lib/python3.10/site-packages/pandas/core/indexes/base.py:3804\u001b[0m, in \u001b[0;36mIndex.get_loc\u001b[0;34m(self, key, method, tolerance)\u001b[0m\n\u001b[1;32m   3802\u001b[0m     \u001b[38;5;28;01mreturn\u001b[39;00m \u001b[38;5;28mself\u001b[39m\u001b[38;5;241m.\u001b[39m_engine\u001b[38;5;241m.\u001b[39mget_loc(casted_key)\n\u001b[1;32m   3803\u001b[0m \u001b[38;5;28;01mexcept\u001b[39;00m \u001b[38;5;167;01mKeyError\u001b[39;00m \u001b[38;5;28;01mas\u001b[39;00m err:\n\u001b[0;32m-> 3804\u001b[0m     \u001b[38;5;28;01mraise\u001b[39;00m \u001b[38;5;167;01mKeyError\u001b[39;00m(key) \u001b[38;5;28;01mfrom\u001b[39;00m \u001b[38;5;21;01merr\u001b[39;00m\n\u001b[1;32m   3805\u001b[0m \u001b[38;5;28;01mexcept\u001b[39;00m \u001b[38;5;167;01mTypeError\u001b[39;00m:\n\u001b[1;32m   3806\u001b[0m     \u001b[38;5;66;03m# If we have a listlike key, _check_indexing_error will raise\u001b[39;00m\n\u001b[1;32m   3807\u001b[0m     \u001b[38;5;66;03m#  InvalidIndexError. Otherwise we fall through and re-raise\u001b[39;00m\n\u001b[1;32m   3808\u001b[0m     \u001b[38;5;66;03m#  the TypeError.\u001b[39;00m\n\u001b[1;32m   3809\u001b[0m     \u001b[38;5;28mself\u001b[39m\u001b[38;5;241m.\u001b[39m_check_indexing_error(key)\n",
      "\u001b[0;31mKeyError\u001b[0m: 0"
     ]
    }
   ],
   "source": [
    "pokemon[0]\n",
    "pokemon[100, 34]\n",
    "pokemon[\"Bulbassaur\"]\n",
    "pokemon[\"Ditto\"]\n",
    "pokemon[\"Charizzard\", \"Jolteon\"]\n",
    "pokemon[\"Charmander\": \"Weedle\"] # index labales \"Weedie\" is inclusive.\n",
    "pokemon[\"charmander\":]\n",
    "pokemon[:\"Weedle\"]\n",
    "pokemon[\"Charmander\":\"Weedle\":2] # set of 2, skip 1 row \n",
    "pokemon.reindex(index = [\"Pikachu\", \"Digimon\"])"
   ]
  },
  {
   "cell_type": "markdown",
   "id": "0b6bdf67",
   "metadata": {},
   "source": [
    "# The .get() Method on a Series"
   ]
  },
  {
   "cell_type": "code",
   "execution_count": 135,
   "id": "9b4a968c",
   "metadata": {},
   "outputs": [
    {
     "data": {
      "text/html": [
       "<div>\n",
       "<style scoped>\n",
       "    .dataframe tbody tr th:only-of-type {\n",
       "        vertical-align: middle;\n",
       "    }\n",
       "\n",
       "    .dataframe tbody tr th {\n",
       "        vertical-align: top;\n",
       "    }\n",
       "\n",
       "    .dataframe thead th {\n",
       "        text-align: right;\n",
       "    }\n",
       "</style>\n",
       "<table border=\"1\" class=\"dataframe\">\n",
       "  <thead>\n",
       "    <tr style=\"text-align: right;\">\n",
       "      <th></th>\n",
       "      <th>#</th>\n",
       "      <th>Type 1</th>\n",
       "      <th>Type 2</th>\n",
       "      <th>Total</th>\n",
       "      <th>HP</th>\n",
       "      <th>Attack</th>\n",
       "      <th>Defense</th>\n",
       "      <th>Sp. Atk</th>\n",
       "      <th>Sp. Def</th>\n",
       "      <th>Speed</th>\n",
       "      <th>Generation</th>\n",
       "      <th>Legendary</th>\n",
       "    </tr>\n",
       "    <tr>\n",
       "      <th>Name</th>\n",
       "      <th></th>\n",
       "      <th></th>\n",
       "      <th></th>\n",
       "      <th></th>\n",
       "      <th></th>\n",
       "      <th></th>\n",
       "      <th></th>\n",
       "      <th></th>\n",
       "      <th></th>\n",
       "      <th></th>\n",
       "      <th></th>\n",
       "      <th></th>\n",
       "    </tr>\n",
       "  </thead>\n",
       "  <tbody>\n",
       "    <tr>\n",
       "      <th>Bulbasaur</th>\n",
       "      <td>1</td>\n",
       "      <td>Grass</td>\n",
       "      <td>Poison</td>\n",
       "      <td>318</td>\n",
       "      <td>45</td>\n",
       "      <td>49</td>\n",
       "      <td>49</td>\n",
       "      <td>65</td>\n",
       "      <td>65</td>\n",
       "      <td>45</td>\n",
       "      <td>1</td>\n",
       "      <td>False</td>\n",
       "    </tr>\n",
       "    <tr>\n",
       "      <th>Ivysaur</th>\n",
       "      <td>2</td>\n",
       "      <td>Grass</td>\n",
       "      <td>Poison</td>\n",
       "      <td>405</td>\n",
       "      <td>60</td>\n",
       "      <td>62</td>\n",
       "      <td>63</td>\n",
       "      <td>80</td>\n",
       "      <td>80</td>\n",
       "      <td>60</td>\n",
       "      <td>1</td>\n",
       "      <td>False</td>\n",
       "    </tr>\n",
       "    <tr>\n",
       "      <th>Venusaur</th>\n",
       "      <td>3</td>\n",
       "      <td>Grass</td>\n",
       "      <td>Poison</td>\n",
       "      <td>525</td>\n",
       "      <td>80</td>\n",
       "      <td>82</td>\n",
       "      <td>83</td>\n",
       "      <td>100</td>\n",
       "      <td>100</td>\n",
       "      <td>80</td>\n",
       "      <td>1</td>\n",
       "      <td>False</td>\n",
       "    </tr>\n",
       "  </tbody>\n",
       "</table>\n",
       "</div>"
      ],
      "text/plain": [
       "           # Type 1  Type 2  Total  HP  Attack  Defense  Sp. Atk  Sp. Def  \\\n",
       "Name                                                                        \n",
       "Bulbasaur  1  Grass  Poison    318  45      49       49       65       65   \n",
       "Ivysaur    2  Grass  Poison    405  60      62       63       80       80   \n",
       "Venusaur   3  Grass  Poison    525  80      82       83      100      100   \n",
       "\n",
       "           Speed  Generation  Legendary  \n",
       "Name                                     \n",
       "Bulbasaur     45           1      False  \n",
       "Ivysaur       60           1      False  \n",
       "Venusaur      80           1      False  "
      ]
     },
     "execution_count": 135,
     "metadata": {},
     "output_type": "execute_result"
    }
   ],
   "source": [
    "# pokemon = pd.read_csv(\"pokemon.csv\", index_col = \"Name\", squeeze = \"True\")\n",
    "pokemon.sort_index(inplace = True) #Mutate, parmanent"
   ]
  },
  {
   "cell_type": "code",
   "execution_count": 29,
   "id": "468a1e5e",
   "metadata": {},
   "outputs": [
    {
     "data": {
      "text/html": [
       "<div>\n",
       "<style scoped>\n",
       "    .dataframe tbody tr th:only-of-type {\n",
       "        vertical-align: middle;\n",
       "    }\n",
       "\n",
       "    .dataframe tbody tr th {\n",
       "        vertical-align: top;\n",
       "    }\n",
       "\n",
       "    .dataframe thead th {\n",
       "        text-align: right;\n",
       "    }\n",
       "</style>\n",
       "<table border=\"1\" class=\"dataframe\">\n",
       "  <thead>\n",
       "    <tr style=\"text-align: right;\">\n",
       "      <th></th>\n",
       "      <th>Name</th>\n",
       "      <th>Type 1</th>\n",
       "    </tr>\n",
       "  </thead>\n",
       "  <tbody>\n",
       "    <tr>\n",
       "      <th>0</th>\n",
       "      <td>Bulbasaur</td>\n",
       "      <td>Grass</td>\n",
       "    </tr>\n",
       "    <tr>\n",
       "      <th>1</th>\n",
       "      <td>Ivysaur</td>\n",
       "      <td>Grass</td>\n",
       "    </tr>\n",
       "    <tr>\n",
       "      <th>2</th>\n",
       "      <td>Venusaur</td>\n",
       "      <td>Grass</td>\n",
       "    </tr>\n",
       "  </tbody>\n",
       "</table>\n",
       "</div>"
      ],
      "text/plain": [
       "        Name Type 1\n",
       "0  Bulbasaur  Grass\n",
       "1    Ivysaur  Grass\n",
       "2   Venusaur  Grass"
      ]
     },
     "execution_count": 29,
     "metadata": {},
     "output_type": "execute_result"
    }
   ],
   "source": [
    "pokemon = pd.read_csv(\"pokemon.csv\", usecols = [\"Name\", \"Type 1\"]).squeeze(\"columns\") # squeeze converts to Series from Dataframe\n",
    "pokemon.sort_index(inplace = True)\n",
    "pokemon.head(3)\n",
    "# cannot convert to Series!?"
   ]
  },
  {
   "cell_type": "code",
   "execution_count": 4,
   "id": "038e0dff",
   "metadata": {},
   "outputs": [
    {
     "data": {
      "text/plain": [
       "'Bulbasaur'"
      ]
     },
     "execution_count": 4,
     "metadata": {},
     "output_type": "execute_result"
    }
   ],
   "source": [
    "pokemon.get(0)\n",
    "# pokemon.get(\"Moltres\")"
   ]
  },
  {
   "cell_type": "code",
   "execution_count": 5,
   "id": "29dace40",
   "metadata": {},
   "outputs": [
    {
     "data": {
      "text/plain": [
       "0     Bulbasaur\n",
       "5    Charmeleon\n",
       "Name: Name, dtype: object"
      ]
     },
     "execution_count": 5,
     "metadata": {},
     "output_type": "execute_result"
    }
   ],
   "source": [
    "pokemon.get([0, 5])"
   ]
  },
  {
   "cell_type": "code",
   "execution_count": 8,
   "id": "df2a7d36",
   "metadata": {},
   "outputs": [],
   "source": [
    "pokemon.get([\"Moltres\", \"Meowth\"]) #no error"
   ]
  },
  {
   "cell_type": "code",
   "execution_count": 7,
   "id": "2a68666d",
   "metadata": {},
   "outputs": [],
   "source": [
    "pokemon.get(10000) # no error\n",
    "# pokemon.get(key, default=None) default=None, so this is not going to trigger an error."
   ]
  },
  {
   "cell_type": "code",
   "execution_count": 11,
   "id": "9b453beb",
   "metadata": {},
   "outputs": [
    {
     "data": {
      "text/plain": [
       "'This is not a Pokemon'"
      ]
     },
     "execution_count": 11,
     "metadata": {},
     "output_type": "execute_result"
    }
   ],
   "source": [
    "# pokemon.get(key = \"Digimon\", defalut = \"This is not a Pokemon\")\n",
    "pokemon.get(key = -1, default = \"This is not a Pokemon\")"
   ]
  },
  {
   "cell_type": "code",
   "execution_count": 12,
   "id": "9917fb8d",
   "metadata": {},
   "outputs": [
    {
     "data": {
      "text/plain": [
       "'Ivysaur'"
      ]
     },
     "execution_count": 12,
     "metadata": {},
     "output_type": "execute_result"
    }
   ],
   "source": [
    "pokemon.get(key = 1, default = \"This is not a Pokemon\")"
   ]
  },
  {
   "cell_type": "code",
   "execution_count": 13,
   "id": "22fdef52",
   "metadata": {},
   "outputs": [],
   "source": [
    "# pokemon.get(key = [\"Charized\", \"Meowth\"], default = \"This is not a Pokemon\")\n",
    "# // 'Charized', 'Meowth'\n",
    "# pokemon.get(key = [\"Charized\", \"Meowth\", \"Nonsense\"], default = \"This is not a Pokemon\")\n",
    "# // 'This is not a Pokemon'"
   ]
  },
  {
   "cell_type": "code",
   "execution_count": 15,
   "id": "df41277f",
   "metadata": {},
   "outputs": [
    {
     "data": {
      "text/plain": [
       "0      Bulbasaur\n",
       "5     Charmeleon\n",
       "10     Wartortle\n",
       "Name: Name, dtype: object"
      ]
     },
     "execution_count": 15,
     "metadata": {},
     "output_type": "execute_result"
    }
   ],
   "source": [
    "pokemon.get(key = [0, 5, 10], default = \"This is not a Pokemon\")"
   ]
  },
  {
   "cell_type": "code",
   "execution_count": 16,
   "id": "57a82f1a",
   "metadata": {},
   "outputs": [
    {
     "data": {
      "text/plain": [
       "'This is not a Pokemon'"
      ]
     },
     "execution_count": 16,
     "metadata": {},
     "output_type": "execute_result"
    }
   ],
   "source": [
    "pokemon.get(key = [0, 5, 10, 3000], default = \"This is not a Pokemon\")"
   ]
  },
  {
   "cell_type": "markdown",
   "id": "534d8c05",
   "metadata": {},
   "source": [
    "# Math Methods on Series Ojects"
   ]
  },
  {
   "cell_type": "code",
   "execution_count": 26,
   "id": "947c0ec2",
   "metadata": {},
   "outputs": [
    {
     "data": {
      "text/plain": [
       "0    111.629997\n",
       "1    109.199997\n",
       "2    111.339996\n",
       "Name: Open, dtype: float64"
      ]
     },
     "execution_count": 26,
     "metadata": {},
     "output_type": "execute_result"
    }
   ],
   "source": [
    "google = pd.read_csv(\"google_stock_price.csv\", usecols = [\"Open\"]).squeeze(\"columns\")\n",
    "google.head(3)"
   ]
  },
  {
   "cell_type": "code",
   "execution_count": 27,
   "id": "34255a90",
   "metadata": {},
   "outputs": [
    {
     "data": {
      "text/plain": [
       "252"
      ]
     },
     "execution_count": 27,
     "metadata": {},
     "output_type": "execute_result"
    }
   ],
   "source": [
    "google.count()\n",
    "# count() excludes null values or missing values NaN"
   ]
  },
  {
   "cell_type": "code",
   "execution_count": 30,
   "id": "066b7a9f",
   "metadata": {},
   "outputs": [
    {
     "data": {
      "text/plain": [
       "252"
      ]
     },
     "execution_count": 30,
     "metadata": {},
     "output_type": "execute_result"
    }
   ],
   "source": [
    "len(google) # len() include missing values"
   ]
  },
  {
   "cell_type": "code",
   "execution_count": 31,
   "id": "8539e79d",
   "metadata": {},
   "outputs": [
    {
     "data": {
      "text/plain": [
       "26915.490968000002"
      ]
     },
     "execution_count": 31,
     "metadata": {},
     "output_type": "execute_result"
    }
   ],
   "source": [
    "google.sum()"
   ]
  },
  {
   "cell_type": "code",
   "execution_count": 32,
   "id": "d51a4c68",
   "metadata": {},
   "outputs": [
    {
     "data": {
      "text/plain": [
       "106.80750384126985"
      ]
     },
     "execution_count": 32,
     "metadata": {},
     "output_type": "execute_result"
    }
   ],
   "source": [
    "google.mean() # average"
   ]
  },
  {
   "cell_type": "code",
   "execution_count": 33,
   "id": "2c29302c",
   "metadata": {},
   "outputs": [
    {
     "data": {
      "text/plain": [
       "106.80750384126985"
      ]
     },
     "execution_count": 33,
     "metadata": {},
     "output_type": "execute_result"
    }
   ],
   "source": [
    "google.sum()/252()\n",
    "google.sum / google.count"
   ]
  },
  {
   "cell_type": "code",
   "execution_count": 34,
   "id": "59b7259c",
   "metadata": {},
   "outputs": [
    {
     "data": {
      "text/plain": [
       "13.76989935474679"
      ]
     },
     "execution_count": 34,
     "metadata": {},
     "output_type": "execute_result"
    }
   ],
   "source": [
    "google.std() # std method, standard deviation"
   ]
  },
  {
   "cell_type": "code",
   "execution_count": 35,
   "id": "5e7746a5",
   "metadata": {},
   "outputs": [
    {
     "data": {
      "text/plain": [
       "85.510002"
      ]
     },
     "execution_count": 35,
     "metadata": {},
     "output_type": "execute_result"
    }
   ],
   "source": [
    "google.min()"
   ]
  },
  {
   "cell_type": "code",
   "execution_count": 36,
   "id": "3ef9827c",
   "metadata": {},
   "outputs": [
    {
     "data": {
      "text/plain": [
       "137.050003"
      ]
     },
     "execution_count": 36,
     "metadata": {},
     "output_type": "execute_result"
    }
   ],
   "source": [
    "google.max()"
   ]
  },
  {
   "cell_type": "code",
   "execution_count": 37,
   "id": "a0d97a3b",
   "metadata": {},
   "outputs": [
    {
     "data": {
      "text/plain": [
       "102.924999"
      ]
     },
     "execution_count": 37,
     "metadata": {},
     "output_type": "execute_result"
    }
   ],
   "source": [
    "google.median() #The midian is the middle value whenever you sort all the values and start extracting equal\n",
    "                # numbers or an equal count from each end"
   ]
  },
  {
   "cell_type": "code",
   "execution_count": 38,
   "id": "eb99bbe2",
   "metadata": {},
   "outputs": [
    {
     "data": {
      "text/plain": [
       "0     93.540001\n",
       "1     95.540001\n",
       "2     97.199997\n",
       "3     98.019997\n",
       "4    105.320000\n",
       "5    107.389999\n",
       "6    121.879997\n",
       "Name: Open, dtype: float64"
      ]
     },
     "execution_count": 38,
     "metadata": {},
     "output_type": "execute_result"
    }
   ],
   "source": [
    "# mode: that represents the value that occours the most frequently\n",
    "google.mode()"
   ]
  },
  {
   "cell_type": "code",
   "execution_count": 41,
   "id": "74c2deb3",
   "metadata": {},
   "outputs": [
    {
     "data": {
      "text/plain": [
       "count    252.000000\n",
       "mean     106.807504\n",
       "std       13.769899\n",
       "min       85.510002\n",
       "25%       95.769999\n",
       "50%      102.924999\n",
       "75%      120.712504\n",
       "max      137.050003\n",
       "Name: Open, dtype: float64"
      ]
     },
     "execution_count": 41,
     "metadata": {},
     "output_type": "execute_result"
    }
   ],
   "source": [
    "# describe A big statics summery\n",
    "google.describe()"
   ]
  },
  {
   "cell_type": "markdown",
   "id": "52d6cd5c",
   "metadata": {},
   "source": [
    "# The .idxmax() and .idxmin() Methods"
   ]
  },
  {
   "cell_type": "code",
   "execution_count": 42,
   "id": "452d4033",
   "metadata": {},
   "outputs": [
    {
     "data": {
      "text/plain": [
       "251"
      ]
     },
     "execution_count": 42,
     "metadata": {},
     "output_type": "execute_result"
    }
   ],
   "source": [
    "google.idxmax()\n",
    "# The index position of the greatest value "
   ]
  },
  {
   "cell_type": "code",
   "execution_count": 43,
   "id": "783a7e29",
   "metadata": {},
   "outputs": [
    {
     "data": {
      "text/plain": [
       "137.050003"
      ]
     },
     "execution_count": 43,
     "metadata": {},
     "output_type": "execute_result"
    }
   ],
   "source": [
    "google[251]"
   ]
  },
  {
   "cell_type": "code",
   "execution_count": 44,
   "id": "c48f99c6",
   "metadata": {},
   "outputs": [
    {
     "data": {
      "text/plain": [
       "46"
      ]
     },
     "execution_count": 44,
     "metadata": {},
     "output_type": "execute_result"
    }
   ],
   "source": [
    "google.idxmin()\n",
    "# The index position of the smallest value"
   ]
  },
  {
   "cell_type": "code",
   "execution_count": 45,
   "id": "772d0dd2",
   "metadata": {},
   "outputs": [
    {
     "data": {
      "text/plain": [
       "85.510002"
      ]
     },
     "execution_count": 45,
     "metadata": {},
     "output_type": "execute_result"
    }
   ],
   "source": [
    "google[46]"
   ]
  },
  {
   "cell_type": "code",
   "execution_count": 47,
   "id": "eb4c04a3",
   "metadata": {},
   "outputs": [
    {
     "data": {
      "text/plain": [
       "137.050003"
      ]
     },
     "execution_count": 47,
     "metadata": {},
     "output_type": "execute_result"
    }
   ],
   "source": [
    "google[google.idxmax()]"
   ]
  },
  {
   "cell_type": "markdown",
   "id": "6039819c",
   "metadata": {},
   "source": [
    "# The .value_counts() Method"
   ]
  },
  {
   "cell_type": "code",
   "execution_count": 56,
   "id": "98204123",
   "metadata": {},
   "outputs": [
    {
     "data": {
      "text/plain": [
       "0    Grass\n",
       "1    Grass\n",
       "2    Grass\n",
       "Name: Type 1, dtype: object"
      ]
     },
     "execution_count": 56,
     "metadata": {},
     "output_type": "execute_result"
    }
   ],
   "source": [
    "# pokemon = pd.read_csv(\"pokemon.csv\", index_col = \"Pokemon\", squeeze = True)\n",
    "pokemon = pd.read_csv(\"pokemon.csv\", usecols = [\"Type 1\"]).squeeze()\n",
    "pokemon.head(3)"
   ]
  },
  {
   "cell_type": "code",
   "execution_count": 58,
   "id": "4b076c0b",
   "metadata": {},
   "outputs": [
    {
     "data": {
      "text/plain": [
       "Water       112\n",
       "Normal       98\n",
       "Grass        70\n",
       "Bug          69\n",
       "Psychic      57\n",
       "Fire         52\n",
       "Electric     44\n",
       "Rock         44\n",
       "Dragon       32\n",
       "Ground       32\n",
       "Ghost        32\n",
       "Dark         31\n",
       "Poison       28\n",
       "Steel        27\n",
       "Fighting     27\n",
       "Ice          24\n",
       "Fairy        17\n",
       "Flying        4\n",
       "Name: Type 1, dtype: int64"
      ]
     },
     "execution_count": 58,
     "metadata": {},
     "output_type": "execute_result"
    }
   ],
   "source": [
    "pokemon.value_counts()\n",
    "# value_counts just loops through all of this stuff and counts each time it occurs.\n",
    "# Since this is a series, we can continue to call different methods on it."
   ]
  },
  {
   "cell_type": "code",
   "execution_count": 59,
   "id": "a357c8e9",
   "metadata": {},
   "outputs": [
    {
     "data": {
      "text/plain": [
       "800"
      ]
     },
     "execution_count": 59,
     "metadata": {},
     "output_type": "execute_result"
    }
   ],
   "source": [
    "pokemon.value_counts().sum()"
   ]
  },
  {
   "cell_type": "code",
   "execution_count": 61,
   "id": "7c7b9447",
   "metadata": {},
   "outputs": [
    {
     "data": {
      "text/plain": [
       "800"
      ]
     },
     "execution_count": 61,
     "metadata": {},
     "output_type": "execute_result"
    }
   ],
   "source": [
    "pokemon.count()"
   ]
  },
  {
   "cell_type": "code",
   "execution_count": 64,
   "id": "bea30ac2",
   "metadata": {},
   "outputs": [
    {
     "data": {
      "text/plain": [
       "Flying        4\n",
       "Fairy        17\n",
       "Ice          24\n",
       "Steel        27\n",
       "Fighting     27\n",
       "Poison       28\n",
       "Dark         31\n",
       "Ground       32\n",
       "Ghost        32\n",
       "Dragon       32\n",
       "Electric     44\n",
       "Rock         44\n",
       "Fire         52\n",
       "Psychic      57\n",
       "Bug          69\n",
       "Grass        70\n",
       "Normal       98\n",
       "Water       112\n",
       "Name: Type 1, dtype: int64"
      ]
     },
     "execution_count": 64,
     "metadata": {},
     "output_type": "execute_result"
    }
   ],
   "source": [
    "pokemon.value_counts(ascending = True)  # default ascending = False"
   ]
  },
  {
   "cell_type": "markdown",
   "id": "a66d11a2",
   "metadata": {},
   "source": [
    "# The .apply() Method"
   ]
  },
  {
   "cell_type": "code",
   "execution_count": 5,
   "id": "1f7b6379",
   "metadata": {},
   "outputs": [
    {
     "data": {
      "text/plain": [
       "0    111.629997\n",
       "1    109.199997\n",
       "2    111.339996\n",
       "Name: Open, dtype: float64"
      ]
     },
     "execution_count": 5,
     "metadata": {},
     "output_type": "execute_result"
    }
   ],
   "source": [
    "# googgle = pd.read_csv(\"google_stock_price.csv\", squeeze = True)\n",
    "google = pd.read_csv(\"google_stock_price.csv\", usecols = [\"Open\"]).squeeze(\"columns\")\n",
    "google.head(3)"
   ]
  },
  {
   "cell_type": "code",
   "execution_count": 6,
   "id": "52c73354",
   "metadata": {},
   "outputs": [],
   "source": [
    "# apply method: two ways 1.(more difficult) create custom function\n",
    "# def define \n",
    "def classify_performance(number):\n",
    "    if number < 300:\n",
    "        return \"OK\"\n",
    "    elif number >= 300 and number < 650:\n",
    "        return \"Satisfactory\"\n",
    "    else:\n",
    "        return \"Incredible!\""
   ]
  },
  {
   "cell_type": "code",
   "execution_count": 7,
   "id": "d312332d",
   "metadata": {},
   "outputs": [
    {
     "data": {
      "text/plain": [
       "0      OK\n",
       "1      OK\n",
       "2      OK\n",
       "3      OK\n",
       "4      OK\n",
       "       ..\n",
       "247    OK\n",
       "248    OK\n",
       "249    OK\n",
       "250    OK\n",
       "251    OK\n",
       "Name: Open, Length: 252, dtype: object"
      ]
     },
     "execution_count": 7,
     "metadata": {},
     "output_type": "execute_result"
    }
   ],
   "source": [
    "google.apply(classify_performance)\n",
    "# It's very first parameter, is expecting a function."
   ]
  },
  {
   "cell_type": "code",
   "execution_count": 8,
   "id": "62654180",
   "metadata": {},
   "outputs": [
    {
     "data": {
      "text/plain": [
       "247    OK\n",
       "248    OK\n",
       "249    OK\n",
       "250    OK\n",
       "251    OK\n",
       "Name: Open, dtype: object"
      ]
     },
     "execution_count": 8,
     "metadata": {},
     "output_type": "execute_result"
    }
   ],
   "source": [
    "google.apply(classify_performance).tail()"
   ]
  },
  {
   "cell_type": "code",
   "execution_count": 9,
   "id": "cfa7f2fc",
   "metadata": {},
   "outputs": [],
   "source": [
    "# 2. simpler approach anonymous function, and that allows us to define the function right withon those apply parentheses."
   ]
  },
  {
   "cell_type": "code",
   "execution_count": 11,
   "id": "2184f059",
   "metadata": {},
   "outputs": [
    {
     "data": {
      "text/plain": [
       "0      112.629997\n",
       "1      110.199997\n",
       "2      112.339996\n",
       "3      109.135002\n",
       "4      108.760002\n",
       "          ...    \n",
       "247    131.139999\n",
       "248    133.080002\n",
       "249    133.998001\n",
       "250    136.570007\n",
       "251    138.050003\n",
       "Name: Open, Length: 252, dtype: float64"
      ]
     },
     "execution_count": 11,
     "metadata": {},
     "output_type": "execute_result"
    }
   ],
   "source": [
    "# anonymous function: lambda\n",
    "#temporary variable name: stock_price is going to hold one by one is the values within our google series.\n",
    "# first: stock_price = 50.12, second = 54.10...\n",
    "# after : after the colon, define what want to do with each stock price, do not have to write the return keywaod\n",
    "# + 1 loop through one by one\n",
    "google.apply(lambda stock_price : stock_price + 1)"
   ]
  },
  {
   "cell_type": "markdown",
   "id": "39be82e7",
   "metadata": {},
   "source": [
    "# The .map() Method"
   ]
  },
  {
   "cell_type": "code",
   "execution_count": 15,
   "id": "6098a131",
   "metadata": {},
   "outputs": [
    {
     "data": {
      "text/plain": [
       "0    Bulbasaur\n",
       "1      Ivysaur\n",
       "2     Venusaur\n",
       "Name: Name, dtype: object"
      ]
     },
     "execution_count": 15,
     "metadata": {},
     "output_type": "execute_result"
    }
   ],
   "source": [
    "# map method; Map the values of a series to another collection of data.\n",
    "pokemon_names = pd.read_csv(\"pokemon.csv\", usecols = [\"Name\"]).squeeze(\"columns\")\n",
    "pokemon_names.head(3)"
   ]
  },
  {
   "cell_type": "code",
   "execution_count": 27,
   "id": "f4006f34",
   "metadata": {},
   "outputs": [
    {
     "data": {
      "text/plain": [
       "0    Grass\n",
       "1    Grass\n",
       "2    Grass\n",
       "Name: Type 1, dtype: object"
      ]
     },
     "execution_count": 27,
     "metadata": {},
     "output_type": "execute_result"
    }
   ],
   "source": [
    "# pokemon_types = pd.read_csv(\"pokemon.csv\", index_col = \"Pokemon\", squeeze = True)\n",
    "pokemon_types = pd.read_csv(\"pokemon.csv\", usecols = [\"Type 1\"]).squeeze(\"columns\")\n",
    "pokemon_types.head(3)"
   ]
  },
  {
   "cell_type": "code",
   "execution_count": 28,
   "id": "d36df153",
   "metadata": {},
   "outputs": [
    {
     "data": {
      "text/plain": [
       "0      NaN\n",
       "1      NaN\n",
       "2      NaN\n",
       "3      NaN\n",
       "4      NaN\n",
       "      ... \n",
       "795    NaN\n",
       "796    NaN\n",
       "797    NaN\n",
       "798    NaN\n",
       "799    NaN\n",
       "Name: Name, Length: 800, dtype: object"
      ]
     },
     "execution_count": 28,
     "metadata": {},
     "output_type": "execute_result"
    }
   ],
   "source": [
    "# map(arg): First paramater is argument. That is going to be the object that it's going to compare the value, too.\n",
    "# If give it another Seres (pokemon_types): move through these series values.\n",
    "pokemon_names.map(pokemon_types)"
   ]
  },
  {
   "cell_type": "code",
   "execution_count": 31,
   "id": "c8f9ddc8",
   "metadata": {},
   "outputs": [],
   "source": [
    "pokemon_names = pd.read_csv(\"pokemon.csv\", usecols = [\"Name\"]).squeeze(\"columns\")\n",
    "# pokemon_types = pd.read_csv(\"pokemon.csv\", index_col = [\"Name\"]).squeeze(\"columns\").dict()\n",
    "pokemon_types = pd.read_csv(\"pokemon.csv\", usecols = [\"Name\"]).squeeze(\"columns\").to_dict()\n",
    "# to_dict: converts that pandas Series to a Python dictionary"
   ]
  },
  {
   "cell_type": "code",
   "execution_count": 33,
   "id": "da755733",
   "metadata": {},
   "outputs": [
    {
     "data": {
      "text/plain": [
       "0                Bulbasaur\n",
       "1                  Ivysaur\n",
       "2                 Venusaur\n",
       "3    VenusaurMega Venusaur\n",
       "4               Charmander\n",
       "Name: Name, dtype: object"
      ]
     },
     "execution_count": 33,
     "metadata": {},
     "output_type": "execute_result"
    }
   ],
   "source": [
    "pokemon_names.head()"
   ]
  },
  {
   "cell_type": "code",
   "execution_count": 34,
   "id": "be0dd66d",
   "metadata": {
    "collapsed": true
   },
   "outputs": [
    {
     "data": {
      "text/plain": [
       "{0: 'Bulbasaur',\n",
       " 1: 'Ivysaur',\n",
       " 2: 'Venusaur',\n",
       " 3: 'VenusaurMega Venusaur',\n",
       " 4: 'Charmander',\n",
       " 5: 'Charmeleon',\n",
       " 6: 'Charizard',\n",
       " 7: 'CharizardMega Charizard X',\n",
       " 8: 'CharizardMega Charizard Y',\n",
       " 9: 'Squirtle',\n",
       " 10: 'Wartortle',\n",
       " 11: 'Blastoise',\n",
       " 12: 'BlastoiseMega Blastoise',\n",
       " 13: 'Caterpie',\n",
       " 14: 'Metapod',\n",
       " 15: 'Butterfree',\n",
       " 16: 'Weedle',\n",
       " 17: 'Kakuna',\n",
       " 18: 'Beedrill',\n",
       " 19: 'BeedrillMega Beedrill',\n",
       " 20: 'Pidgey',\n",
       " 21: 'Pidgeotto',\n",
       " 22: 'Pidgeot',\n",
       " 23: 'PidgeotMega Pidgeot',\n",
       " 24: 'Rattata',\n",
       " 25: 'Raticate',\n",
       " 26: 'Spearow',\n",
       " 27: 'Fearow',\n",
       " 28: 'Ekans',\n",
       " 29: 'Arbok',\n",
       " 30: 'Pikachu',\n",
       " 31: 'Raichu',\n",
       " 32: 'Sandshrew',\n",
       " 33: 'Sandslash',\n",
       " 34: 'Nidoran♀',\n",
       " 35: 'Nidorina',\n",
       " 36: 'Nidoqueen',\n",
       " 37: 'Nidoran♂',\n",
       " 38: 'Nidorino',\n",
       " 39: 'Nidoking',\n",
       " 40: 'Clefairy',\n",
       " 41: 'Clefable',\n",
       " 42: 'Vulpix',\n",
       " 43: 'Ninetales',\n",
       " 44: 'Jigglypuff',\n",
       " 45: 'Wigglytuff',\n",
       " 46: 'Zubat',\n",
       " 47: 'Golbat',\n",
       " 48: 'Oddish',\n",
       " 49: 'Gloom',\n",
       " 50: 'Vileplume',\n",
       " 51: 'Paras',\n",
       " 52: 'Parasect',\n",
       " 53: 'Venonat',\n",
       " 54: 'Venomoth',\n",
       " 55: 'Diglett',\n",
       " 56: 'Dugtrio',\n",
       " 57: 'Meowth',\n",
       " 58: 'Persian',\n",
       " 59: 'Psyduck',\n",
       " 60: 'Golduck',\n",
       " 61: 'Mankey',\n",
       " 62: 'Primeape',\n",
       " 63: 'Growlithe',\n",
       " 64: 'Arcanine',\n",
       " 65: 'Poliwag',\n",
       " 66: 'Poliwhirl',\n",
       " 67: 'Poliwrath',\n",
       " 68: 'Abra',\n",
       " 69: 'Kadabra',\n",
       " 70: 'Alakazam',\n",
       " 71: 'AlakazamMega Alakazam',\n",
       " 72: 'Machop',\n",
       " 73: 'Machoke',\n",
       " 74: 'Machamp',\n",
       " 75: 'Bellsprout',\n",
       " 76: 'Weepinbell',\n",
       " 77: 'Victreebel',\n",
       " 78: 'Tentacool',\n",
       " 79: 'Tentacruel',\n",
       " 80: 'Geodude',\n",
       " 81: 'Graveler',\n",
       " 82: 'Golem',\n",
       " 83: 'Ponyta',\n",
       " 84: 'Rapidash',\n",
       " 85: 'Slowpoke',\n",
       " 86: 'Slowbro',\n",
       " 87: 'SlowbroMega Slowbro',\n",
       " 88: 'Magnemite',\n",
       " 89: 'Magneton',\n",
       " 90: \"Farfetch'd\",\n",
       " 91: 'Doduo',\n",
       " 92: 'Dodrio',\n",
       " 93: 'Seel',\n",
       " 94: 'Dewgong',\n",
       " 95: 'Grimer',\n",
       " 96: 'Muk',\n",
       " 97: 'Shellder',\n",
       " 98: 'Cloyster',\n",
       " 99: 'Gastly',\n",
       " 100: 'Haunter',\n",
       " 101: 'Gengar',\n",
       " 102: 'GengarMega Gengar',\n",
       " 103: 'Onix',\n",
       " 104: 'Drowzee',\n",
       " 105: 'Hypno',\n",
       " 106: 'Krabby',\n",
       " 107: 'Kingler',\n",
       " 108: 'Voltorb',\n",
       " 109: 'Electrode',\n",
       " 110: 'Exeggcute',\n",
       " 111: 'Exeggutor',\n",
       " 112: 'Cubone',\n",
       " 113: 'Marowak',\n",
       " 114: 'Hitmonlee',\n",
       " 115: 'Hitmonchan',\n",
       " 116: 'Lickitung',\n",
       " 117: 'Koffing',\n",
       " 118: 'Weezing',\n",
       " 119: 'Rhyhorn',\n",
       " 120: 'Rhydon',\n",
       " 121: 'Chansey',\n",
       " 122: 'Tangela',\n",
       " 123: 'Kangaskhan',\n",
       " 124: 'KangaskhanMega Kangaskhan',\n",
       " 125: 'Horsea',\n",
       " 126: 'Seadra',\n",
       " 127: 'Goldeen',\n",
       " 128: 'Seaking',\n",
       " 129: 'Staryu',\n",
       " 130: 'Starmie',\n",
       " 131: 'Mr. Mime',\n",
       " 132: 'Scyther',\n",
       " 133: 'Jynx',\n",
       " 134: 'Electabuzz',\n",
       " 135: 'Magmar',\n",
       " 136: 'Pinsir',\n",
       " 137: 'PinsirMega Pinsir',\n",
       " 138: 'Tauros',\n",
       " 139: 'Magikarp',\n",
       " 140: 'Gyarados',\n",
       " 141: 'GyaradosMega Gyarados',\n",
       " 142: 'Lapras',\n",
       " 143: 'Ditto',\n",
       " 144: 'Eevee',\n",
       " 145: 'Vaporeon',\n",
       " 146: 'Jolteon',\n",
       " 147: 'Flareon',\n",
       " 148: 'Porygon',\n",
       " 149: 'Omanyte',\n",
       " 150: 'Omastar',\n",
       " 151: 'Kabuto',\n",
       " 152: 'Kabutops',\n",
       " 153: 'Aerodactyl',\n",
       " 154: 'AerodactylMega Aerodactyl',\n",
       " 155: 'Snorlax',\n",
       " 156: 'Articuno',\n",
       " 157: 'Zapdos',\n",
       " 158: 'Moltres',\n",
       " 159: 'Dratini',\n",
       " 160: 'Dragonair',\n",
       " 161: 'Dragonite',\n",
       " 162: 'Mewtwo',\n",
       " 163: 'MewtwoMega Mewtwo X',\n",
       " 164: 'MewtwoMega Mewtwo Y',\n",
       " 165: 'Mew',\n",
       " 166: 'Chikorita',\n",
       " 167: 'Bayleef',\n",
       " 168: 'Meganium',\n",
       " 169: 'Cyndaquil',\n",
       " 170: 'Quilava',\n",
       " 171: 'Typhlosion',\n",
       " 172: 'Totodile',\n",
       " 173: 'Croconaw',\n",
       " 174: 'Feraligatr',\n",
       " 175: 'Sentret',\n",
       " 176: 'Furret',\n",
       " 177: 'Hoothoot',\n",
       " 178: 'Noctowl',\n",
       " 179: 'Ledyba',\n",
       " 180: 'Ledian',\n",
       " 181: 'Spinarak',\n",
       " 182: 'Ariados',\n",
       " 183: 'Crobat',\n",
       " 184: 'Chinchou',\n",
       " 185: 'Lanturn',\n",
       " 186: 'Pichu',\n",
       " 187: 'Cleffa',\n",
       " 188: 'Igglybuff',\n",
       " 189: 'Togepi',\n",
       " 190: 'Togetic',\n",
       " 191: 'Natu',\n",
       " 192: 'Xatu',\n",
       " 193: 'Mareep',\n",
       " 194: 'Flaaffy',\n",
       " 195: 'Ampharos',\n",
       " 196: 'AmpharosMega Ampharos',\n",
       " 197: 'Bellossom',\n",
       " 198: 'Marill',\n",
       " 199: 'Azumarill',\n",
       " 200: 'Sudowoodo',\n",
       " 201: 'Politoed',\n",
       " 202: 'Hoppip',\n",
       " 203: 'Skiploom',\n",
       " 204: 'Jumpluff',\n",
       " 205: 'Aipom',\n",
       " 206: 'Sunkern',\n",
       " 207: 'Sunflora',\n",
       " 208: 'Yanma',\n",
       " 209: 'Wooper',\n",
       " 210: 'Quagsire',\n",
       " 211: 'Espeon',\n",
       " 212: 'Umbreon',\n",
       " 213: 'Murkrow',\n",
       " 214: 'Slowking',\n",
       " 215: 'Misdreavus',\n",
       " 216: 'Unown',\n",
       " 217: 'Wobbuffet',\n",
       " 218: 'Girafarig',\n",
       " 219: 'Pineco',\n",
       " 220: 'Forretress',\n",
       " 221: 'Dunsparce',\n",
       " 222: 'Gligar',\n",
       " 223: 'Steelix',\n",
       " 224: 'SteelixMega Steelix',\n",
       " 225: 'Snubbull',\n",
       " 226: 'Granbull',\n",
       " 227: 'Qwilfish',\n",
       " 228: 'Scizor',\n",
       " 229: 'ScizorMega Scizor',\n",
       " 230: 'Shuckle',\n",
       " 231: 'Heracross',\n",
       " 232: 'HeracrossMega Heracross',\n",
       " 233: 'Sneasel',\n",
       " 234: 'Teddiursa',\n",
       " 235: 'Ursaring',\n",
       " 236: 'Slugma',\n",
       " 237: 'Magcargo',\n",
       " 238: 'Swinub',\n",
       " 239: 'Piloswine',\n",
       " 240: 'Corsola',\n",
       " 241: 'Remoraid',\n",
       " 242: 'Octillery',\n",
       " 243: 'Delibird',\n",
       " 244: 'Mantine',\n",
       " 245: 'Skarmory',\n",
       " 246: 'Houndour',\n",
       " 247: 'Houndoom',\n",
       " 248: 'HoundoomMega Houndoom',\n",
       " 249: 'Kingdra',\n",
       " 250: 'Phanpy',\n",
       " 251: 'Donphan',\n",
       " 252: 'Porygon2',\n",
       " 253: 'Stantler',\n",
       " 254: 'Smeargle',\n",
       " 255: 'Tyrogue',\n",
       " 256: 'Hitmontop',\n",
       " 257: 'Smoochum',\n",
       " 258: 'Elekid',\n",
       " 259: 'Magby',\n",
       " 260: 'Miltank',\n",
       " 261: 'Blissey',\n",
       " 262: 'Raikou',\n",
       " 263: 'Entei',\n",
       " 264: 'Suicune',\n",
       " 265: 'Larvitar',\n",
       " 266: 'Pupitar',\n",
       " 267: 'Tyranitar',\n",
       " 268: 'TyranitarMega Tyranitar',\n",
       " 269: 'Lugia',\n",
       " 270: 'Ho-oh',\n",
       " 271: 'Celebi',\n",
       " 272: 'Treecko',\n",
       " 273: 'Grovyle',\n",
       " 274: 'Sceptile',\n",
       " 275: 'SceptileMega Sceptile',\n",
       " 276: 'Torchic',\n",
       " 277: 'Combusken',\n",
       " 278: 'Blaziken',\n",
       " 279: 'BlazikenMega Blaziken',\n",
       " 280: 'Mudkip',\n",
       " 281: 'Marshtomp',\n",
       " 282: 'Swampert',\n",
       " 283: 'SwampertMega Swampert',\n",
       " 284: 'Poochyena',\n",
       " 285: 'Mightyena',\n",
       " 286: 'Zigzagoon',\n",
       " 287: 'Linoone',\n",
       " 288: 'Wurmple',\n",
       " 289: 'Silcoon',\n",
       " 290: 'Beautifly',\n",
       " 291: 'Cascoon',\n",
       " 292: 'Dustox',\n",
       " 293: 'Lotad',\n",
       " 294: 'Lombre',\n",
       " 295: 'Ludicolo',\n",
       " 296: 'Seedot',\n",
       " 297: 'Nuzleaf',\n",
       " 298: 'Shiftry',\n",
       " 299: 'Taillow',\n",
       " 300: 'Swellow',\n",
       " 301: 'Wingull',\n",
       " 302: 'Pelipper',\n",
       " 303: 'Ralts',\n",
       " 304: 'Kirlia',\n",
       " 305: 'Gardevoir',\n",
       " 306: 'GardevoirMega Gardevoir',\n",
       " 307: 'Surskit',\n",
       " 308: 'Masquerain',\n",
       " 309: 'Shroomish',\n",
       " 310: 'Breloom',\n",
       " 311: 'Slakoth',\n",
       " 312: 'Vigoroth',\n",
       " 313: 'Slaking',\n",
       " 314: 'Nincada',\n",
       " 315: 'Ninjask',\n",
       " 316: 'Shedinja',\n",
       " 317: 'Whismur',\n",
       " 318: 'Loudred',\n",
       " 319: 'Exploud',\n",
       " 320: 'Makuhita',\n",
       " 321: 'Hariyama',\n",
       " 322: 'Azurill',\n",
       " 323: 'Nosepass',\n",
       " 324: 'Skitty',\n",
       " 325: 'Delcatty',\n",
       " 326: 'Sableye',\n",
       " 327: 'SableyeMega Sableye',\n",
       " 328: 'Mawile',\n",
       " 329: 'MawileMega Mawile',\n",
       " 330: 'Aron',\n",
       " 331: 'Lairon',\n",
       " 332: 'Aggron',\n",
       " 333: 'AggronMega Aggron',\n",
       " 334: 'Meditite',\n",
       " 335: 'Medicham',\n",
       " 336: 'MedichamMega Medicham',\n",
       " 337: 'Electrike',\n",
       " 338: 'Manectric',\n",
       " 339: 'ManectricMega Manectric',\n",
       " 340: 'Plusle',\n",
       " 341: 'Minun',\n",
       " 342: 'Volbeat',\n",
       " 343: 'Illumise',\n",
       " 344: 'Roselia',\n",
       " 345: 'Gulpin',\n",
       " 346: 'Swalot',\n",
       " 347: 'Carvanha',\n",
       " 348: 'Sharpedo',\n",
       " 349: 'SharpedoMega Sharpedo',\n",
       " 350: 'Wailmer',\n",
       " 351: 'Wailord',\n",
       " 352: 'Numel',\n",
       " 353: 'Camerupt',\n",
       " 354: 'CameruptMega Camerupt',\n",
       " 355: 'Torkoal',\n",
       " 356: 'Spoink',\n",
       " 357: 'Grumpig',\n",
       " 358: 'Spinda',\n",
       " 359: 'Trapinch',\n",
       " 360: 'Vibrava',\n",
       " 361: 'Flygon',\n",
       " 362: 'Cacnea',\n",
       " 363: 'Cacturne',\n",
       " 364: 'Swablu',\n",
       " 365: 'Altaria',\n",
       " 366: 'AltariaMega Altaria',\n",
       " 367: 'Zangoose',\n",
       " 368: 'Seviper',\n",
       " 369: 'Lunatone',\n",
       " 370: 'Solrock',\n",
       " 371: 'Barboach',\n",
       " 372: 'Whiscash',\n",
       " 373: 'Corphish',\n",
       " 374: 'Crawdaunt',\n",
       " 375: 'Baltoy',\n",
       " 376: 'Claydol',\n",
       " 377: 'Lileep',\n",
       " 378: 'Cradily',\n",
       " 379: 'Anorith',\n",
       " 380: 'Armaldo',\n",
       " 381: 'Feebas',\n",
       " 382: 'Milotic',\n",
       " 383: 'Castform',\n",
       " 384: 'Kecleon',\n",
       " 385: 'Shuppet',\n",
       " 386: 'Banette',\n",
       " 387: 'BanetteMega Banette',\n",
       " 388: 'Duskull',\n",
       " 389: 'Dusclops',\n",
       " 390: 'Tropius',\n",
       " 391: 'Chimecho',\n",
       " 392: 'Absol',\n",
       " 393: 'AbsolMega Absol',\n",
       " 394: 'Wynaut',\n",
       " 395: 'Snorunt',\n",
       " 396: 'Glalie',\n",
       " 397: 'GlalieMega Glalie',\n",
       " 398: 'Spheal',\n",
       " 399: 'Sealeo',\n",
       " 400: 'Walrein',\n",
       " 401: 'Clamperl',\n",
       " 402: 'Huntail',\n",
       " 403: 'Gorebyss',\n",
       " 404: 'Relicanth',\n",
       " 405: 'Luvdisc',\n",
       " 406: 'Bagon',\n",
       " 407: 'Shelgon',\n",
       " 408: 'Salamence',\n",
       " 409: 'SalamenceMega Salamence',\n",
       " 410: 'Beldum',\n",
       " 411: 'Metang',\n",
       " 412: 'Metagross',\n",
       " 413: 'MetagrossMega Metagross',\n",
       " 414: 'Regirock',\n",
       " 415: 'Regice',\n",
       " 416: 'Registeel',\n",
       " 417: 'Latias',\n",
       " 418: 'LatiasMega Latias',\n",
       " 419: 'Latios',\n",
       " 420: 'LatiosMega Latios',\n",
       " 421: 'Kyogre',\n",
       " 422: 'KyogrePrimal Kyogre',\n",
       " 423: 'Groudon',\n",
       " 424: 'GroudonPrimal Groudon',\n",
       " 425: 'Rayquaza',\n",
       " 426: 'RayquazaMega Rayquaza',\n",
       " 427: 'Jirachi',\n",
       " 428: 'DeoxysNormal Forme',\n",
       " 429: 'DeoxysAttack Forme',\n",
       " 430: 'DeoxysDefense Forme',\n",
       " 431: 'DeoxysSpeed Forme',\n",
       " 432: 'Turtwig',\n",
       " 433: 'Grotle',\n",
       " 434: 'Torterra',\n",
       " 435: 'Chimchar',\n",
       " 436: 'Monferno',\n",
       " 437: 'Infernape',\n",
       " 438: 'Piplup',\n",
       " 439: 'Prinplup',\n",
       " 440: 'Empoleon',\n",
       " 441: 'Starly',\n",
       " 442: 'Staravia',\n",
       " 443: 'Staraptor',\n",
       " 444: 'Bidoof',\n",
       " 445: 'Bibarel',\n",
       " 446: 'Kricketot',\n",
       " 447: 'Kricketune',\n",
       " 448: 'Shinx',\n",
       " 449: 'Luxio',\n",
       " 450: 'Luxray',\n",
       " 451: 'Budew',\n",
       " 452: 'Roserade',\n",
       " 453: 'Cranidos',\n",
       " 454: 'Rampardos',\n",
       " 455: 'Shieldon',\n",
       " 456: 'Bastiodon',\n",
       " 457: 'Burmy',\n",
       " 458: 'WormadamPlant Cloak',\n",
       " 459: 'WormadamSandy Cloak',\n",
       " 460: 'WormadamTrash Cloak',\n",
       " 461: 'Mothim',\n",
       " 462: 'Combee',\n",
       " 463: 'Vespiquen',\n",
       " 464: 'Pachirisu',\n",
       " 465: 'Buizel',\n",
       " 466: 'Floatzel',\n",
       " 467: 'Cherubi',\n",
       " 468: 'Cherrim',\n",
       " 469: 'Shellos',\n",
       " 470: 'Gastrodon',\n",
       " 471: 'Ambipom',\n",
       " 472: 'Drifloon',\n",
       " 473: 'Drifblim',\n",
       " 474: 'Buneary',\n",
       " 475: 'Lopunny',\n",
       " 476: 'LopunnyMega Lopunny',\n",
       " 477: 'Mismagius',\n",
       " 478: 'Honchkrow',\n",
       " 479: 'Glameow',\n",
       " 480: 'Purugly',\n",
       " 481: 'Chingling',\n",
       " 482: 'Stunky',\n",
       " 483: 'Skuntank',\n",
       " 484: 'Bronzor',\n",
       " 485: 'Bronzong',\n",
       " 486: 'Bonsly',\n",
       " 487: 'Mime Jr.',\n",
       " 488: 'Happiny',\n",
       " 489: 'Chatot',\n",
       " 490: 'Spiritomb',\n",
       " 491: 'Gible',\n",
       " 492: 'Gabite',\n",
       " 493: 'Garchomp',\n",
       " 494: 'GarchompMega Garchomp',\n",
       " 495: 'Munchlax',\n",
       " 496: 'Riolu',\n",
       " 497: 'Lucario',\n",
       " 498: 'LucarioMega Lucario',\n",
       " 499: 'Hippopotas',\n",
       " 500: 'Hippowdon',\n",
       " 501: 'Skorupi',\n",
       " 502: 'Drapion',\n",
       " 503: 'Croagunk',\n",
       " 504: 'Toxicroak',\n",
       " 505: 'Carnivine',\n",
       " 506: 'Finneon',\n",
       " 507: 'Lumineon',\n",
       " 508: 'Mantyke',\n",
       " 509: 'Snover',\n",
       " 510: 'Abomasnow',\n",
       " 511: 'AbomasnowMega Abomasnow',\n",
       " 512: 'Weavile',\n",
       " 513: 'Magnezone',\n",
       " 514: 'Lickilicky',\n",
       " 515: 'Rhyperior',\n",
       " 516: 'Tangrowth',\n",
       " 517: 'Electivire',\n",
       " 518: 'Magmortar',\n",
       " 519: 'Togekiss',\n",
       " 520: 'Yanmega',\n",
       " 521: 'Leafeon',\n",
       " 522: 'Glaceon',\n",
       " 523: 'Gliscor',\n",
       " 524: 'Mamoswine',\n",
       " 525: 'Porygon-Z',\n",
       " 526: 'Gallade',\n",
       " 527: 'GalladeMega Gallade',\n",
       " 528: 'Probopass',\n",
       " 529: 'Dusknoir',\n",
       " 530: 'Froslass',\n",
       " 531: 'Rotom',\n",
       " 532: 'RotomHeat Rotom',\n",
       " 533: 'RotomWash Rotom',\n",
       " 534: 'RotomFrost Rotom',\n",
       " 535: 'RotomFan Rotom',\n",
       " 536: 'RotomMow Rotom',\n",
       " 537: 'Uxie',\n",
       " 538: 'Mesprit',\n",
       " 539: 'Azelf',\n",
       " 540: 'Dialga',\n",
       " 541: 'Palkia',\n",
       " 542: 'Heatran',\n",
       " 543: 'Regigigas',\n",
       " 544: 'GiratinaAltered Forme',\n",
       " 545: 'GiratinaOrigin Forme',\n",
       " 546: 'Cresselia',\n",
       " 547: 'Phione',\n",
       " 548: 'Manaphy',\n",
       " 549: 'Darkrai',\n",
       " 550: 'ShayminLand Forme',\n",
       " 551: 'ShayminSky Forme',\n",
       " 552: 'Arceus',\n",
       " 553: 'Victini',\n",
       " 554: 'Snivy',\n",
       " 555: 'Servine',\n",
       " 556: 'Serperior',\n",
       " 557: 'Tepig',\n",
       " 558: 'Pignite',\n",
       " 559: 'Emboar',\n",
       " 560: 'Oshawott',\n",
       " 561: 'Dewott',\n",
       " 562: 'Samurott',\n",
       " 563: 'Patrat',\n",
       " 564: 'Watchog',\n",
       " 565: 'Lillipup',\n",
       " 566: 'Herdier',\n",
       " 567: 'Stoutland',\n",
       " 568: 'Purrloin',\n",
       " 569: 'Liepard',\n",
       " 570: 'Pansage',\n",
       " 571: 'Simisage',\n",
       " 572: 'Pansear',\n",
       " 573: 'Simisear',\n",
       " 574: 'Panpour',\n",
       " 575: 'Simipour',\n",
       " 576: 'Munna',\n",
       " 577: 'Musharna',\n",
       " 578: 'Pidove',\n",
       " 579: 'Tranquill',\n",
       " 580: 'Unfezant',\n",
       " 581: 'Blitzle',\n",
       " 582: 'Zebstrika',\n",
       " 583: 'Roggenrola',\n",
       " 584: 'Boldore',\n",
       " 585: 'Gigalith',\n",
       " 586: 'Woobat',\n",
       " 587: 'Swoobat',\n",
       " 588: 'Drilbur',\n",
       " 589: 'Excadrill',\n",
       " 590: 'Audino',\n",
       " 591: 'AudinoMega Audino',\n",
       " 592: 'Timburr',\n",
       " 593: 'Gurdurr',\n",
       " 594: 'Conkeldurr',\n",
       " 595: 'Tympole',\n",
       " 596: 'Palpitoad',\n",
       " 597: 'Seismitoad',\n",
       " 598: 'Throh',\n",
       " 599: 'Sawk',\n",
       " 600: 'Sewaddle',\n",
       " 601: 'Swadloon',\n",
       " 602: 'Leavanny',\n",
       " 603: 'Venipede',\n",
       " 604: 'Whirlipede',\n",
       " 605: 'Scolipede',\n",
       " 606: 'Cottonee',\n",
       " 607: 'Whimsicott',\n",
       " 608: 'Petilil',\n",
       " 609: 'Lilligant',\n",
       " 610: 'Basculin',\n",
       " 611: 'Sandile',\n",
       " 612: 'Krokorok',\n",
       " 613: 'Krookodile',\n",
       " 614: 'Darumaka',\n",
       " 615: 'DarmanitanStandard Mode',\n",
       " 616: 'DarmanitanZen Mode',\n",
       " 617: 'Maractus',\n",
       " 618: 'Dwebble',\n",
       " 619: 'Crustle',\n",
       " 620: 'Scraggy',\n",
       " 621: 'Scrafty',\n",
       " 622: 'Sigilyph',\n",
       " 623: 'Yamask',\n",
       " 624: 'Cofagrigus',\n",
       " 625: 'Tirtouga',\n",
       " 626: 'Carracosta',\n",
       " 627: 'Archen',\n",
       " 628: 'Archeops',\n",
       " 629: 'Trubbish',\n",
       " 630: 'Garbodor',\n",
       " 631: 'Zorua',\n",
       " 632: 'Zoroark',\n",
       " 633: 'Minccino',\n",
       " 634: 'Cinccino',\n",
       " 635: 'Gothita',\n",
       " 636: 'Gothorita',\n",
       " 637: 'Gothitelle',\n",
       " 638: 'Solosis',\n",
       " 639: 'Duosion',\n",
       " 640: 'Reuniclus',\n",
       " 641: 'Ducklett',\n",
       " 642: 'Swanna',\n",
       " 643: 'Vanillite',\n",
       " 644: 'Vanillish',\n",
       " 645: 'Vanilluxe',\n",
       " 646: 'Deerling',\n",
       " 647: 'Sawsbuck',\n",
       " 648: 'Emolga',\n",
       " 649: 'Karrablast',\n",
       " 650: 'Escavalier',\n",
       " 651: 'Foongus',\n",
       " 652: 'Amoonguss',\n",
       " 653: 'Frillish',\n",
       " 654: 'Jellicent',\n",
       " 655: 'Alomomola',\n",
       " 656: 'Joltik',\n",
       " 657: 'Galvantula',\n",
       " 658: 'Ferroseed',\n",
       " 659: 'Ferrothorn',\n",
       " 660: 'Klink',\n",
       " 661: 'Klang',\n",
       " 662: 'Klinklang',\n",
       " 663: 'Tynamo',\n",
       " 664: 'Eelektrik',\n",
       " 665: 'Eelektross',\n",
       " 666: 'Elgyem',\n",
       " 667: 'Beheeyem',\n",
       " 668: 'Litwick',\n",
       " 669: 'Lampent',\n",
       " 670: 'Chandelure',\n",
       " 671: 'Axew',\n",
       " 672: 'Fraxure',\n",
       " 673: 'Haxorus',\n",
       " 674: 'Cubchoo',\n",
       " 675: 'Beartic',\n",
       " 676: 'Cryogonal',\n",
       " 677: 'Shelmet',\n",
       " 678: 'Accelgor',\n",
       " 679: 'Stunfisk',\n",
       " 680: 'Mienfoo',\n",
       " 681: 'Mienshao',\n",
       " 682: 'Druddigon',\n",
       " 683: 'Golett',\n",
       " 684: 'Golurk',\n",
       " 685: 'Pawniard',\n",
       " 686: 'Bisharp',\n",
       " 687: 'Bouffalant',\n",
       " 688: 'Rufflet',\n",
       " 689: 'Braviary',\n",
       " 690: 'Vullaby',\n",
       " 691: 'Mandibuzz',\n",
       " 692: 'Heatmor',\n",
       " 693: 'Durant',\n",
       " 694: 'Deino',\n",
       " 695: 'Zweilous',\n",
       " 696: 'Hydreigon',\n",
       " 697: 'Larvesta',\n",
       " 698: 'Volcarona',\n",
       " 699: 'Cobalion',\n",
       " 700: 'Terrakion',\n",
       " 701: 'Virizion',\n",
       " 702: 'TornadusIncarnate Forme',\n",
       " 703: 'TornadusTherian Forme',\n",
       " 704: 'ThundurusIncarnate Forme',\n",
       " 705: 'ThundurusTherian Forme',\n",
       " 706: 'Reshiram',\n",
       " 707: 'Zekrom',\n",
       " 708: 'LandorusIncarnate Forme',\n",
       " 709: 'LandorusTherian Forme',\n",
       " 710: 'Kyurem',\n",
       " 711: 'KyuremBlack Kyurem',\n",
       " 712: 'KyuremWhite Kyurem',\n",
       " 713: 'KeldeoOrdinary Forme',\n",
       " 714: 'KeldeoResolute Forme',\n",
       " 715: 'MeloettaAria Forme',\n",
       " 716: 'MeloettaPirouette Forme',\n",
       " 717: 'Genesect',\n",
       " 718: 'Chespin',\n",
       " 719: 'Quilladin',\n",
       " 720: 'Chesnaught',\n",
       " 721: 'Fennekin',\n",
       " 722: 'Braixen',\n",
       " 723: 'Delphox',\n",
       " 724: 'Froakie',\n",
       " 725: 'Frogadier',\n",
       " 726: 'Greninja',\n",
       " 727: 'Bunnelby',\n",
       " 728: 'Diggersby',\n",
       " 729: 'Fletchling',\n",
       " 730: 'Fletchinder',\n",
       " 731: 'Talonflame',\n",
       " 732: 'Scatterbug',\n",
       " 733: 'Spewpa',\n",
       " 734: 'Vivillon',\n",
       " 735: 'Litleo',\n",
       " 736: 'Pyroar',\n",
       " 737: 'Flabébé',\n",
       " 738: 'Floette',\n",
       " 739: 'Florges',\n",
       " 740: 'Skiddo',\n",
       " 741: 'Gogoat',\n",
       " 742: 'Pancham',\n",
       " 743: 'Pangoro',\n",
       " 744: 'Furfrou',\n",
       " 745: 'Espurr',\n",
       " 746: 'MeowsticMale',\n",
       " 747: 'MeowsticFemale',\n",
       " 748: 'Honedge',\n",
       " 749: 'Doublade',\n",
       " 750: 'AegislashBlade Forme',\n",
       " 751: 'AegislashShield Forme',\n",
       " 752: 'Spritzee',\n",
       " 753: 'Aromatisse',\n",
       " 754: 'Swirlix',\n",
       " 755: 'Slurpuff',\n",
       " 756: 'Inkay',\n",
       " 757: 'Malamar',\n",
       " 758: 'Binacle',\n",
       " 759: 'Barbaracle',\n",
       " 760: 'Skrelp',\n",
       " 761: 'Dragalge',\n",
       " 762: 'Clauncher',\n",
       " 763: 'Clawitzer',\n",
       " 764: 'Helioptile',\n",
       " 765: 'Heliolisk',\n",
       " 766: 'Tyrunt',\n",
       " 767: 'Tyrantrum',\n",
       " 768: 'Amaura',\n",
       " 769: 'Aurorus',\n",
       " 770: 'Sylveon',\n",
       " 771: 'Hawlucha',\n",
       " 772: 'Dedenne',\n",
       " 773: 'Carbink',\n",
       " 774: 'Goomy',\n",
       " 775: 'Sliggoo',\n",
       " 776: 'Goodra',\n",
       " 777: 'Klefki',\n",
       " 778: 'Phantump',\n",
       " 779: 'Trevenant',\n",
       " 780: 'PumpkabooAverage Size',\n",
       " 781: 'PumpkabooSmall Size',\n",
       " 782: 'PumpkabooLarge Size',\n",
       " 783: 'PumpkabooSuper Size',\n",
       " 784: 'GourgeistAverage Size',\n",
       " 785: 'GourgeistSmall Size',\n",
       " 786: 'GourgeistLarge Size',\n",
       " 787: 'GourgeistSuper Size',\n",
       " 788: 'Bergmite',\n",
       " 789: 'Avalugg',\n",
       " 790: 'Noibat',\n",
       " 791: 'Noivern',\n",
       " 792: 'Xerneas',\n",
       " 793: 'Yveltal',\n",
       " 794: 'Zygarde50% Forme',\n",
       " 795: 'Diancie',\n",
       " 796: 'DiancieMega Diancie',\n",
       " 797: 'HoopaHoopa Confined',\n",
       " 798: 'HoopaHoopa Unbound',\n",
       " 799: 'Volcanion'}"
      ]
     },
     "execution_count": 34,
     "metadata": {},
     "output_type": "execute_result"
    }
   ],
   "source": [
    "pokemon_types"
   ]
  },
  {
   "cell_type": "code",
   "execution_count": 36,
   "id": "f2483ae3",
   "metadata": {},
   "outputs": [
    {
     "data": {
      "text/plain": [
       "0      NaN\n",
       "1      NaN\n",
       "2      NaN\n",
       "3      NaN\n",
       "4      NaN\n",
       "      ... \n",
       "795    NaN\n",
       "796    NaN\n",
       "797    NaN\n",
       "798    NaN\n",
       "799    NaN\n",
       "Name: Name, Length: 800, dtype: object"
      ]
     },
     "execution_count": 36,
     "metadata": {},
     "output_type": "execute_result"
    }
   ],
   "source": [
    "pokemon_name.map(pokemon_types)\n",
    "# map(): move through all of the Series values and tries to map them to some other data collection. dictionary,series, etc"
   ]
  },
  {
   "cell_type": "code",
   "execution_count": null,
   "id": "b66d1b08",
   "metadata": {},
   "outputs": [],
   "source": []
  }
 ],
 "metadata": {
  "kernelspec": {
   "display_name": "Python 3 (ipykernel)",
   "language": "python",
   "name": "python3"
  },
  "language_info": {
   "codemirror_mode": {
    "name": "ipython",
    "version": 3
   },
   "file_extension": ".py",
   "mimetype": "text/x-python",
   "name": "python",
   "nbconvert_exporter": "python",
   "pygments_lexer": "ipython3",
   "version": "3.10.9"
  }
 },
 "nbformat": 4,
 "nbformat_minor": 5
}
