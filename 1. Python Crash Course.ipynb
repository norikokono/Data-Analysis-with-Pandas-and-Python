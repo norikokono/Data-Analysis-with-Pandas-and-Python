{
 "cells": [
  {
   "cell_type": "markdown",
   "id": "fe55e19e",
   "metadata": {},
   "source": [
    "Panel Data Structors\n"
   ]
  },
  {
   "cell_type": "markdown",
   "id": "2714f5eb",
   "metadata": {},
   "source": [
    "Importing Libraries into Jupytor Notebook"
   ]
  },
  {
   "cell_type": "code",
   "execution_count": null,
   "id": "0e7b3089",
   "metadata": {},
   "outputs": [],
   "source": [
    "import pandas as pd\n",
    "import numpy as np"
   ]
  },
  {
   "cell_type": "code",
   "execution_count": 3,
   "id": "8e57ef3c",
   "metadata": {},
   "outputs": [
    {
     "data": {
      "text/plain": [
       "'1.5.3'"
      ]
     },
     "execution_count": 3,
     "metadata": {},
     "output_type": "execute_result"
    }
   ],
   "source": [
    "pd.__version__"
   ]
  },
  {
   "cell_type": "markdown",
   "id": "08946a56",
   "metadata": {},
   "source": [
    "Basic Data Types\n",
    "Object: as a data digital structor \n",
    "Python: everything in an object in Python degital structor, to store somekind of specific information"
   ]
  },
  {
   "cell_type": "code",
   "execution_count": 4,
   "id": "362a4934",
   "metadata": {},
   "outputs": [],
   "source": [
    "None"
   ]
  },
  {
   "cell_type": "markdown",
   "id": "c2594a2b",
   "metadata": {},
   "source": [
    "Operators"
   ]
  },
  {
   "cell_type": "code",
   "execution_count": null,
   "id": "30f723a2",
   "metadata": {},
   "outputs": [],
   "source": [
    "+ - "
   ]
  },
  {
   "cell_type": "code",
   "execution_count": 6,
   "id": "687629d9",
   "metadata": {},
   "outputs": [
    {
     "data": {
      "text/plain": [
       "'racecar'"
      ]
     },
     "execution_count": 6,
     "metadata": {},
     "output_type": "execute_result"
    }
   ],
   "source": [
    "# concatnation\n",
    "\"race\" + \"car\""
   ]
  },
  {
   "cell_type": "code",
   "execution_count": 7,
   "id": "8ba7f53d",
   "metadata": {},
   "outputs": [
    {
     "data": {
      "text/plain": [
       "'mahimahi'"
      ]
     },
     "execution_count": 7,
     "metadata": {},
     "output_type": "execute_result"
    }
   ],
   "source": [
    "\"mahi\" * 2"
   ]
  },
  {
   "cell_type": "markdown",
   "id": "087c07ab",
   "metadata": {},
   "source": [
    "PEMDAS\n",
    "Parenthrses Exponents Multiplication Division Addition Substraction"
   ]
  },
  {
   "cell_type": "code",
   "execution_count": 8,
   "id": "97574647",
   "metadata": {},
   "outputs": [
    {
     "data": {
      "text/plain": [
       "23"
      ]
     },
     "execution_count": 8,
     "metadata": {},
     "output_type": "execute_result"
    }
   ],
   "source": [
    "3 + 4 * 5"
   ]
  },
  {
   "cell_type": "code",
   "execution_count": 9,
   "id": "f6143416",
   "metadata": {},
   "outputs": [
    {
     "data": {
      "text/plain": [
       "3.75"
      ]
     },
     "execution_count": 9,
     "metadata": {},
     "output_type": "execute_result"
    }
   ],
   "source": [
    "15 / 4"
   ]
  },
  {
   "cell_type": "code",
   "execution_count": 10,
   "id": "35e96af8",
   "metadata": {},
   "outputs": [
    {
     "data": {
      "text/plain": [
       "3"
      ]
     },
     "execution_count": 10,
     "metadata": {},
     "output_type": "execute_result"
    }
   ],
   "source": [
    "10 // 3"
   ]
  },
  {
   "cell_type": "code",
   "execution_count": 12,
   "id": "2cf8e861",
   "metadata": {},
   "outputs": [
    {
     "data": {
      "text/plain": [
       "4.666666666666667"
      ]
     },
     "execution_count": 12,
     "metadata": {},
     "output_type": "execute_result"
    }
   ],
   "source": [
    "14 / 3"
   ]
  },
  {
   "cell_type": "code",
   "execution_count": 11,
   "id": "49480029",
   "metadata": {},
   "outputs": [
    {
     "data": {
      "text/plain": [
       "2"
      ]
     },
     "execution_count": 11,
     "metadata": {},
     "output_type": "execute_result"
    }
   ],
   "source": [
    "14 % 3"
   ]
  },
  {
   "cell_type": "code",
   "execution_count": 15,
   "id": "1787261c",
   "metadata": {},
   "outputs": [
    {
     "data": {
      "text/plain": [
       "True"
      ]
     },
     "execution_count": 15,
     "metadata": {},
     "output_type": "execute_result"
    }
   ],
   "source": [
    "# Equality operator\n",
    "\n",
    "1 == 1\n",
    "1 == 2\n",
    "5 == 5.0"
   ]
  },
  {
   "cell_type": "code",
   "execution_count": 16,
   "id": "6b90c378",
   "metadata": {},
   "outputs": [
    {
     "data": {
      "text/plain": [
       "False"
      ]
     },
     "execution_count": 16,
     "metadata": {},
     "output_type": "execute_result"
    }
   ],
   "source": [
    "\"Hello\" == \"hello\""
   ]
  },
  {
   "cell_type": "code",
   "execution_count": 17,
   "id": "4b9dac0e",
   "metadata": {},
   "outputs": [
    {
     "data": {
      "text/plain": [
       "True"
      ]
     },
     "execution_count": 17,
     "metadata": {},
     "output_type": "execute_result"
    }
   ],
   "source": [
    "True == True"
   ]
  },
  {
   "cell_type": "code",
   "execution_count": 18,
   "id": "3c890dbb",
   "metadata": {},
   "outputs": [
    {
     "data": {
      "text/plain": [
       "True"
      ]
     },
     "execution_count": 18,
     "metadata": {},
     "output_type": "execute_result"
    }
   ],
   "source": [
    "False == False"
   ]
  },
  {
   "cell_type": "code",
   "execution_count": 19,
   "id": "1fd82e57",
   "metadata": {},
   "outputs": [
    {
     "data": {
      "text/plain": [
       "False"
      ]
     },
     "execution_count": 19,
     "metadata": {},
     "output_type": "execute_result"
    }
   ],
   "source": [
    "True == False"
   ]
  },
  {
   "cell_type": "markdown",
   "id": "e779555b",
   "metadata": {},
   "source": [
    "Inequality operator --> !"
   ]
  },
  {
   "cell_type": "code",
   "execution_count": 20,
   "id": "5b0b9dd4",
   "metadata": {},
   "outputs": [
    {
     "data": {
      "text/plain": [
       "False"
      ]
     },
     "execution_count": 20,
     "metadata": {},
     "output_type": "execute_result"
    }
   ],
   "source": [
    "5 != 5"
   ]
  },
  {
   "cell_type": "code",
   "execution_count": 21,
   "id": "4c533932",
   "metadata": {},
   "outputs": [
    {
     "data": {
      "text/plain": [
       "True"
      ]
     },
     "execution_count": 21,
     "metadata": {},
     "output_type": "execute_result"
    }
   ],
   "source": [
    "5 < 8"
   ]
  },
  {
   "cell_type": "markdown",
   "id": "e52bb4bb",
   "metadata": {},
   "source": [
    "Variables"
   ]
  },
  {
   "cell_type": "code",
   "execution_count": 22,
   "id": "6d8813fc",
   "metadata": {},
   "outputs": [],
   "source": [
    "age = 29"
   ]
  },
  {
   "cell_type": "code",
   "execution_count": 23,
   "id": "abee9351",
   "metadata": {},
   "outputs": [
    {
     "data": {
      "text/plain": [
       "29"
      ]
     },
     "execution_count": 23,
     "metadata": {},
     "output_type": "execute_result"
    }
   ],
   "source": [
    "age"
   ]
  },
  {
   "cell_type": "code",
   "execution_count": 24,
   "id": "601abe37",
   "metadata": {},
   "outputs": [
    {
     "data": {
      "text/plain": [
       "34"
      ]
     },
     "execution_count": 24,
     "metadata": {},
     "output_type": "execute_result"
    }
   ],
   "source": [
    "age + 5"
   ]
  },
  {
   "cell_type": "code",
   "execution_count": 27,
   "id": "7c18126e",
   "metadata": {},
   "outputs": [],
   "source": [
    "price = 19.99\n",
    "first_name = \"Joe\" #snake_case\n",
    "is_handsome = True"
   ]
  },
  {
   "cell_type": "code",
   "execution_count": 28,
   "id": "17675ae2",
   "metadata": {},
   "outputs": [
    {
     "data": {
      "text/plain": [
       "True"
      ]
     },
     "execution_count": 28,
     "metadata": {},
     "output_type": "execute_result"
    }
   ],
   "source": [
    "is_handsome"
   ]
  },
  {
   "cell_type": "code",
   "execution_count": 30,
   "id": "71bc8eb0",
   "metadata": {},
   "outputs": [
    {
     "data": {
      "text/plain": [
       "'Joe is awsome'"
      ]
     },
     "execution_count": 30,
     "metadata": {},
     "output_type": "execute_result"
    }
   ],
   "source": [
    "first_name + \" is awsome\""
   ]
  },
  {
   "cell_type": "code",
   "execution_count": 33,
   "id": "6a82f5ca",
   "metadata": {},
   "outputs": [],
   "source": [
    "age = age + 5"
   ]
  },
  {
   "cell_type": "code",
   "execution_count": 34,
   "id": "e878ec8c",
   "metadata": {},
   "outputs": [
    {
     "data": {
      "text/plain": [
       "44"
      ]
     },
     "execution_count": 34,
     "metadata": {},
     "output_type": "execute_result"
    }
   ],
   "source": [
    "age"
   ]
  },
  {
   "cell_type": "code",
   "execution_count": 35,
   "id": "468ebb33",
   "metadata": {},
   "outputs": [],
   "source": [
    "profession = \"Python Developer\""
   ]
  },
  {
   "cell_type": "code",
   "execution_count": 36,
   "id": "88f1e786",
   "metadata": {},
   "outputs": [
    {
     "data": {
      "text/plain": [
       "'Python Developer'"
      ]
     },
     "execution_count": 36,
     "metadata": {},
     "output_type": "execute_result"
    }
   ],
   "source": [
    "profession"
   ]
  },
  {
   "cell_type": "code",
   "execution_count": 37,
   "id": "80d0822a",
   "metadata": {},
   "outputs": [],
   "source": [
    "profession = \"Software Engineer\""
   ]
  },
  {
   "cell_type": "code",
   "execution_count": 38,
   "id": "1957c52c",
   "metadata": {},
   "outputs": [
    {
     "data": {
      "text/plain": [
       "'Software Engineer'"
      ]
     },
     "execution_count": 38,
     "metadata": {},
     "output_type": "execute_result"
    }
   ],
   "source": [
    "profession"
   ]
  },
  {
   "cell_type": "markdown",
   "id": "ad79d134",
   "metadata": {},
   "source": [
    "Bulit-In Functions"
   ]
  },
  {
   "cell_type": "code",
   "execution_count": 39,
   "id": "fca8bee9",
   "metadata": {},
   "outputs": [
    {
     "data": {
      "text/plain": [
       "'How many characters do we have here?'"
      ]
     },
     "execution_count": 39,
     "metadata": {},
     "output_type": "execute_result"
    }
   ],
   "source": [
    "\"How many characters do we have here?\""
   ]
  },
  {
   "cell_type": "code",
   "execution_count": 41,
   "id": "caffb39d",
   "metadata": {},
   "outputs": [
    {
     "data": {
      "text/plain": [
       "36"
      ]
     },
     "execution_count": 41,
     "metadata": {},
     "output_type": "execute_result"
    }
   ],
   "source": [
    "len(\"How many characters do we have here?\") #(argument) invoking excecuting"
   ]
  },
  {
   "cell_type": "code",
   "execution_count": 43,
   "id": "6fe9732d",
   "metadata": {},
   "outputs": [
    {
     "data": {
      "text/plain": [
       "'3.14'"
      ]
     },
     "execution_count": 43,
     "metadata": {},
     "output_type": "execute_result"
    }
   ],
   "source": [
    "#string Function convert to string format convert return spit back out\n",
    "str(3.14) #float to string <- return value"
   ]
  },
  {
   "cell_type": "code",
   "execution_count": 44,
   "id": "a4d556db",
   "metadata": {},
   "outputs": [
    {
     "data": {
      "text/plain": [
       "10"
      ]
     },
     "execution_count": 44,
     "metadata": {},
     "output_type": "execute_result"
    }
   ],
   "source": [
    "#integer\n",
    "int(\"10\") "
   ]
  },
  {
   "cell_type": "code",
   "execution_count": 45,
   "id": "0d76ca93",
   "metadata": {},
   "outputs": [
    {
     "data": {
      "text/plain": [
       "9.384"
      ]
     },
     "execution_count": 45,
     "metadata": {},
     "output_type": "execute_result"
    }
   ],
   "source": [
    "#float\n",
    "float(\"9.384\")"
   ]
  },
  {
   "cell_type": "code",
   "execution_count": 46,
   "id": "d0a07928",
   "metadata": {},
   "outputs": [
    {
     "data": {
      "text/plain": [
       "int"
      ]
     },
     "execution_count": 46,
     "metadata": {},
     "output_type": "execute_result"
    }
   ],
   "source": [
    "#Type function\n",
    "type(5)"
   ]
  },
  {
   "cell_type": "code",
   "execution_count": 47,
   "id": "d7103756",
   "metadata": {},
   "outputs": [
    {
     "data": {
      "text/plain": [
       "float"
      ]
     },
     "execution_count": 47,
     "metadata": {},
     "output_type": "execute_result"
    }
   ],
   "source": [
    "type(3.14)"
   ]
  },
  {
   "cell_type": "code",
   "execution_count": 48,
   "id": "e27ec816",
   "metadata": {},
   "outputs": [
    {
     "data": {
      "text/plain": [
       "str"
      ]
     },
     "execution_count": 48,
     "metadata": {},
     "output_type": "execute_result"
    }
   ],
   "source": [
    "type(\"PlayStation\")"
   ]
  },
  {
   "cell_type": "code",
   "execution_count": 49,
   "id": "52312901",
   "metadata": {},
   "outputs": [
    {
     "data": {
      "text/plain": [
       "bool"
      ]
     },
     "execution_count": 49,
     "metadata": {},
     "output_type": "execute_result"
    }
   ],
   "source": [
    "type(True)"
   ]
  },
  {
   "cell_type": "code",
   "execution_count": 51,
   "id": "da88803a",
   "metadata": {},
   "outputs": [
    {
     "data": {
      "text/plain": [
       "True"
      ]
     },
     "execution_count": 51,
     "metadata": {},
     "output_type": "execute_result"
    }
   ],
   "source": [
    "type(10) == type(15)"
   ]
  },
  {
   "cell_type": "code",
   "execution_count": 52,
   "id": "24cc2ee8",
   "metadata": {},
   "outputs": [
    {
     "data": {
      "text/plain": [
       "False"
      ]
     },
     "execution_count": 52,
     "metadata": {},
     "output_type": "execute_result"
    }
   ],
   "source": [
    "type(10) == type(\"10\")"
   ]
  },
  {
   "cell_type": "markdown",
   "id": "55de8a3c",
   "metadata": {},
   "source": [
    "Custom Functions"
   ]
  },
  {
   "cell_type": "code",
   "execution_count": 57,
   "id": "c5edf2d9",
   "metadata": {},
   "outputs": [],
   "source": [
    "# Declare a function that accepts a temerature in Celsius and ruturns it in Fahrenheit\n",
    "# (parameter)\n",
    "\n",
    "def convert_to_fahrenheit(celsius_temp):\n",
    "    # body of function 4 indented\n",
    "    # nested \n",
    "    # varaiable of body of function: only to exit as long as the function is running.\n",
    "    product = celsius_temp * 1.8\n",
    "    return product + 32 #return value of this function"
   ]
  },
  {
   "cell_type": "code",
   "execution_count": 58,
   "id": "6718e9f5",
   "metadata": {},
   "outputs": [
    {
     "data": {
      "text/plain": [
       "32.0"
      ]
     },
     "execution_count": 58,
     "metadata": {},
     "output_type": "execute_result"
    }
   ],
   "source": [
    "convert_to_fahrenheit(0)"
   ]
  },
  {
   "cell_type": "code",
   "execution_count": 59,
   "id": "7ff88c8d",
   "metadata": {},
   "outputs": [
    {
     "data": {
      "text/plain": [
       "57.2"
      ]
     },
     "execution_count": 59,
     "metadata": {},
     "output_type": "execute_result"
    }
   ],
   "source": [
    "convert_to_fahrenheit(14)"
   ]
  },
  {
   "cell_type": "code",
   "execution_count": 62,
   "id": "dfc08c9d",
   "metadata": {},
   "outputs": [
    {
     "data": {
      "text/plain": [
       "75.2"
      ]
     },
     "execution_count": 62,
     "metadata": {},
     "output_type": "execute_result"
    }
   ],
   "source": [
    "convert_to_fahrenheit(celsius_temp = 24)"
   ]
  },
  {
   "cell_type": "markdown",
   "id": "a350bfac",
   "metadata": {},
   "source": [
    "conv + tab out complete"
   ]
  },
  {
   "cell_type": "code",
   "execution_count": 63,
   "id": "b097f363",
   "metadata": {},
   "outputs": [
    {
     "data": {
      "text/plain": [
       "212.0"
      ]
     },
     "execution_count": 63,
     "metadata": {},
     "output_type": "execute_result"
    }
   ],
   "source": [
    "convert_to_fahrenheit(100)"
   ]
  },
  {
   "cell_type": "code",
   "execution_count": 68,
   "id": "b5250c0f",
   "metadata": {},
   "outputs": [],
   "source": [
    "def convert_to_fahrenheit(celsius_temp = 0):\n",
    "    product = celsius_temp * 1.8\n",
    "    return product + 32"
   ]
  },
  {
   "cell_type": "code",
   "execution_count": 69,
   "id": "45f5733f",
   "metadata": {},
   "outputs": [
    {
     "data": {
      "text/plain": [
       "392.0"
      ]
     },
     "execution_count": 69,
     "metadata": {},
     "output_type": "execute_result"
    }
   ],
   "source": [
    "convert_to_fahrenheit(200)"
   ]
  },
  {
   "cell_type": "code",
   "execution_count": 70,
   "id": "0e9addf1",
   "metadata": {},
   "outputs": [
    {
     "data": {
      "text/plain": [
       "32.0"
      ]
     },
     "execution_count": 70,
     "metadata": {},
     "output_type": "execute_result"
    }
   ],
   "source": [
    "convert_to_fahrenheit()"
   ]
  },
  {
   "cell_type": "markdown",
   "id": "4039b68e",
   "metadata": {},
   "source": [
    "String Methods"
   ]
  },
  {
   "cell_type": "code",
   "execution_count": 1,
   "id": "6e2cbf73",
   "metadata": {},
   "outputs": [],
   "source": [
    "profession = \"Developer\""
   ]
  },
  {
   "cell_type": "code",
   "execution_count": 2,
   "id": "e79e25d7",
   "metadata": {},
   "outputs": [
    {
     "data": {
      "text/plain": [
       "'DEVELOPER'"
      ]
     },
     "execution_count": 2,
     "metadata": {},
     "output_type": "execute_result"
    }
   ],
   "source": [
    "# . + tab \n",
    "# string methods are available on any string object.\n",
    "# invoking method return new string object\n",
    "# Methods: function belong to object\n",
    "\n",
    "profession.upper()"
   ]
  },
  {
   "cell_type": "code",
   "execution_count": 3,
   "id": "e49ff2a0",
   "metadata": {},
   "outputs": [
    {
     "data": {
      "text/plain": [
       "'DEVELOPER'"
      ]
     },
     "execution_count": 3,
     "metadata": {},
     "output_type": "execute_result"
    }
   ],
   "source": [
    "\"Developer\".upper()"
   ]
  },
  {
   "cell_type": "code",
   "execution_count": 4,
   "id": "12a7c6c5",
   "metadata": {},
   "outputs": [
    {
     "data": {
      "text/plain": [
       "'developer'"
      ]
     },
     "execution_count": 4,
     "metadata": {},
     "output_type": "execute_result"
    }
   ],
   "source": [
    "profession.lower()"
   ]
  },
  {
   "cell_type": "code",
   "execution_count": 5,
   "id": "575dd65d",
   "metadata": {},
   "outputs": [
    {
     "data": {
      "text/plain": [
       "'dEVELOPER'"
      ]
     },
     "execution_count": 5,
     "metadata": {},
     "output_type": "execute_result"
    }
   ],
   "source": [
    "profession.swapcase()"
   ]
  },
  {
   "cell_type": "code",
   "execution_count": 6,
   "id": "e839bfba",
   "metadata": {},
   "outputs": [],
   "source": [
    "# immutable - incapable to change\n",
    "# mutable - capable to change\n",
    "\n",
    "# string - immutable "
   ]
  },
  {
   "cell_type": "code",
   "execution_count": 8,
   "id": "0ed21cf2",
   "metadata": {},
   "outputs": [
    {
     "data": {
      "text/plain": [
       "'Developer'"
      ]
     },
     "execution_count": 8,
     "metadata": {},
     "output_type": "execute_result"
    }
   ],
   "source": [
    "# Methods make brand new string object, but it is not mutated.\n",
    "profession"
   ]
  },
  {
   "cell_type": "code",
   "execution_count": 9,
   "id": "3e38df50",
   "metadata": {},
   "outputs": [
    {
     "data": {
      "text/plain": [
       "'Once Upon A Time'"
      ]
     },
     "execution_count": 9,
     "metadata": {},
     "output_type": "execute_result"
    }
   ],
   "source": [
    "\"once upon a time\".title()\n",
    "# title() is good for Capitalize Name"
   ]
  },
  {
   "cell_type": "code",
   "execution_count": 11,
   "id": "501b3b33",
   "metadata": {},
   "outputs": [
    {
     "data": {
      "text/plain": [
       "'Once upon a time'"
      ]
     },
     "execution_count": 11,
     "metadata": {},
     "output_type": "execute_result"
    }
   ],
   "source": [
    "\"once upon a time\".capitalize()"
   ]
  },
  {
   "cell_type": "code",
   "execution_count": 12,
   "id": "149ab5f2",
   "metadata": {},
   "outputs": [],
   "source": [
    "profession = \"    Developer  \""
   ]
  },
  {
   "cell_type": "code",
   "execution_count": 13,
   "id": "cc454184",
   "metadata": {},
   "outputs": [
    {
     "data": {
      "text/plain": [
       "'Developer  '"
      ]
     },
     "execution_count": 13,
     "metadata": {},
     "output_type": "execute_result"
    }
   ],
   "source": [
    "profession.lstrip()"
   ]
  },
  {
   "cell_type": "code",
   "execution_count": 14,
   "id": "db792e02",
   "metadata": {},
   "outputs": [
    {
     "data": {
      "text/plain": [
       "'    Developer'"
      ]
     },
     "execution_count": 14,
     "metadata": {},
     "output_type": "execute_result"
    }
   ],
   "source": [
    "profession.rstrip()"
   ]
  },
  {
   "cell_type": "code",
   "execution_count": 15,
   "id": "9b3c40ae",
   "metadata": {},
   "outputs": [
    {
     "data": {
      "text/plain": [
       "'Developer'"
      ]
     },
     "execution_count": 15,
     "metadata": {},
     "output_type": "execute_result"
    }
   ],
   "source": [
    "profession.strip()"
   ]
  },
  {
   "cell_type": "code",
   "execution_count": 17,
   "id": "c7f2c325",
   "metadata": {},
   "outputs": [
    {
     "data": {
      "text/plain": [
       "'    D*v*lop*r  '"
      ]
     },
     "execution_count": 17,
     "metadata": {},
     "output_type": "execute_result"
    }
   ],
   "source": [
    "# Method accept argument replace() two arguments\n",
    " \n",
    "profession.replace(\"e\", \"*\")"
   ]
  },
  {
   "cell_type": "code",
   "execution_count": 18,
   "id": "6cae6f82",
   "metadata": {},
   "outputs": [
    {
     "data": {
      "text/plain": [
       "'D#v#lop#r'"
      ]
     },
     "execution_count": 18,
     "metadata": {},
     "output_type": "execute_result"
    }
   ],
   "source": [
    "# method chaining\n",
    "profession.strip().replace(\"e\", \"#\")"
   ]
  },
  {
   "cell_type": "code",
   "execution_count": 20,
   "id": "24532d1c",
   "metadata": {},
   "outputs": [],
   "source": [
    "animal = \"rhinoceros\""
   ]
  },
  {
   "cell_type": "code",
   "execution_count": 22,
   "id": "b8d44a7f",
   "metadata": {},
   "outputs": [
    {
     "data": {
      "text/plain": [
       "True"
      ]
     },
     "execution_count": 22,
     "metadata": {},
     "output_type": "execute_result"
    }
   ],
   "source": [
    "animal.startswith(\"rhino\")"
   ]
  },
  {
   "cell_type": "code",
   "execution_count": 27,
   "id": "6a97f2d7",
   "metadata": {},
   "outputs": [
    {
     "data": {
      "text/plain": [
       "False"
      ]
     },
     "execution_count": 27,
     "metadata": {},
     "output_type": "execute_result"
    }
   ],
   "source": [
    "animal.startswith(\"dfgfg\")"
   ]
  },
  {
   "cell_type": "code",
   "execution_count": 23,
   "id": "f1a20134",
   "metadata": {},
   "outputs": [
    {
     "data": {
      "text/plain": [
       "False"
      ]
     },
     "execution_count": 23,
     "metadata": {},
     "output_type": "execute_result"
    }
   ],
   "source": [
    "animal.startswith(\"R\")"
   ]
  },
  {
   "cell_type": "code",
   "execution_count": 24,
   "id": "50c13750",
   "metadata": {},
   "outputs": [
    {
     "data": {
      "text/plain": [
       "True"
      ]
     },
     "execution_count": 24,
     "metadata": {},
     "output_type": "execute_result"
    }
   ],
   "source": [
    "animal.endswith(\"ros\")"
   ]
  },
  {
   "cell_type": "code",
   "execution_count": 25,
   "id": "5d2601bb",
   "metadata": {},
   "outputs": [
    {
     "data": {
      "text/plain": [
       "True"
      ]
     },
     "execution_count": 25,
     "metadata": {},
     "output_type": "execute_result"
    }
   ],
   "source": [
    "animal.endswith(\"s\")"
   ]
  },
  {
   "cell_type": "code",
   "execution_count": 28,
   "id": "0fd142e3",
   "metadata": {},
   "outputs": [
    {
     "data": {
      "text/plain": [
       "False"
      ]
     },
     "execution_count": 28,
     "metadata": {},
     "output_type": "execute_result"
    }
   ],
   "source": [
    "animal.endswith(\"zzz\") #ZZZ substring"
   ]
  },
  {
   "cell_type": "code",
   "execution_count": 29,
   "id": "bf4ff50f",
   "metadata": {},
   "outputs": [
    {
     "data": {
      "text/plain": [
       "10"
      ]
     },
     "execution_count": 29,
     "metadata": {},
     "output_type": "execute_result"
    }
   ],
   "source": [
    "5 + 5   # +: operater"
   ]
  },
  {
   "cell_type": "code",
   "execution_count": 30,
   "id": "8bc77723",
   "metadata": {},
   "outputs": [
    {
     "data": {
      "text/plain": [
       "True"
      ]
     },
     "execution_count": 30,
     "metadata": {},
     "output_type": "execute_result"
    }
   ],
   "source": [
    "#  in: a symble acts upon an object\n",
    "\"ino\" in animal"
   ]
  },
  {
   "cell_type": "code",
   "execution_count": 31,
   "id": "0e93072f",
   "metadata": {},
   "outputs": [
    {
     "data": {
      "text/plain": [
       "True"
      ]
     },
     "execution_count": 31,
     "metadata": {},
     "output_type": "execute_result"
    }
   ],
   "source": [
    "\"r\" in animal"
   ]
  },
  {
   "cell_type": "code",
   "execution_count": 33,
   "id": "50252382",
   "metadata": {},
   "outputs": [
    {
     "data": {
      "text/plain": [
       "True"
      ]
     },
     "execution_count": 33,
     "metadata": {},
     "output_type": "execute_result"
    }
   ],
   "source": [
    "\"ceros\" in animal"
   ]
  },
  {
   "cell_type": "code",
   "execution_count": 34,
   "id": "7904c3de",
   "metadata": {},
   "outputs": [
    {
     "data": {
      "text/plain": [
       "False"
      ]
     },
     "execution_count": 34,
     "metadata": {},
     "output_type": "execute_result"
    }
   ],
   "source": [
    "\"z\" in animal"
   ]
  },
  {
   "cell_type": "code",
   "execution_count": 35,
   "id": "b47635c2",
   "metadata": {},
   "outputs": [
    {
     "data": {
      "text/plain": [
       "True"
      ]
     },
     "execution_count": 35,
     "metadata": {},
     "output_type": "execute_result"
    }
   ],
   "source": [
    "\"z\" not in animal"
   ]
  },
  {
   "cell_type": "code",
   "execution_count": 36,
   "id": "b318127c",
   "metadata": {},
   "outputs": [
    {
     "data": {
      "text/plain": [
       "False"
      ]
     },
     "execution_count": 36,
     "metadata": {},
     "output_type": "execute_result"
    }
   ],
   "source": [
    "\"rhino\" not in animal"
   ]
  },
  {
   "cell_type": "markdown",
   "id": "80adbaa5",
   "metadata": {},
   "source": [
    "Lists"
   ]
  },
  {
   "cell_type": "code",
   "execution_count": 37,
   "id": "d688e0f7",
   "metadata": {},
   "outputs": [],
   "source": [
    "# Mutable data structure that holds an ordered collection of elements"
   ]
  },
  {
   "cell_type": "code",
   "execution_count": 38,
   "id": "e56bcb0c",
   "metadata": {},
   "outputs": [
    {
     "data": {
      "text/plain": [
       "[1, 2, 3, 4]"
      ]
     },
     "execution_count": 38,
     "metadata": {},
     "output_type": "execute_result"
    }
   ],
   "source": [
    "# a box store four object in order   in order!\n",
    "[1, 2, 3, 4]"
   ]
  },
  {
   "cell_type": "code",
   "execution_count": 39,
   "id": "ce24f79e",
   "metadata": {},
   "outputs": [
    {
     "data": {
      "text/plain": [
       "[True, False, False, True]"
      ]
     },
     "execution_count": 39,
     "metadata": {},
     "output_type": "execute_result"
    }
   ],
   "source": [
    "[True, False, False, True]"
   ]
  },
  {
   "cell_type": "code",
   "execution_count": 42,
   "id": "c7cce0f5",
   "metadata": {},
   "outputs": [],
   "source": [
    "party_attendees = [\"Michael\", \"Freddy\", \"Jason\"]"
   ]
  },
  {
   "cell_type": "code",
   "execution_count": 43,
   "id": "e9725636",
   "metadata": {},
   "outputs": [
    {
     "data": {
      "text/plain": [
       "['Michael', 'Freddy', 'Jason']"
      ]
     },
     "execution_count": 43,
     "metadata": {},
     "output_type": "execute_result"
    }
   ],
   "source": [
    "party_attendees"
   ]
  },
  {
   "cell_type": "code",
   "execution_count": 44,
   "id": "2097b707",
   "metadata": {},
   "outputs": [
    {
     "data": {
      "text/plain": [
       "[]"
      ]
     },
     "execution_count": 44,
     "metadata": {},
     "output_type": "execute_result"
    }
   ],
   "source": [
    "[]"
   ]
  },
  {
   "cell_type": "code",
   "execution_count": 46,
   "id": "1f787421",
   "metadata": {},
   "outputs": [
    {
     "data": {
      "text/plain": [
       "3"
      ]
     },
     "execution_count": 46,
     "metadata": {},
     "output_type": "execute_result"
    }
   ],
   "source": [
    "len(party_attendees)"
   ]
  },
  {
   "cell_type": "code",
   "execution_count": 47,
   "id": "d83248d9",
   "metadata": {},
   "outputs": [
    {
     "data": {
      "text/plain": [
       "list"
      ]
     },
     "execution_count": 47,
     "metadata": {},
     "output_type": "execute_result"
    }
   ],
   "source": [
    "type(party_attendees)"
   ]
  },
  {
   "cell_type": "code",
   "execution_count": 48,
   "id": "6a0e5d98",
   "metadata": {},
   "outputs": [],
   "source": [
    "presidents = [\"Washinton\", \"Jefferson\"]"
   ]
  },
  {
   "cell_type": "code",
   "execution_count": 56,
   "id": "40c74c13",
   "metadata": {},
   "outputs": [],
   "source": [
    "# append() method\n",
    "presidents.append(\"Madison\")  # mutated"
   ]
  },
  {
   "cell_type": "code",
   "execution_count": 57,
   "id": "a6aba8d4",
   "metadata": {},
   "outputs": [
    {
     "data": {
      "text/plain": [
       "['Washinton', 'Jefferson', 'Medison', 'Madison', 'Madison']"
      ]
     },
     "execution_count": 57,
     "metadata": {},
     "output_type": "execute_result"
    }
   ],
   "source": [
    "presidents"
   ]
  },
  {
   "cell_type": "code",
   "execution_count": 58,
   "id": "43639811",
   "metadata": {},
   "outputs": [
    {
     "data": {
      "text/plain": [
       "['Salted', 'Unsalted', 'Caramel']"
      ]
     },
     "execution_count": 58,
     "metadata": {},
     "output_type": "execute_result"
    }
   ],
   "source": [
    "popcorn = [\"Salted\", \"Unsalted\", \"Caramel\"]\n",
    "popcorn"
   ]
  },
  {
   "cell_type": "code",
   "execution_count": 60,
   "id": "93c64c8d",
   "metadata": {},
   "outputs": [
    {
     "data": {
      "text/plain": [
       "'Caramel'"
      ]
     },
     "execution_count": 60,
     "metadata": {},
     "output_type": "execute_result"
    }
   ],
   "source": [
    "popcorn.pop()   "
   ]
  },
  {
   "cell_type": "code",
   "execution_count": 61,
   "id": "429f56bc",
   "metadata": {},
   "outputs": [
    {
     "data": {
      "text/plain": [
       "['Salted', 'Unsalted']"
      ]
     },
     "execution_count": 61,
     "metadata": {},
     "output_type": "execute_result"
    }
   ],
   "source": [
    "popcorn #mutated"
   ]
  },
  {
   "cell_type": "code",
   "execution_count": 62,
   "id": "1417938b",
   "metadata": {},
   "outputs": [],
   "source": [
    "popcorn.remove(\"Salted\")"
   ]
  },
  {
   "cell_type": "code",
   "execution_count": 63,
   "id": "841fd01c",
   "metadata": {},
   "outputs": [
    {
     "data": {
      "text/plain": [
       "['Unsalted']"
      ]
     },
     "execution_count": 63,
     "metadata": {},
     "output_type": "execute_result"
    }
   ],
   "source": [
    "popcorn #mutated"
   ]
  },
  {
   "cell_type": "code",
   "execution_count": 65,
   "id": "50eb5c05",
   "metadata": {},
   "outputs": [
    {
     "data": {
      "text/plain": [
       "True"
      ]
     },
     "execution_count": 65,
     "metadata": {},
     "output_type": "execute_result"
    }
   ],
   "source": [
    "\"cat\" in 'catapillar'"
   ]
  },
  {
   "cell_type": "code",
   "execution_count": 66,
   "id": "f80e3dbe",
   "metadata": {},
   "outputs": [],
   "source": [
    "planets = [\"Mercury\", \"Venus\", \"Earth\", \"Mars\"]"
   ]
  },
  {
   "cell_type": "code",
   "execution_count": 67,
   "id": "ac7f14ee",
   "metadata": {},
   "outputs": [
    {
     "data": {
      "text/plain": [
       "True"
      ]
     },
     "execution_count": 67,
     "metadata": {},
     "output_type": "execute_result"
    }
   ],
   "source": [
    "\"Earth\" in planets"
   ]
  },
  {
   "cell_type": "code",
   "execution_count": 68,
   "id": "439787f0",
   "metadata": {},
   "outputs": [
    {
     "data": {
      "text/plain": [
       "True"
      ]
     },
     "execution_count": 68,
     "metadata": {},
     "output_type": "execute_result"
    }
   ],
   "source": [
    "\"Pluto\" not in planets"
   ]
  },
  {
   "cell_type": "code",
   "execution_count": 69,
   "id": "be047752",
   "metadata": {},
   "outputs": [
    {
     "data": {
      "text/plain": [
       "False"
      ]
     },
     "execution_count": 69,
     "metadata": {},
     "output_type": "execute_result"
    }
   ],
   "source": [
    "'Mars' not in planets"
   ]
  },
  {
   "cell_type": "markdown",
   "id": "aca59817",
   "metadata": {},
   "source": [
    "Index Positions and Slicing"
   ]
  },
  {
   "cell_type": "code",
   "execution_count": 70,
   "id": "6c8b2ace",
   "metadata": {},
   "outputs": [],
   "source": [
    "spiderman = \"Spiderman\""
   ]
  },
  {
   "cell_type": "code",
   "execution_count": 71,
   "id": "7a9b2138",
   "metadata": {},
   "outputs": [
    {
     "data": {
      "text/plain": [
       "9"
      ]
     },
     "execution_count": 71,
     "metadata": {},
     "output_type": "execute_result"
    }
   ],
   "source": [
    "len(spiderman)"
   ]
  },
  {
   "cell_type": "code",
   "execution_count": 72,
   "id": "af3da556",
   "metadata": {},
   "outputs": [
    {
     "data": {
      "text/plain": [
       "'S'"
      ]
     },
     "execution_count": 72,
     "metadata": {},
     "output_type": "execute_result"
    }
   ],
   "source": [
    "spiderman[0]"
   ]
  },
  {
   "cell_type": "code",
   "execution_count": 74,
   "id": "7388e96f",
   "metadata": {},
   "outputs": [
    {
     "data": {
      "text/plain": [
       "'n'"
      ]
     },
     "execution_count": 74,
     "metadata": {},
     "output_type": "execute_result"
    }
   ],
   "source": [
    "spiderman[8]"
   ]
  },
  {
   "cell_type": "code",
   "execution_count": 75,
   "id": "b1aa5672",
   "metadata": {},
   "outputs": [
    {
     "data": {
      "text/plain": [
       "'n'"
      ]
     },
     "execution_count": 75,
     "metadata": {},
     "output_type": "execute_result"
    }
   ],
   "source": [
    "spiderman[-1]"
   ]
  },
  {
   "cell_type": "code",
   "execution_count": 77,
   "id": "3ddeccd9",
   "metadata": {},
   "outputs": [
    {
     "data": {
      "text/plain": [
       "'S'"
      ]
     },
     "execution_count": 77,
     "metadata": {},
     "output_type": "execute_result"
    }
   ],
   "source": [
    "spiderman[-9]"
   ]
  },
  {
   "cell_type": "code",
   "execution_count": 83,
   "id": "3c7b90fa",
   "metadata": {},
   "outputs": [],
   "source": [
    "superheroes = [\"Batman\", \"Superman\", \"Wolverine\", \"Ironman\", \"Arnold Schwarzenegger\"]"
   ]
  },
  {
   "cell_type": "code",
   "execution_count": 84,
   "id": "9eb984c7",
   "metadata": {},
   "outputs": [
    {
     "data": {
      "text/plain": [
       "5"
      ]
     },
     "execution_count": 84,
     "metadata": {},
     "output_type": "execute_result"
    }
   ],
   "source": [
    "len(superheroes)"
   ]
  },
  {
   "cell_type": "code",
   "execution_count": 85,
   "id": "7a55999c",
   "metadata": {},
   "outputs": [
    {
     "data": {
      "text/plain": [
       "'Arnold Schwarzenegger'"
      ]
     },
     "execution_count": 85,
     "metadata": {},
     "output_type": "execute_result"
    }
   ],
   "source": [
    "superheroes[4]"
   ]
  },
  {
   "cell_type": "code",
   "execution_count": 86,
   "id": "6cc39ce2",
   "metadata": {},
   "outputs": [
    {
     "data": {
      "text/plain": [
       "'Arnold Schwarzenegger'"
      ]
     },
     "execution_count": 86,
     "metadata": {},
     "output_type": "execute_result"
    }
   ],
   "source": [
    "superheros[-1]"
   ]
  },
  {
   "cell_type": "code",
   "execution_count": 87,
   "id": "b001d173",
   "metadata": {},
   "outputs": [
    {
     "data": {
      "text/plain": [
       "['Superman', 'Wolverine']"
      ]
     },
     "execution_count": 87,
     "metadata": {},
     "output_type": "execute_result"
    }
   ],
   "source": [
    "superheroes[1:3]   #1 to up to 3, but index 3 is not included. brand new list"
   ]
  },
  {
   "cell_type": "code",
   "execution_count": 88,
   "id": "e15a49a6",
   "metadata": {},
   "outputs": [
    {
     "data": {
      "text/plain": [
       "['Wolverine', 'Ironman']"
      ]
     },
     "execution_count": 88,
     "metadata": {},
     "output_type": "execute_result"
    }
   ],
   "source": [
    "superheroes[2:4]"
   ]
  },
  {
   "cell_type": "code",
   "execution_count": 90,
   "id": "16c5a09f",
   "metadata": {},
   "outputs": [
    {
     "data": {
      "text/plain": [
       "'pi'"
      ]
     },
     "execution_count": 90,
     "metadata": {},
     "output_type": "execute_result"
    }
   ],
   "source": [
    "spiderman[1:3]"
   ]
  },
  {
   "cell_type": "code",
   "execution_count": 91,
   "id": "87043de9",
   "metadata": {},
   "outputs": [
    {
     "data": {
      "text/plain": [
       "'pide'"
      ]
     },
     "execution_count": 91,
     "metadata": {},
     "output_type": "execute_result"
    }
   ],
   "source": [
    "spiderman[1:5]"
   ]
  },
  {
   "cell_type": "code",
   "execution_count": 92,
   "id": "5d7b0b48",
   "metadata": {},
   "outputs": [
    {
     "data": {
      "text/plain": [
       "['Batman', 'Superman']"
      ]
     },
     "execution_count": 92,
     "metadata": {},
     "output_type": "execute_result"
    }
   ],
   "source": [
    "superheroes[0:2]"
   ]
  },
  {
   "cell_type": "code",
   "execution_count": 93,
   "id": "d3a9b43e",
   "metadata": {},
   "outputs": [
    {
     "data": {
      "text/plain": [
       "['Batman', 'Superman']"
      ]
     },
     "execution_count": 93,
     "metadata": {},
     "output_type": "execute_result"
    }
   ],
   "source": [
    "superheroes[:2]"
   ]
  },
  {
   "cell_type": "code",
   "execution_count": 94,
   "id": "6b8b32e0",
   "metadata": {},
   "outputs": [
    {
     "data": {
      "text/plain": [
       "'Spider'"
      ]
     },
     "execution_count": 94,
     "metadata": {},
     "output_type": "execute_result"
    }
   ],
   "source": [
    "spiderman[0:6]"
   ]
  },
  {
   "cell_type": "code",
   "execution_count": 95,
   "id": "0bef5e0e",
   "metadata": {},
   "outputs": [
    {
     "data": {
      "text/plain": [
       "'Spider'"
      ]
     },
     "execution_count": 95,
     "metadata": {},
     "output_type": "execute_result"
    }
   ],
   "source": [
    "spiderman[:6]"
   ]
  },
  {
   "cell_type": "code",
   "execution_count": 96,
   "id": "e7618aee",
   "metadata": {},
   "outputs": [
    {
     "data": {
      "text/plain": [
       "['Wolverine', 'Ironman', 'Arnold Schwarzenegger']"
      ]
     },
     "execution_count": 96,
     "metadata": {},
     "output_type": "execute_result"
    }
   ],
   "source": [
    "superheroes[2:5]"
   ]
  },
  {
   "cell_type": "code",
   "execution_count": 97,
   "id": "ca587ae8",
   "metadata": {},
   "outputs": [
    {
     "data": {
      "text/plain": [
       "['Wolverine', 'Ironman', 'Arnold Schwarzenegger']"
      ]
     },
     "execution_count": 97,
     "metadata": {},
     "output_type": "execute_result"
    }
   ],
   "source": [
    "superheroes[2:100]"
   ]
  },
  {
   "cell_type": "code",
   "execution_count": 98,
   "id": "ab78ec6c",
   "metadata": {},
   "outputs": [
    {
     "data": {
      "text/plain": [
       "['Wolverine', 'Ironman', 'Arnold Schwarzenegger']"
      ]
     },
     "execution_count": 98,
     "metadata": {},
     "output_type": "execute_result"
    }
   ],
   "source": [
    "superheroes[2:]"
   ]
  },
  {
   "cell_type": "code",
   "execution_count": 99,
   "id": "fc437b29",
   "metadata": {},
   "outputs": [
    {
     "data": {
      "text/plain": [
       "'rman'"
      ]
     },
     "execution_count": 99,
     "metadata": {},
     "output_type": "execute_result"
    }
   ],
   "source": [
    "spiderman[5:12]"
   ]
  },
  {
   "cell_type": "code",
   "execution_count": 100,
   "id": "0585de2c",
   "metadata": {},
   "outputs": [
    {
     "data": {
      "text/plain": [
       "'rman'"
      ]
     },
     "execution_count": 100,
     "metadata": {},
     "output_type": "execute_result"
    }
   ],
   "source": [
    "spiderman[5:]"
   ]
  },
  {
   "cell_type": "code",
   "execution_count": 101,
   "id": "0c68bcf1",
   "metadata": {},
   "outputs": [
    {
     "data": {
      "text/plain": [
       "'derm'"
      ]
     },
     "execution_count": 101,
     "metadata": {},
     "output_type": "execute_result"
    }
   ],
   "source": [
    "spiderman[3:-2]"
   ]
  },
  {
   "cell_type": "markdown",
   "id": "3ec39410",
   "metadata": {},
   "source": [
    "Dictionaries"
   ]
  },
  {
   "cell_type": "code",
   "execution_count": 102,
   "id": "02f67894",
   "metadata": {},
   "outputs": [],
   "source": [
    "# An unordered collection of key-value pairs\n",
    "# key is unique identifier key must be unique, but value can be dublicated\n",
    "# Not List, order is not guranted\n",
    "# assosiation like restaurant menu"
   ]
  },
  {
   "cell_type": "code",
   "execution_count": 103,
   "id": "ee2395c5",
   "metadata": {},
   "outputs": [],
   "source": [
    "# Filet mignon - 29.99\n",
    "menu = {\n",
    "    \"Filet Mignon\": 29.99,\n",
    "    \"Big Mac\": 3.99,\n",
    "    \"Pizza\": 0.99,\n",
    "    \"Salmon\": 29.99\n",
    "}"
   ]
  },
  {
   "cell_type": "code",
   "execution_count": 104,
   "id": "0b6f16e5",
   "metadata": {},
   "outputs": [
    {
     "data": {
      "text/plain": [
       "{'Filet Mignon': 29.99, 'Big Mac': 3.99, 'Pizza': 0.99, 'Salmon': 29.99}"
      ]
     },
     "execution_count": 104,
     "metadata": {},
     "output_type": "execute_result"
    }
   ],
   "source": [
    "menu # 4 pairs"
   ]
  },
  {
   "cell_type": "code",
   "execution_count": 106,
   "id": "bf600023",
   "metadata": {},
   "outputs": [
    {
     "data": {
      "text/plain": [
       "3.99"
      ]
     },
     "execution_count": 106,
     "metadata": {},
     "output_type": "execute_result"
    }
   ],
   "source": [
    "# key to access value\n",
    "menu[\"Big Mac\"]"
   ]
  },
  {
   "cell_type": "code",
   "execution_count": 108,
   "id": "3faf8cdf",
   "metadata": {},
   "outputs": [],
   "source": [
    "# menu[\"Tuna\"] error\n",
    "# menu['salmon'] error"
   ]
  },
  {
   "cell_type": "code",
   "execution_count": 109,
   "id": "103eef90",
   "metadata": {},
   "outputs": [],
   "source": [
    "menu[\"Burrito\"] = 13.99"
   ]
  },
  {
   "cell_type": "code",
   "execution_count": 110,
   "id": "151ae552",
   "metadata": {},
   "outputs": [
    {
     "data": {
      "text/plain": [
       "{'Filet Mignon': 29.99,\n",
       " 'Big Mac': 3.99,\n",
       " 'Pizza': 0.99,\n",
       " 'Salmon': 29.99,\n",
       " 'Burrito': 13.99}"
      ]
     },
     "execution_count": 110,
     "metadata": {},
     "output_type": "execute_result"
    }
   ],
   "source": [
    "menu"
   ]
  },
  {
   "cell_type": "code",
   "execution_count": 111,
   "id": "f3847f64",
   "metadata": {},
   "outputs": [],
   "source": [
    "# overwrite the value\n",
    "menu[\"Big Mac\"] = 5.99"
   ]
  },
  {
   "cell_type": "code",
   "execution_count": 112,
   "id": "09656b96",
   "metadata": {},
   "outputs": [
    {
     "data": {
      "text/plain": [
       "{'Filet Mignon': 29.99,\n",
       " 'Big Mac': 5.99,\n",
       " 'Pizza': 0.99,\n",
       " 'Salmon': 29.99,\n",
       " 'Burrito': 13.99}"
      ]
     },
     "execution_count": 112,
     "metadata": {},
     "output_type": "execute_result"
    }
   ],
   "source": [
    "menu"
   ]
  },
  {
   "cell_type": "code",
   "execution_count": 113,
   "id": "6720a2e1",
   "metadata": {},
   "outputs": [
    {
     "data": {
      "text/plain": [
       "29.99"
      ]
     },
     "execution_count": 113,
     "metadata": {},
     "output_type": "execute_result"
    }
   ],
   "source": [
    "menu.pop(\"Filet Mignon\") # remove"
   ]
  },
  {
   "cell_type": "code",
   "execution_count": 114,
   "id": "3d527080",
   "metadata": {},
   "outputs": [
    {
     "data": {
      "text/plain": [
       "{'Big Mac': 5.99, 'Pizza': 0.99, 'Salmon': 29.99, 'Burrito': 13.99}"
      ]
     },
     "execution_count": 114,
     "metadata": {},
     "output_type": "execute_result"
    }
   ],
   "source": [
    "menu  # mutated"
   ]
  },
  {
   "cell_type": "code",
   "execution_count": 115,
   "id": "2ee65068",
   "metadata": {},
   "outputs": [
    {
     "data": {
      "text/plain": [
       "True"
      ]
     },
     "execution_count": 115,
     "metadata": {},
     "output_type": "execute_result"
    }
   ],
   "source": [
    "\"Pizza\" in menu"
   ]
  },
  {
   "cell_type": "code",
   "execution_count": 116,
   "id": "304ac1bf",
   "metadata": {},
   "outputs": [
    {
     "data": {
      "text/plain": [
       "False"
      ]
     },
     "execution_count": 116,
     "metadata": {},
     "output_type": "execute_result"
    }
   ],
   "source": [
    "\"Hot Pockets\" in menu"
   ]
  },
  {
   "cell_type": "code",
   "execution_count": 117,
   "id": "b4ee3321",
   "metadata": {},
   "outputs": [
    {
     "data": {
      "text/plain": [
       "True"
      ]
     },
     "execution_count": 117,
     "metadata": {},
     "output_type": "execute_result"
    }
   ],
   "source": [
    "\"Bubble Gum\" not in menu"
   ]
  },
  {
   "cell_type": "code",
   "execution_count": 118,
   "id": "e029002b",
   "metadata": {},
   "outputs": [
    {
     "data": {
      "text/plain": [
       "False"
      ]
     },
     "execution_count": 118,
     "metadata": {},
     "output_type": "execute_result"
    }
   ],
   "source": [
    "\"Burrito\" not in menu"
   ]
  },
  {
   "cell_type": "code",
   "execution_count": 119,
   "id": "7cc39277",
   "metadata": {},
   "outputs": [
    {
     "data": {
      "text/plain": [
       "False"
      ]
     },
     "execution_count": 119,
     "metadata": {},
     "output_type": "execute_result"
    }
   ],
   "source": [
    "5.99 in menu # only can be looking for key"
   ]
  },
  {
   "cell_type": "code",
   "execution_count": 120,
   "id": "c4428660",
   "metadata": {},
   "outputs": [
    {
     "data": {
      "text/plain": [
       "dict_values([5.99, 0.99, 29.99, 13.99])"
      ]
     },
     "execution_count": 120,
     "metadata": {},
     "output_type": "execute_result"
    }
   ],
   "source": [
    "menu.values()"
   ]
  },
  {
   "cell_type": "code",
   "execution_count": 121,
   "id": "72849eaa",
   "metadata": {},
   "outputs": [
    {
     "data": {
      "text/plain": [
       "True"
      ]
     },
     "execution_count": 121,
     "metadata": {},
     "output_type": "execute_result"
    }
   ],
   "source": [
    "5.99 in menu.values()"
   ]
  },
  {
   "cell_type": "code",
   "execution_count": 122,
   "id": "5cf7a40c",
   "metadata": {},
   "outputs": [
    {
     "data": {
      "text/plain": [
       "False"
      ]
     },
     "execution_count": 122,
     "metadata": {},
     "output_type": "execute_result"
    }
   ],
   "source": [
    "99.95 in menu.values()"
   ]
  }
 ],
 "metadata": {
  "kernelspec": {
   "display_name": "Python 3 (ipykernel)",
   "language": "python",
   "name": "python3"
  },
  "language_info": {
   "codemirror_mode": {
    "name": "ipython",
    "version": 3
   },
   "file_extension": ".py",
   "mimetype": "text/x-python",
   "name": "python",
   "nbconvert_exporter": "python",
   "pygments_lexer": "ipython3",
   "version": "3.10.9"
  }
 },
 "nbformat": 4,
 "nbformat_minor": 5
}
